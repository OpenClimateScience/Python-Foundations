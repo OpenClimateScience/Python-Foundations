{
 "cells": [
  {
   "cell_type": "markdown",
   "id": "cd60789e",
   "metadata": {},
   "source": [
    "# Numerical Data in Python\n",
    "\n",
    "*2 hours*\n",
    "\n",
    "**Contents:**\n",
    "\n",
    "- [Introducing NumPy](#Introducing-NumPy)\n",
    "- [Working with NumPy Arrays](#Working-with-NumPy-Arrays)\n",
    "- [Calculations on NumPy Arrays](#Calculations-on-NumPy-Arrays)\n",
    "- [Sorting and Filtering Arrays](#Sorting-and-Filtering-Arrays)\n",
    "- [Reshaping Arrays](#Reshaping-Arrays)\n",
    "- [Plotting with `matplotlib`](#Plotting-with-matplotlib)"
   ]
  },
  {
   "cell_type": "markdown",
   "id": "a05a0343",
   "metadata": {},
   "source": [
    "---\n",
    "\n",
    "## Introducting NumPy"
   ]
  },
  {
   "cell_type": "markdown",
   "id": "1b6a8f47",
   "metadata": {},
   "source": [
    "So far, we've been working with built-in Python data structures and functions. We've loaded data from some text files and worked with sequences of numbers. But most scientific datasets have more *structure* than we're able to represent with a CSV file. Many are also large enough that a CSV file isn't the best format to use.\n",
    "\n",
    "Today, we'll introduce a powerful and widely used Python extension that is essential for working with numerical data. NumPy has been around for over 20 years and thousands of users have contributed code to the library. It's no exaggeration to say that NumPy is probably the most important Python library ever developed, as countless other libraries are built on top of NumPy."
   ]
  },
  {
   "cell_type": "code",
   "execution_count": null,
   "id": "4f6826dc",
   "metadata": {},
   "outputs": [],
   "source": [
    "import numpy as np"
   ]
  },
  {
   "cell_type": "markdown",
   "id": "24f35075",
   "metadata": {},
   "source": [
    "It's a strong convention to abbreviate the name of `numpy` to `np`.\n",
    "\n",
    "**The key component of `numpy` is the `numpy.ndarray` data type,** or $n$-dimensional array."
   ]
  },
  {
   "cell_type": "code",
   "execution_count": null,
   "id": "d91336ff",
   "metadata": {},
   "outputs": [],
   "source": [
    "arr = np.array([1, 2, 3])\n",
    "arr"
   ]
  },
  {
   "cell_type": "markdown",
   "id": "db181a1e",
   "metadata": {},
   "source": [
    "If we compare the `ndarray` to the most similar built-in data structure, the `list`, we'll see some important differences."
   ]
  },
  {
   "cell_type": "code",
   "execution_count": null,
   "id": "9c5523b5",
   "metadata": {},
   "outputs": [],
   "source": [
    "np.array([1, True, 3])"
   ]
  },
  {
   "cell_type": "markdown",
   "id": "ef30509b",
   "metadata": {},
   "source": [
    "**First, unlike lists, `numpy` arrays can only hold one type of data.** There are multiple data types to choose from and every array has an explicitly defined type."
   ]
  },
  {
   "cell_type": "code",
   "execution_count": null,
   "id": "8f81390f",
   "metadata": {},
   "outputs": [],
   "source": [
    "arr.dtype"
   ]
  },
  {
   "cell_type": "code",
   "execution_count": null,
   "id": "b4350166",
   "metadata": {},
   "outputs": [],
   "source": [
    "np.array([3.14, 2.1]).dtype"
   ]
  },
  {
   "cell_type": "markdown",
   "id": "9c65814d",
   "metadata": {},
   "source": [
    "**Second, a `numpy` array can have multiple dimensions, or axes,** whereas a `list` can only contain nested lists, which is a confusing way to try and represent more than one dimension."
   ]
  },
  {
   "cell_type": "code",
   "execution_count": null,
   "id": "34baf338",
   "metadata": {},
   "outputs": [],
   "source": [
    "xy = [[42.0, 45.5], [-118.1, -118.2]]\n",
    "xy"
   ]
  },
  {
   "cell_type": "code",
   "execution_count": null,
   "id": "52011535",
   "metadata": {},
   "outputs": [],
   "source": [
    "arr = np.array(xy)\n",
    "arr"
   ]
  },
  {
   "cell_type": "markdown",
   "id": "9d5ccc11",
   "metadata": {},
   "source": [
    "We can index a `numpy` array just like other sequences. We'll learn more about this in a moment."
   ]
  },
  {
   "cell_type": "code",
   "execution_count": null,
   "id": "1216720f",
   "metadata": {},
   "outputs": [],
   "source": [
    "arr[0]"
   ]
  },
  {
   "cell_type": "markdown",
   "id": "562de85b",
   "metadata": {},
   "source": [
    "In this example, it might make more sense to have the latitudes and longitudes in separate columns (instead of in rows). We can get a *transposed* copy of the array by typing:"
   ]
  },
  {
   "cell_type": "code",
   "execution_count": null,
   "id": "e126cd5a",
   "metadata": {},
   "outputs": [],
   "source": [
    "arr.T"
   ]
  },
  {
   "cell_type": "code",
   "execution_count": null,
   "id": "55da5d76",
   "metadata": {},
   "outputs": [],
   "source": [
    "arr.ndim"
   ]
  },
  {
   "cell_type": "code",
   "execution_count": null,
   "id": "02fb81ef",
   "metadata": {},
   "outputs": [],
   "source": [
    "arr.shape"
   ]
  },
  {
   "cell_type": "markdown",
   "id": "732abece",
   "metadata": {},
   "source": [
    "You may be tempted to ask how many elements are in a `numpy` array..."
   ]
  },
  {
   "cell_type": "code",
   "execution_count": null,
   "id": "13de6821",
   "metadata": {},
   "outputs": [],
   "source": [
    "# The WRONG way\n",
    "len(arr)"
   ]
  },
  {
   "cell_type": "code",
   "execution_count": null,
   "id": "cbdfb5a3",
   "metadata": {},
   "outputs": [],
   "source": [
    "# The correct way\n",
    "arr.size"
   ]
  },
  {
   "cell_type": "markdown",
   "id": "be67bb28",
   "metadata": {},
   "source": [
    "**Finally, operations on `numpy` arrays can be executed much more quickly and efficiently than on `lists`.** If you are working with numeric data of any size, you're much better off putting it in a `numpy` array than a `list` or `tuple`. This is especially true for very large datasets."
   ]
  },
  {
   "cell_type": "markdown",
   "id": "515836b8",
   "metadata": {},
   "source": [
    "---"
   ]
  },
  {
   "cell_type": "markdown",
   "id": "9dbda277",
   "metadata": {},
   "source": [
    "## Working with NumPy Arrays"
   ]
  },
  {
   "cell_type": "markdown",
   "id": "03fc3d96",
   "metadata": {},
   "source": [
    "For the rest of this lesson, we'll be working with [data on near-surface air temperatures from the NOAA Climate Prediction Center (CPC).](http://iridl.ldeo.columbia.edu/SOURCES/.NOAA/.NCEP/.CPC/.GHCN_CAMS/.gridded/.deg0p5/index.html) \n",
    "\n",
    "Though the CPC has the word \"prediction\" in its name, it also performs what are called *re-analyses,* where historical climate data are reproduced by combining weather station data with computer models. Here, we use a re-analysis of the past 75 years of air temperatures across the globe.\n",
    "\n",
    "**I subset these data to the city of Algiers, Algeria.**"
   ]
  },
  {
   "cell_type": "code",
   "execution_count": null,
   "id": "4c59d4c1",
   "metadata": {},
   "outputs": [],
   "source": [
    "import pandas as pd\n",
    "\n",
    "temps = pd.read_csv(\n",
    "    'http://files.ntsg.umt.edu/data/GIS_Programming/data/NOAA_NCEP_CPC_gridded_deg0p5_1948-2022_Algiers.txt',\n",
    "    header = None).to_numpy()"
   ]
  },
  {
   "cell_type": "markdown",
   "id": "7ade80c2",
   "metadata": {},
   "source": [
    "Again, a chief advantage of `numpy` arrays is their ability to represent multi-dimensional data. **What do we mean by multi-dimensional?**\n",
    "\n",
    "A collection of data values can be *structured* in multiple ways...\n",
    "\n",
    "- Time series data consist of values that is associated with a series of points in time.\n",
    "- Spatial data consist of values that are associated, usually, with a series of numbers that represent spatial coordinates.\n",
    "\n",
    "Imagine we're collecting soil samples along a 100-meter transect in a forest. For every soil sample measurement, we'll mark how far along the transect it was collected, from 0 to 100, indicating the distance from one end of the transect. If we collected data every 1 meter, we'd have 100 soil sample measurements. The numbers 0 to 100 then also represent a way of indexing those measurements. This is an example of one-dimensional data, structured by a single axis; in this case, distance.\n",
    "\n",
    "Now imagine we want to collect soil samples in a 100 m-by-100 m grid (100 square meters). In this case, we need two numbers to represent the location of each soil sample, so the data we collect will be 2-dimensional, with one axis representing the distance along one side of the grid and the other axis representing the distance along the other.\n",
    "\n",
    "**The NOAA CPC provides mean, monthly near-surface air temperatures each year. The shape of our multi-dimensional array is...**"
   ]
  },
  {
   "cell_type": "code",
   "execution_count": null,
   "id": "8f4be5a5",
   "metadata": {},
   "outputs": [],
   "source": [
    "temps.shape"
   ]
  },
  {
   "cell_type": "markdown",
   "id": "9eca3d2e",
   "metadata": {},
   "source": [
    "**What do these two axes correspond to?**\n",
    "\n",
    "How can we get the first year of data?"
   ]
  },
  {
   "cell_type": "code",
   "execution_count": null,
   "id": "1cd52722",
   "metadata": {},
   "outputs": [],
   "source": [
    "temps[0]"
   ]
  },
  {
   "cell_type": "markdown",
   "id": "80096853",
   "metadata": {},
   "source": [
    "What about the first month of data?"
   ]
  },
  {
   "cell_type": "code",
   "execution_count": null,
   "id": "eeb1355a",
   "metadata": {},
   "outputs": [],
   "source": [
    "temps[0,0]"
   ]
  },
  {
   "cell_type": "markdown",
   "id": "6f0c06e5",
   "metadata": {},
   "source": [
    "When we index (2-dimensional) `numpy` arrays, remember that we count rows first and columns second. So, for example, if we want to get the month of January in every year..."
   ]
  },
  {
   "cell_type": "code",
   "execution_count": null,
   "id": "17957db1",
   "metadata": {},
   "outputs": [],
   "source": [
    "temps[:,0]"
   ]
  },
  {
   "cell_type": "markdown",
   "id": "846a3ecf",
   "metadata": {},
   "source": [
    "If we want just the first 5 years, we could write:"
   ]
  },
  {
   "cell_type": "code",
   "execution_count": null,
   "id": "4ee1f00e",
   "metadata": {},
   "outputs": [],
   "source": [
    "temps[0:5]"
   ]
  },
  {
   "cell_type": "markdown",
   "id": "a4aee896",
   "metadata": {},
   "source": [
    "**The colon symbol, `:`, is the *slicing* operator.**\n",
    "\n",
    "Above, `temps[0:5]` can be read as \"Start at index 0 and go up to, *but not including,* index 5.\" Because Python starts counting at zero, we get 5 years of data; recall that index 5 would refer to the *sixth* year of data, in this example.\n",
    "\n",
    "When we use the slicing operator without any numbers, it means \"take everything\" on that axis. Hence, the following two examples are the same:"
   ]
  },
  {
   "cell_type": "code",
   "execution_count": null,
   "id": "9e3056ea",
   "metadata": {},
   "outputs": [],
   "source": [
    "temps[0,:]"
   ]
  },
  {
   "cell_type": "code",
   "execution_count": null,
   "id": "37763395",
   "metadata": {},
   "outputs": [],
   "source": [
    "temps[0]"
   ]
  },
  {
   "cell_type": "markdown",
   "id": "ddcbb547",
   "metadata": {},
   "source": [
    "Note that we can also use *negative indexing* in `numpy` arrays, just as with Python lists or tuples..."
   ]
  },
  {
   "cell_type": "code",
   "execution_count": null,
   "id": "5252a251",
   "metadata": {},
   "outputs": [],
   "source": [
    "# The last year of temperature data\n",
    "temps[-1]"
   ]
  },
  {
   "cell_type": "code",
   "execution_count": null,
   "id": "8b43a571",
   "metadata": {},
   "outputs": [],
   "source": [
    "# The last three years of temperature data\n",
    "temps[-3:]"
   ]
  },
  {
   "cell_type": "markdown",
   "id": "1017210d",
   "metadata": {},
   "source": [
    "Here are some other examples of indexing an array that has three rows and two columns:"
   ]
  },
  {
   "cell_type": "code",
   "execution_count": null,
   "id": "a503762f",
   "metadata": {},
   "outputs": [],
   "source": [
    "data = np.array([[1, 2], [3, 4], [5, 6]])\n",
    "data"
   ]
  },
  {
   "cell_type": "markdown",
   "id": "7f01c9b0",
   "metadata": {},
   "source": [
    "![](./assets/numpy-matrix-indexing.png)\n",
    "\n",
    "*Image is from a presentation by Mauricio Sevilla.*"
   ]
  },
  {
   "cell_type": "markdown",
   "id": "f2b7f1f4",
   "metadata": {},
   "source": [
    "---"
   ]
  },
  {
   "cell_type": "markdown",
   "id": "be53c109",
   "metadata": {},
   "source": [
    "### Challenge: Working with Multi-dimensional Arrays"
   ]
  },
  {
   "cell_type": "markdown",
   "id": "ab791618",
   "metadata": {},
   "source": [
    "1. What's the average July temperature in Algiers over the years?\n",
    "2. What was the minimum monthly temperature in 1979? Recall that the years of this data extend from 1948 through 2022."
   ]
  },
  {
   "cell_type": "markdown",
   "id": "8eb5567b",
   "metadata": {},
   "source": [
    "---"
   ]
  },
  {
   "cell_type": "markdown",
   "id": "b6538a72",
   "metadata": {},
   "source": [
    "## Calculations on NumPy Arrays"
   ]
  },
  {
   "cell_type": "markdown",
   "id": "223ae0a2",
   "metadata": {},
   "source": [
    "Because `numpy.ndarray` is an object, NumPy arrays know how to perform mathematical operations on themselves. This allows us to treat them like pure numbers!"
   ]
  },
  {
   "cell_type": "code",
   "execution_count": null,
   "id": "e29e4ebd",
   "metadata": {},
   "outputs": [],
   "source": [
    "# Convert temperatures from deg C to deg K\n",
    "temps_k = temps + 273.15\n",
    "temps_k[0]"
   ]
  },
  {
   "cell_type": "markdown",
   "id": "9f6f3c4a",
   "metadata": {},
   "source": [
    "**How can we calculate the average of the first two years of temperatures in this record?**"
   ]
  },
  {
   "cell_type": "code",
   "execution_count": null,
   "id": "61c7959a",
   "metadata": {},
   "outputs": [],
   "source": [
    "(temps[0] + temps[1]) / 2"
   ]
  },
  {
   "cell_type": "markdown",
   "id": "575f131e",
   "metadata": {},
   "source": [
    "Of course, we're ultimately going to want to do much more than add and multiply arrays together. NumPy arrays also have more sophisticated methods built-in."
   ]
  },
  {
   "cell_type": "code",
   "execution_count": null,
   "id": "9af760a1",
   "metadata": {},
   "outputs": [],
   "source": [
    "temps.mean()"
   ]
  },
  {
   "cell_type": "markdown",
   "id": "befa2fd3",
   "metadata": {},
   "source": [
    "If we don't provide any arguments to the `mean()` method when it is called on a `numpy.ndarray`, then we get the *overall mean,* i.e., the mean of the entire dataset.\n",
    "\n",
    "But what if we wanted to calculate the mean January temperature? We could either filter the data **or we could tell the `temps` array that we want to calculate the mean across a given axis.**"
   ]
  },
  {
   "cell_type": "code",
   "execution_count": null,
   "id": "d07ac88b",
   "metadata": {},
   "outputs": [],
   "source": [
    "temps.mean(axis = 0)"
   ]
  },
  {
   "cell_type": "markdown",
   "id": "d4601d14",
   "metadata": {},
   "source": [
    "Above, `axis = 0` indicates that we want to *collapse* the years axis (first axis, or axis at position 0) when calculating the mean. If we're in doubt, we can always ask for:"
   ]
  },
  {
   "cell_type": "code",
   "execution_count": null,
   "id": "b6f47122",
   "metadata": {},
   "outputs": [],
   "source": [
    "temps.mean(axis = 0).shape"
   ]
  },
  {
   "cell_type": "markdown",
   "id": "3814bcfa",
   "metadata": {},
   "source": [
    "**Can you guess what this array represents?**"
   ]
  },
  {
   "cell_type": "code",
   "execution_count": null,
   "id": "70d6d9bb",
   "metadata": {},
   "outputs": [],
   "source": [
    "temps.mean(axis = 1)"
   ]
  },
  {
   "cell_type": "markdown",
   "id": "450d1733",
   "metadata": {},
   "source": [
    "It can be very difficult to remember what `axis` to use in calculating a summary... Here's a helpful visual representation.\n",
    "\n",
    "![](assets/numpy-axis.jpg)\n",
    "\n",
    "*Image courtesy of Alex Riley*"
   ]
  },
  {
   "cell_type": "markdown",
   "id": "6f417a9b",
   "metadata": {},
   "source": [
    "**We might also ask: How warm was the coldest July in Utqiagvik?**"
   ]
  },
  {
   "cell_type": "code",
   "execution_count": null,
   "id": "84b1308c",
   "metadata": {},
   "outputs": [],
   "source": [
    "temps[:,6].max()"
   ]
  },
  {
   "cell_type": "markdown",
   "id": "3bca9833",
   "metadata": {},
   "source": [
    "---"
   ]
  },
  {
   "cell_type": "markdown",
   "id": "0f57cbd7",
   "metadata": {},
   "source": [
    "### Challenge: Statistical Summary of an Array"
   ]
  },
  {
   "cell_type": "markdown",
   "id": "2a7b29f5",
   "metadata": {},
   "source": [
    "What's the minimum, maximum, and mean monthly temperature for August in Algiers?"
   ]
  },
  {
   "cell_type": "markdown",
   "id": "387ff079",
   "metadata": {},
   "source": [
    "---"
   ]
  },
  {
   "cell_type": "markdown",
   "id": "e981b6e6",
   "metadata": {},
   "source": [
    "## Break!\n",
    "\n",
    "*A 10-minute break for learners.*"
   ]
  },
  {
   "cell_type": "markdown",
   "id": "6630de65",
   "metadata": {},
   "source": [
    "---\n",
    "\n",
    "## Sorting and Filtering Arrays"
   ]
  },
  {
   "cell_type": "markdown",
   "id": "34f94260",
   "metadata": {},
   "source": [
    "How can we filter the contents of an array?\n",
    "\n",
    "For example, suppose that we wanted to use these temperature data to predict when we should wear a jacket (*veste*) in Algiers: \"jacket weather\" is defined as any day when the mean monthly temperature is below 15 deg C."
   ]
  },
  {
   "cell_type": "code",
   "execution_count": null,
   "id": "ef4802c4",
   "metadata": {},
   "outputs": [],
   "source": [
    "jacket = temps < 15\n",
    "jacket[0]"
   ]
  },
  {
   "cell_type": "markdown",
   "id": "e79108a9",
   "metadata": {},
   "source": [
    "Just like addition and multiplication, we can perform *logical* operations on arrays. In the above example, we can ask *where* in the `numpy` array the temperature is less than 15 deg C. The result is a new type of array, a boolean array."
   ]
  },
  {
   "cell_type": "code",
   "execution_count": null,
   "id": "7c5edd89",
   "metadata": {},
   "outputs": [],
   "source": [
    "jacket.dtype"
   ]
  },
  {
   "cell_type": "markdown",
   "id": "db2dbd37",
   "metadata": {},
   "source": [
    "And this *boolean array* has the same shape as `temps`:"
   ]
  },
  {
   "cell_type": "code",
   "execution_count": null,
   "id": "0827af25",
   "metadata": {},
   "outputs": [],
   "source": [
    "jacket.shape"
   ]
  },
  {
   "cell_type": "markdown",
   "id": "6fd77f95",
   "metadata": {},
   "source": [
    "**How can we use this insight to filter arrays?**"
   ]
  },
  {
   "cell_type": "code",
   "execution_count": null,
   "id": "b3f571e8",
   "metadata": {},
   "outputs": [],
   "source": [
    "temps[temps < 15]"
   ]
  },
  {
   "cell_type": "markdown",
   "id": "8820e5e7",
   "metadata": {},
   "source": [
    "**This is the second way of indexing the contents of an array.**\n",
    "\n",
    "- We can index an array based on numeric indices, for example: `temps[0]` or `temps[0:5]`\n",
    "- Or, we can index an array by providing a *boolean array* of the same shape, for example: `temps[temps > 20]`\n",
    "\n",
    "For example, if we wanted to create a new dataset that contains 1 when it is \"jacket weather\" but 0 otherwise, we could write..."
   ]
  },
  {
   "cell_type": "code",
   "execution_count": null,
   "id": "c0a46c12",
   "metadata": {},
   "outputs": [],
   "source": [
    "# Create a new array, full of zeros, with the same shape as temps\n",
    "jacket = np.zeros(temps.shape)\n",
    "jacket.shape"
   ]
  },
  {
   "cell_type": "markdown",
   "id": "22b4b845",
   "metadata": {},
   "source": [
    "We can use the filtering syntax to assign values to an array *only where the conditional expression evaluates to true.*"
   ]
  },
  {
   "cell_type": "code",
   "execution_count": null,
   "id": "042fde14",
   "metadata": {},
   "outputs": [],
   "source": [
    "jacket[temps < 15] = 1\n",
    "\n",
    "print(temps[0])\n",
    "print(jacket[0])"
   ]
  },
  {
   "cell_type": "markdown",
   "id": "203e84eb",
   "metadata": {},
   "source": [
    "An easier way of doing this is to use the `numpy.where()` function:"
   ]
  },
  {
   "cell_type": "code",
   "execution_count": null,
   "id": "c359da8d",
   "metadata": {},
   "outputs": [],
   "source": [
    "# np.where() takes three arguments, the first is a conditional expression;\n",
    "#    2nd argument is the value to return if the expression is true\n",
    "#    3rd argument is the value to return if the expression is false\n",
    "jacket2 = np.where(temps < 15, 1, 0)\n",
    "jacket2[0]"
   ]
  },
  {
   "cell_type": "markdown",
   "id": "56cf12b3",
   "metadata": {},
   "source": [
    "Are we getting the same result?"
   ]
  },
  {
   "cell_type": "code",
   "execution_count": null,
   "id": "ac7e1d2f",
   "metadata": {},
   "outputs": [],
   "source": [
    "np.equal(jacket, jacket2).all()"
   ]
  },
  {
   "cell_type": "markdown",
   "id": "dd20ead8",
   "metadata": {},
   "source": [
    "This is great so far, but we our `jacket` array doesn't tell us *which months* are \"jacket weather;\" what if wanted to know *when* we should wear a jacket?"
   ]
  },
  {
   "cell_type": "code",
   "execution_count": null,
   "id": "a90d157d",
   "metadata": {},
   "outputs": [],
   "source": [
    "when_jacket = np.argwhere(temps < 15)\n",
    "\n",
    "# Just the first 5 rows\n",
    "when_jacket[0:5]"
   ]
  },
  {
   "cell_type": "markdown",
   "id": "6ca712d8",
   "metadata": {},
   "source": [
    "`np.argwhere()` returns an array with N columns where N is the number of dimensions of the input boolean array. Our `temps` array (and our boolean array, `temps < 15`), have 2 dimensions:\n",
    "\n",
    "- Year dimension (first axis)\n",
    "- Month dimension (second axis)\n",
    "\n",
    "So, if we want to see all the months where `temps < 15`, we should index the second column of `np.where(temps < 15)`:"
   ]
  },
  {
   "cell_type": "code",
   "execution_count": null,
   "id": "5334dedf",
   "metadata": {},
   "outputs": [],
   "source": [
    "when_jacket[:,1]"
   ]
  },
  {
   "cell_type": "markdown",
   "id": "d325b981",
   "metadata": {},
   "source": [
    "The output of `numpy.argwhere()` is an array that gives the indices of where an array expression evaluates to `True`. Because our `temps` array is 2D, the result of `argwhere()` is a 2D array.\n",
    "\n",
    "- Every row of `when_jacket` represents an entry where the boolean array `temps < 15` is `True`\n",
    "- The first column of `when_jacket` indicates the row *in the boolean array* where an entry is `True`\n",
    "- The second column of `when_jacket` indicates the column *in the boolean array* where an entry is `True`"
   ]
  },
  {
   "cell_type": "markdown",
   "id": "25bb6f55",
   "metadata": {},
   "source": [
    "For example, we can see that \"jacket weather\" occurs in the following months..."
   ]
  },
  {
   "cell_type": "code",
   "execution_count": null,
   "id": "42f4b6d9",
   "metadata": {},
   "outputs": [],
   "source": [
    "# Add 1 to get a familiar month number (because Python starts counting at zero)\n",
    "np.unique(when_jacket[:,1]) + 1"
   ]
  },
  {
   "cell_type": "markdown",
   "id": "a5d246fb",
   "metadata": {},
   "source": [
    "That is: January, February, March, April, November, and December."
   ]
  },
  {
   "cell_type": "markdown",
   "id": "c6619bb0",
   "metadata": {},
   "source": [
    "---"
   ]
  },
  {
   "cell_type": "markdown",
   "id": "1fcd1972",
   "metadata": {},
   "source": [
    "## Reshaping Arrays"
   ]
  },
  {
   "cell_type": "markdown",
   "id": "9fc630df",
   "metadata": {},
   "source": [
    "As we've seen if we want to get the transpose of an array, we can write:"
   ]
  },
  {
   "cell_type": "code",
   "execution_count": null,
   "id": "455654c7",
   "metadata": {},
   "outputs": [],
   "source": [
    "temps.T.shape"
   ]
  },
  {
   "cell_type": "code",
   "execution_count": null,
   "id": "d16fad57",
   "metadata": {},
   "outputs": [],
   "source": [
    "# Now, the first row is the first year of data, not the first month\n",
    "temps.T[0]"
   ]
  },
  {
   "cell_type": "markdown",
   "id": "f729b6c7",
   "metadata": {},
   "source": [
    "Are there other ways we can change the shape of arrays?"
   ]
  },
  {
   "cell_type": "code",
   "execution_count": null,
   "id": "cacc3123",
   "metadata": {},
   "outputs": [],
   "source": [
    "year1 = temps[0]\n",
    "year1"
   ]
  },
  {
   "cell_type": "code",
   "execution_count": null,
   "id": "902bb693",
   "metadata": {},
   "outputs": [],
   "source": [
    "year1.shape"
   ]
  },
  {
   "cell_type": "code",
   "execution_count": null,
   "id": "f20f38d3",
   "metadata": {},
   "outputs": [],
   "source": [
    "# For example, what if we wanted an axis for seasons?\n",
    "year1.reshape((4, 3))"
   ]
  },
  {
   "cell_type": "markdown",
   "id": "911b52e8",
   "metadata": {},
   "source": [
    "Because `year1` has 12 months (one year), we can easily reshape that 1D array into a 2D array with $4 \\times 3 = 12$ elements. Now:\n",
    "\n",
    "- The first axis (4 elements) represents the season: Winter, Spring, Summer, Fall\n",
    "- The second axis (3 elements) represents the month within each season\n",
    "\n",
    "We can do this for the entire `temps` array, too!"
   ]
  },
  {
   "cell_type": "code",
   "execution_count": null,
   "id": "a3b8f916",
   "metadata": {},
   "outputs": [],
   "source": [
    "# For example, what if we wanted an axis for seasons?\n",
    "temps2 = temps.reshape((75, 4, 3))\n",
    "temps2[0]"
   ]
  },
  {
   "cell_type": "markdown",
   "id": "09c264cc",
   "metadata": {},
   "source": [
    "In the above example, we kept the first axis at 75 elements--that means 75 years. But we created a new, third axis, so the last two axes are now season (axis with 4 elements) and month-within-season (axis with 3 elements).\n",
    "\n",
    "`reshape()` only works if the resulting shape can contain the same number of elements."
   ]
  },
  {
   "cell_type": "code",
   "execution_count": null,
   "id": "cadfb45c",
   "metadata": {},
   "outputs": [],
   "source": [
    "temps.reshape((10, 12))"
   ]
  },
  {
   "cell_type": "code",
   "execution_count": null,
   "id": "2fb4b349",
   "metadata": {},
   "outputs": [],
   "source": [
    "75 * 4 * 3"
   ]
  },
  {
   "cell_type": "code",
   "execution_count": null,
   "id": "63214e91",
   "metadata": {},
   "outputs": [],
   "source": [
    "temps.size"
   ]
  },
  {
   "cell_type": "markdown",
   "id": "371a2788",
   "metadata": {},
   "source": [
    "When we use `reshape()` we want to be careful to make sure that the result is what we expected. There's obviously more than one way to take the rows and columns of the original array and breaking them apart into a different shape. [You can read more about the *order* in which array elements are reshaped here,](https://numpy.org/devdocs/user/absolute_beginners.html#can-you-reshape-an-array) but this topic is beyond what you need to know for this course.\n",
    "\n",
    "**Often, we want to combine two or more arrays into a single array. There are several ways to do that...**"
   ]
  },
  {
   "cell_type": "code",
   "execution_count": null,
   "id": "5bc78463",
   "metadata": {},
   "outputs": [],
   "source": [
    "# Stack the first two years on top of each other (vertically, i.e., \"v\" in \"vstack\")\n",
    "np.vstack([temps[0], temps[1]])"
   ]
  },
  {
   "cell_type": "code",
   "execution_count": null,
   "id": "5c82da30",
   "metadata": {},
   "outputs": [],
   "source": [
    "# Stack the first two years horizontally; result is a single row\n",
    "np.hstack([temps[0], temps[1]])"
   ]
  },
  {
   "cell_type": "markdown",
   "id": "90005f2d",
   "metadata": {},
   "source": [
    "The more general `stack()` function will let you specify the axis along which the arrays should be joined. For instance, if we wanted to stack the years together as columns instead of as rows..."
   ]
  },
  {
   "cell_type": "code",
   "execution_count": null,
   "id": "15b4a905",
   "metadata": {},
   "outputs": [],
   "source": [
    "np.stack([temps[0], temps[1]], axis = 1)"
   ]
  },
  {
   "cell_type": "markdown",
   "id": "3b244e33",
   "metadata": {},
   "source": [
    "---"
   ]
  },
  {
   "cell_type": "markdown",
   "id": "ec716d88",
   "metadata": {},
   "source": [
    "## Plotting with matplotlib"
   ]
  },
  {
   "cell_type": "markdown",
   "id": "e07e2946",
   "metadata": {},
   "source": [
    "There's a lot more we can do with NumPy arrays, but first we should learn how to visualize multi-dimensional array data, at least to make things more interesting.\n",
    "\n",
    "**`matplotlib` is a basic plotting library for Python. Most of the time we use it, we'll actually import the `pyplot` submodule.**"
   ]
  },
  {
   "cell_type": "code",
   "execution_count": null,
   "id": "a71f40ab",
   "metadata": {},
   "outputs": [],
   "source": [
    "from matplotlib import pyplot\n",
    "\n",
    "pyplot.imshow(temps, aspect = 1/4)"
   ]
  },
  {
   "cell_type": "markdown",
   "id": "5289c641",
   "metadata": {},
   "source": [
    "Above, we've created a rugplot using `pyplot.imshow()` or \"image-show,\" a quick way to plot 2D arrays as if they were images. Warmer colors represent higher temperatures. Can you identify a seasonal pattern across the years?\n",
    "\n",
    "Next, let's look at average temperature over the years."
   ]
  },
  {
   "cell_type": "code",
   "execution_count": null,
   "id": "078f6141",
   "metadata": {},
   "outputs": [],
   "source": [
    "avg_temp = temps.mean(axis = 1)\n",
    "pyplot.plot(avg_temp)"
   ]
  },
  {
   "cell_type": "markdown",
   "id": "bd00d305",
   "metadata": {},
   "source": [
    "**Let's try to understand this last example.**\n",
    "\n",
    "```py\n",
    "help(pyplot.plot)\n",
    "```\n",
    "\n",
    "**How can we improve how this plot looks?**"
   ]
  },
  {
   "cell_type": "code",
   "execution_count": null,
   "id": "d1069ed7",
   "metadata": {},
   "outputs": [],
   "source": [
    "years = np.arange(1948, 2023)\n",
    "years"
   ]
  },
  {
   "cell_type": "code",
   "execution_count": null,
   "id": "16b8e0d0",
   "metadata": {},
   "outputs": [],
   "source": [
    "pyplot.plot(years, avg_temp)\n",
    "pyplot.show()"
   ]
  },
  {
   "cell_type": "code",
   "execution_count": null,
   "id": "100bec03",
   "metadata": {},
   "outputs": [],
   "source": [
    "pyplot.plot(years, avg_temp)\n",
    "pyplot.xlabel('Year')\n",
    "pyplot.ylabel('Mean Monthly Temperature (deg C)')\n",
    "pyplot.show()"
   ]
  },
  {
   "cell_type": "code",
   "execution_count": null,
   "id": "60559992",
   "metadata": {},
   "outputs": [],
   "source": [
    "pyplot.plot(years, avg_temp)\n",
    "pyplot.xlabel('Year')\n",
    "pyplot.ylabel('Mean Monthly Temperature (deg C)')\n",
    "pyplot.xlim(1948, 2000)\n",
    "pyplot.show()"
   ]
  },
  {
   "cell_type": "markdown",
   "id": "46e62e45",
   "metadata": {},
   "source": [
    "**What other kinds of plots can we make?**\n",
    "\n",
    "Earlier, when we typed `pyplot.plot(avg_temp)`, we got a line plot. `pyplot` got a 1D array of values and just assumed the data were equally space and that we wanted to connect them with a line.\n",
    "\n",
    "But `pyplot.plot()` is a more general tool; it can plot any `y` value against any `x` value."
   ]
  },
  {
   "cell_type": "code",
   "execution_count": null,
   "id": "ea6e93c6",
   "metadata": {},
   "outputs": [],
   "source": [
    "# Plotting July temperatures against January temperatures\n",
    "pyplot.plot(temps[:,0], temps[:,6])\n",
    "pyplot.show()"
   ]
  },
  {
   "cell_type": "markdown",
   "id": "03e47317",
   "metadata": {},
   "source": [
    "This would look a lot cleaner if we told `pyplot` how to represent the points; and, specifically, to represent them as dots instead of a connected line."
   ]
  },
  {
   "cell_type": "code",
   "execution_count": null,
   "id": "c5c57784",
   "metadata": {},
   "outputs": [],
   "source": [
    "pyplot.plot(temps[:,0], temps[:,6], 'k.')\n",
    "pyplot.show()"
   ]
  },
  {
   "cell_type": "markdown",
   "id": "d617ea98",
   "metadata": {},
   "source": [
    "`'k.'` is a formatting string; it's a short-hand notation understood by `pyplot` that codes for two things:\n",
    "\n",
    "- Show the points as dots, `.` as the dot symbol\n",
    "- Color the points as black, `k` for \"blacK\" (\"b\" represents blue)\n",
    "\n",
    "[You can see more examples of formats in the `pyplot` documentation.](https://matplotlib.org/stable/api/_as_gen/matplotlib.pyplot.plot.html#matplotlib.pyplot.plot)\n",
    "\n",
    "Alternatively, we could write:"
   ]
  },
  {
   "cell_type": "code",
   "execution_count": null,
   "id": "673e70d6",
   "metadata": {},
   "outputs": [],
   "source": [
    "pyplot.scatter(temps[:,0], temps[:,6])\n",
    "pyplot.show()"
   ]
  },
  {
   "cell_type": "markdown",
   "id": "5ea524fd",
   "metadata": {},
   "source": [
    "---"
   ]
  },
  {
   "cell_type": "markdown",
   "id": "6dfcd9c4",
   "metadata": {},
   "source": [
    "## More Resources"
   ]
  },
  {
   "cell_type": "markdown",
   "id": "5c4b7746",
   "metadata": {},
   "source": [
    "- [Visual introduction to NumPy](https://jmsevillam.github.io/slides/Python/Numpy.slides.html#/)"
   ]
  }
 ],
 "metadata": {
  "kernelspec": {
   "display_name": "Python 3 (ipykernel)",
   "language": "python",
   "name": "python3"
  },
  "language_info": {
   "codemirror_mode": {
    "name": "ipython",
    "version": 3
   },
   "file_extension": ".py",
   "mimetype": "text/x-python",
   "name": "python",
   "nbconvert_exporter": "python",
   "pygments_lexer": "ipython3",
   "version": "3.10.12"
  }
 },
 "nbformat": 4,
 "nbformat_minor": 5
}
