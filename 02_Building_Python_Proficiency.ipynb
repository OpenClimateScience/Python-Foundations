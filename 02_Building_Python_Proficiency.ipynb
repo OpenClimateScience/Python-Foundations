{
 "cells": [
  {
   "cell_type": "markdown",
   "id": "aadc1fc2-c916-421e-85c7-7edb037dae66",
   "metadata": {},
   "source": [
    "# Building Python Proficiency"
   ]
  },
  {
   "cell_type": "markdown",
   "id": "359ccc3f-51f4-4e77-b4fa-b0f3daf675dd",
   "metadata": {},
   "source": [
    "*2 hours*\n",
    "\n",
    "**Contents:**\n",
    "\n",
    "- [Objects in Python](#Objects-in-Python)\n",
    "- [Other Python Data Structures](#Other-Python-Data-Structures)\n",
    "- [Loading Python Packages](#Loading-Python-Packages)\n",
    "- [Review: Sequences](#Review:-Sequences)\n",
    "- [Iterating through Sequences](#Iterating-through-Sequences)\n",
    "- [Using Sequences Effectively](#Using-Sequences-Effectively)"
   ]
  },
  {
   "cell_type": "markdown",
   "id": "fef4b27d",
   "metadata": {},
   "source": [
    "---\n",
    "\n",
    "## Objects in Python"
   ]
  },
  {
   "cell_type": "markdown",
   "id": "3654336d",
   "metadata": {},
   "source": [
    "So far, we've treated Python like a *functional programming language.* That is, we have functions and we have values and that's it. Functions operate on values and return new values. We can chain functions together to get more complex values:\n",
    "\n",
    "```python\n",
    "print(round(dms_to_dd(24, 8, precision = 5)))\n",
    "```\n",
    "\n",
    "But one of Python's most important features requires us to understand **objects.**\n",
    "\n",
    "**In Python, everything is an object. By \"everything,\" I mean character strings...**"
   ]
  },
  {
   "cell_type": "code",
   "execution_count": 1,
   "id": "3a7b5e47",
   "metadata": {},
   "outputs": [
    {
     "data": {
      "text/plain": [
       "'ALGERIA'"
      ]
     },
     "execution_count": 1,
     "metadata": {},
     "output_type": "execute_result"
    }
   ],
   "source": [
    "\"Algeria\".upper()"
   ]
  },
  {
   "cell_type": "markdown",
   "id": "e88470e8",
   "metadata": {},
   "source": [
    "In this example, the character string `\"Algeria\"` is an object.\n",
    "\n",
    "**Objects have both data, or values, and behaviors.** That is, they are capable of storing values and also capable of carrying out pre-programmed behaviors on those values.\n",
    "\n",
    "Here, the string `\"Algeria\"` has:\n",
    "\n",
    "- **Values:** It's primary value is equal to the character string \"Missoula\"; it may have other values like its length--the number of characters.\n",
    "- **Behaviors:** It's behaviors include the ability to capitalize all the letters in its value.\n",
    "\n",
    "We can see what other behaviors are contained in the `\"Algeria\"` object by using the `dir()` function:"
   ]
  },
  {
   "cell_type": "code",
   "execution_count": 2,
   "id": "6d149017",
   "metadata": {},
   "outputs": [
    {
     "data": {
      "text/plain": [
       "['__add__',\n",
       " '__class__',\n",
       " '__contains__',\n",
       " '__delattr__',\n",
       " '__dir__',\n",
       " '__doc__',\n",
       " '__eq__',\n",
       " '__format__',\n",
       " '__ge__',\n",
       " '__getattribute__',\n",
       " '__getitem__',\n",
       " '__getnewargs__',\n",
       " '__gt__',\n",
       " '__hash__',\n",
       " '__init__',\n",
       " '__init_subclass__',\n",
       " '__iter__',\n",
       " '__le__',\n",
       " '__len__',\n",
       " '__lt__',\n",
       " '__mod__',\n",
       " '__mul__',\n",
       " '__ne__',\n",
       " '__new__',\n",
       " '__reduce__',\n",
       " '__reduce_ex__',\n",
       " '__repr__',\n",
       " '__rmod__',\n",
       " '__rmul__',\n",
       " '__setattr__',\n",
       " '__sizeof__',\n",
       " '__str__',\n",
       " '__subclasshook__',\n",
       " 'capitalize',\n",
       " 'casefold',\n",
       " 'center',\n",
       " 'count',\n",
       " 'encode',\n",
       " 'endswith',\n",
       " 'expandtabs',\n",
       " 'find',\n",
       " 'format',\n",
       " 'format_map',\n",
       " 'index',\n",
       " 'isalnum',\n",
       " 'isalpha',\n",
       " 'isascii',\n",
       " 'isdecimal',\n",
       " 'isdigit',\n",
       " 'isidentifier',\n",
       " 'islower',\n",
       " 'isnumeric',\n",
       " 'isprintable',\n",
       " 'isspace',\n",
       " 'istitle',\n",
       " 'isupper',\n",
       " 'join',\n",
       " 'ljust',\n",
       " 'lower',\n",
       " 'lstrip',\n",
       " 'maketrans',\n",
       " 'partition',\n",
       " 'removeprefix',\n",
       " 'removesuffix',\n",
       " 'replace',\n",
       " 'rfind',\n",
       " 'rindex',\n",
       " 'rjust',\n",
       " 'rpartition',\n",
       " 'rsplit',\n",
       " 'rstrip',\n",
       " 'split',\n",
       " 'splitlines',\n",
       " 'startswith',\n",
       " 'strip',\n",
       " 'swapcase',\n",
       " 'title',\n",
       " 'translate',\n",
       " 'upper',\n",
       " 'zfill']"
      ]
     },
     "execution_count": 2,
     "metadata": {},
     "output_type": "execute_result"
    }
   ],
   "source": [
    "dir(\"Algeria\")"
   ]
  },
  {
   "cell_type": "markdown",
   "id": "c00c7cdc",
   "metadata": {},
   "source": [
    "For instance, there's a function to count the occurrence of unique characters:"
   ]
  },
  {
   "cell_type": "code",
   "execution_count": 3,
   "id": "eb7c94eb",
   "metadata": {},
   "outputs": [
    {
     "data": {
      "text/plain": [
       "3"
      ]
     },
     "execution_count": 3,
     "metadata": {},
     "output_type": "execute_result"
    }
   ],
   "source": [
    "\"Hello, world!\".count(\"l\")"
   ]
  },
  {
   "cell_type": "markdown",
   "id": "bd058ff8",
   "metadata": {},
   "source": [
    "If everything in Python is an object, then variable names always refer to objects as well:"
   ]
  },
  {
   "cell_type": "code",
   "execution_count": 4,
   "id": "68bbcb79",
   "metadata": {},
   "outputs": [
    {
     "data": {
      "text/plain": [
       "'algiers'"
      ]
     },
     "execution_count": 4,
     "metadata": {},
     "output_type": "execute_result"
    }
   ],
   "source": [
    "city = \"Algiers\"\n",
    "city.lower()"
   ]
  },
  {
   "cell_type": "markdown",
   "id": "41a8c774",
   "metadata": {},
   "source": [
    "The functions `lower()`, `upper()`, and `count()`, when they *belong* to an object, are referred to as **methods.** A method is just a function that belongs to an object. It's behavior may depend on that object and the object's value, as we saw with `upper()`.\n",
    "\n",
    "Similar objects can be grouped together by their class or their `type`."
   ]
  },
  {
   "cell_type": "code",
   "execution_count": 5,
   "id": "c68292af",
   "metadata": {},
   "outputs": [
    {
     "data": {
      "text/plain": [
       "str"
      ]
     },
     "execution_count": 5,
     "metadata": {},
     "output_type": "execute_result"
    }
   ],
   "source": [
    "type(\"Algiers\")"
   ]
  },
  {
   "cell_type": "markdown",
   "id": "beb50cb7",
   "metadata": {},
   "source": [
    "We already knew that `\"Algiers\"` is a string. But, more importantly, all strings share the same built-in behaviors:"
   ]
  },
  {
   "cell_type": "code",
   "execution_count": 6,
   "id": "b213bb3d",
   "metadata": {},
   "outputs": [
    {
     "data": {
      "text/plain": [
       "True"
      ]
     },
     "execution_count": 6,
     "metadata": {},
     "output_type": "execute_result"
    }
   ],
   "source": [
    "dir(\"\") == dir(\"Algiers\")"
   ]
  },
  {
   "cell_type": "code",
   "execution_count": 7,
   "id": "cbbd111c",
   "metadata": {},
   "outputs": [
    {
     "data": {
      "text/plain": [
       "'ATLANTIC OCEAN'"
      ]
     },
     "execution_count": 7,
     "metadata": {},
     "output_type": "execute_result"
    }
   ],
   "source": [
    "\"Atlantic Ocean\".upper()"
   ]
  },
  {
   "cell_type": "markdown",
   "id": "ffa0877e",
   "metadata": {},
   "source": [
    "Numbers are objects, too, though in Python, built-in numbers don't have a lot of cool behaviors we would normally use..."
   ]
  },
  {
   "cell_type": "code",
   "execution_count": 8,
   "id": "4adcb14c",
   "metadata": {},
   "outputs": [
    {
     "data": {
      "text/plain": [
       "False"
      ]
     },
     "execution_count": 8,
     "metadata": {},
     "output_type": "execute_result"
    }
   ],
   "source": [
    "x = 3.14\n",
    "x.is_integer()"
   ]
  },
  {
   "cell_type": "code",
   "execution_count": 9,
   "id": "f801ca26",
   "metadata": {},
   "outputs": [
    {
     "ename": "AttributeError",
     "evalue": "'int' object has no attribute 'is_integer'",
     "output_type": "error",
     "traceback": [
      "\u001b[0;31m---------------------------------------------------------------------------\u001b[0m",
      "\u001b[0;31mAttributeError\u001b[0m                            Traceback (most recent call last)",
      "Cell \u001b[0;32mIn[9], line 3\u001b[0m\n\u001b[1;32m      1\u001b[0m \u001b[38;5;66;03m# The is_integer() method only belongs to \"float\" objects, not \"int\" objects\u001b[39;00m\n\u001b[1;32m      2\u001b[0m x \u001b[38;5;241m=\u001b[39m \u001b[38;5;241m3\u001b[39m\n\u001b[0;32m----> 3\u001b[0m \u001b[43mx\u001b[49m\u001b[38;5;241;43m.\u001b[39;49m\u001b[43mis_integer\u001b[49m()\n",
      "\u001b[0;31mAttributeError\u001b[0m: 'int' object has no attribute 'is_integer'"
     ]
    }
   ],
   "source": [
    "# The is_integer() method only belongs to \"float\" objects, not \"int\" objects\n",
    "x = 3\n",
    "x.is_integer()"
   ]
  },
  {
   "cell_type": "code",
   "execution_count": 10,
   "id": "ff6f643f",
   "metadata": {},
   "outputs": [
    {
     "data": {
      "text/plain": [
       "['__add__',\n",
       " '__class__',\n",
       " '__class_getitem__',\n",
       " '__contains__',\n",
       " '__delattr__',\n",
       " '__delitem__',\n",
       " '__dir__',\n",
       " '__doc__',\n",
       " '__eq__',\n",
       " '__format__',\n",
       " '__ge__',\n",
       " '__getattribute__',\n",
       " '__getitem__',\n",
       " '__gt__',\n",
       " '__hash__',\n",
       " '__iadd__',\n",
       " '__imul__',\n",
       " '__init__',\n",
       " '__init_subclass__',\n",
       " '__iter__',\n",
       " '__le__',\n",
       " '__len__',\n",
       " '__lt__',\n",
       " '__mul__',\n",
       " '__ne__',\n",
       " '__new__',\n",
       " '__reduce__',\n",
       " '__reduce_ex__',\n",
       " '__repr__',\n",
       " '__reversed__',\n",
       " '__rmul__',\n",
       " '__setattr__',\n",
       " '__setitem__',\n",
       " '__sizeof__',\n",
       " '__str__',\n",
       " '__subclasshook__',\n",
       " 'append',\n",
       " 'clear',\n",
       " 'copy',\n",
       " 'count',\n",
       " 'extend',\n",
       " 'index',\n",
       " 'insert',\n",
       " 'pop',\n",
       " 'remove',\n",
       " 'reverse',\n",
       " 'sort']"
      ]
     },
     "execution_count": 10,
     "metadata": {},
     "output_type": "execute_result"
    }
   ],
   "source": [
    "dir([])"
   ]
  },
  {
   "cell_type": "code",
   "execution_count": 11,
   "id": "401227dd",
   "metadata": {},
   "outputs": [
    {
     "data": {
      "text/plain": [
       "['Algiers', 'Rome', 'Paris']"
      ]
     },
     "execution_count": 11,
     "metadata": {},
     "output_type": "execute_result"
    }
   ],
   "source": [
    "cities = ['Algiers', 'Rome', 'Paris']\n",
    "cities"
   ]
  },
  {
   "cell_type": "code",
   "execution_count": 12,
   "id": "65e62e8f",
   "metadata": {},
   "outputs": [],
   "source": [
    "cities.reverse()"
   ]
  },
  {
   "cell_type": "markdown",
   "id": "45c66dbc",
   "metadata": {},
   "source": [
    "Why didn't we see any output?"
   ]
  },
  {
   "cell_type": "code",
   "execution_count": 13,
   "id": "fe825456",
   "metadata": {},
   "outputs": [
    {
     "data": {
      "text/plain": [
       "['Paris', 'Rome', 'Algiers']"
      ]
     },
     "execution_count": 13,
     "metadata": {},
     "output_type": "execute_result"
    }
   ],
   "source": [
    "cities"
   ]
  },
  {
   "cell_type": "code",
   "execution_count": 14,
   "id": "2ca86744",
   "metadata": {},
   "outputs": [],
   "source": [
    "cities.sort()"
   ]
  },
  {
   "cell_type": "code",
   "execution_count": 15,
   "id": "e449a5ba",
   "metadata": {},
   "outputs": [
    {
     "data": {
      "text/plain": [
       "['Algiers', 'Paris', 'Rome']"
      ]
     },
     "execution_count": 15,
     "metadata": {},
     "output_type": "execute_result"
    }
   ],
   "source": [
    "cities"
   ]
  },
  {
   "cell_type": "markdown",
   "id": "e8e7dfdf",
   "metadata": {},
   "source": [
    "**It's important to realize that `list` methods modify the data in place, unlike string methods:**"
   ]
  },
  {
   "cell_type": "code",
   "execution_count": 16,
   "id": "408fe4cb",
   "metadata": {},
   "outputs": [
    {
     "data": {
      "text/plain": [
       "'Home'"
      ]
     },
     "execution_count": 16,
     "metadata": {},
     "output_type": "execute_result"
    }
   ],
   "source": [
    "\"Rome\".replace(\"R\", \"H\")"
   ]
  },
  {
   "cell_type": "markdown",
   "id": "3128c3c7",
   "metadata": {},
   "source": [
    "**This difference arises because Python strings are *immutable;* they can't be changed once they are created.** `\"Rome\"` and `\"Home\"` are two different strings, so their string methods return a new string each time."
   ]
  },
  {
   "cell_type": "markdown",
   "id": "b8684941",
   "metadata": {},
   "source": [
    "**Objects are key to advanced Python programming.** I wanted to introduce them here because we will be seeing them a lot."
   ]
  },
  {
   "cell_type": "markdown",
   "id": "10d8d749",
   "metadata": {},
   "source": [
    "---"
   ]
  },
  {
   "cell_type": "markdown",
   "id": "5c12dfd9",
   "metadata": {},
   "source": [
    "### Challenge: Formatting Place Names"
   ]
  },
  {
   "cell_type": "markdown",
   "id": "05edb2e5",
   "metadata": {},
   "source": [
    "You received a Shapefile that shows a number of cities. In the attribute table, the city names are all written like:\n",
    "\n",
    "```\n",
    "NEW YORK CITY\n",
    "MIAMI\n",
    "KANSAS CITY\n",
    "...\n",
    "```\n",
    "\n",
    "**How can we re-format these names so that they look like proper place names, e.g., \"New York City\"?**\n",
    "\n",
    "Look at the list of methods that belong to string (`str`) objects. Is there a method defined on strings that does this for us? Use your intuition and the `help()` function."
   ]
  },
  {
   "cell_type": "markdown",
   "id": "621ed20f",
   "metadata": {},
   "source": [
    "---"
   ]
  },
  {
   "cell_type": "markdown",
   "id": "bbd47384",
   "metadata": {},
   "source": [
    "## Other Python Data Structures"
   ]
  },
  {
   "cell_type": "markdown",
   "id": "7db91c8d",
   "metadata": {},
   "source": [
    "So far, we've learned about a few different Python data types:\n",
    "\n",
    "- Strings or `str`, like `\"Algeria\"`\n",
    "- Integers or `int`, like `42`\n",
    "- Floats or `float`, like `3.14`\n",
    "\n",
    "These data types are referred to as *atomic* data types because they contain just one value; they are like individual atoms. How can we work with molecules or whole chunks of matter, instead? We've seen just one data structure so far, the `list`:"
   ]
  },
  {
   "cell_type": "code",
   "execution_count": 17,
   "id": "8cfb3312",
   "metadata": {},
   "outputs": [
    {
     "data": {
      "text/plain": [
       "['Algiers', 'Paris', 'Rome']"
      ]
     },
     "execution_count": 17,
     "metadata": {},
     "output_type": "execute_result"
    }
   ],
   "source": [
    "cities"
   ]
  },
  {
   "cell_type": "markdown",
   "id": "e7d452d2",
   "metadata": {},
   "source": [
    "A related data structure in Python is called the `tuple`; it looks just like a list but is represented by opening and closing parentheses instead of square brackets:"
   ]
  },
  {
   "cell_type": "code",
   "execution_count": 18,
   "id": "f893cd1a",
   "metadata": {},
   "outputs": [
    {
     "data": {
      "text/plain": [
       "('Algiers', 'Paris', 'Rome')"
      ]
     },
     "execution_count": 18,
     "metadata": {},
     "output_type": "execute_result"
    }
   ],
   "source": [
    "tuple(cities)"
   ]
  },
  {
   "cell_type": "code",
   "execution_count": 19,
   "id": "bcea51ce",
   "metadata": {},
   "outputs": [],
   "source": [
    "my_tuple = (1, 2, 3)"
   ]
  },
  {
   "cell_type": "code",
   "execution_count": 20,
   "id": "f767e10d",
   "metadata": {},
   "outputs": [
    {
     "data": {
      "text/plain": [
       "['__add__',\n",
       " '__class__',\n",
       " '__class_getitem__',\n",
       " '__contains__',\n",
       " '__delattr__',\n",
       " '__dir__',\n",
       " '__doc__',\n",
       " '__eq__',\n",
       " '__format__',\n",
       " '__ge__',\n",
       " '__getattribute__',\n",
       " '__getitem__',\n",
       " '__getnewargs__',\n",
       " '__gt__',\n",
       " '__hash__',\n",
       " '__init__',\n",
       " '__init_subclass__',\n",
       " '__iter__',\n",
       " '__le__',\n",
       " '__len__',\n",
       " '__lt__',\n",
       " '__mul__',\n",
       " '__ne__',\n",
       " '__new__',\n",
       " '__reduce__',\n",
       " '__reduce_ex__',\n",
       " '__repr__',\n",
       " '__rmul__',\n",
       " '__setattr__',\n",
       " '__sizeof__',\n",
       " '__str__',\n",
       " '__subclasshook__',\n",
       " 'count',\n",
       " 'index']"
      ]
     },
     "execution_count": 20,
     "metadata": {},
     "output_type": "execute_result"
    }
   ],
   "source": [
    "dir(my_tuple)"
   ]
  },
  {
   "cell_type": "markdown",
   "id": "5f330fd8",
   "metadata": {},
   "source": [
    "**Why does `tuple` have so few methods defined?**\n",
    "\n",
    "Tuples are immutable, just like strings. They can't be changed once they are created. The only two public methods defined just give us information about the tuple's fixed, unchanging elements:"
   ]
  },
  {
   "cell_type": "code",
   "execution_count": 21,
   "id": "065efbae",
   "metadata": {},
   "outputs": [
    {
     "data": {
      "text/plain": [
       "0"
      ]
     },
     "execution_count": 21,
     "metadata": {},
     "output_type": "execute_result"
    }
   ],
   "source": [
    "my_tuple.index(1)"
   ]
  },
  {
   "cell_type": "markdown",
   "id": "2f042524",
   "metadata": {},
   "source": [
    "If we want to change a tuple, we'll have to convert it to a `list` first; of course, we're really just getting a *copy* of the tuple's contents contained in a `list` instead."
   ]
  },
  {
   "cell_type": "code",
   "execution_count": 22,
   "id": "e8e2420b",
   "metadata": {},
   "outputs": [
    {
     "data": {
      "text/plain": [
       "[1, 2, 3]"
      ]
     },
     "execution_count": 22,
     "metadata": {},
     "output_type": "execute_result"
    }
   ],
   "source": [
    "list(my_tuple)"
   ]
  },
  {
   "cell_type": "markdown",
   "id": "01b66472",
   "metadata": {},
   "source": [
    "**Another data structure is the dictionary, or `dict`.** Let's say we're working with Shapefiles for multiple countries and we want to identify [each country's 2-letter country code...](https://en.wikipedia.org/wiki/ISO_3166-1_alpha-2#Officially_assigned_code_elements)"
   ]
  },
  {
   "cell_type": "code",
   "execution_count": 23,
   "id": "228c946e",
   "metadata": {},
   "outputs": [],
   "source": [
    "fips = {\n",
    "    \"Algeria\": \"DZ\",\n",
    "    \"United States\": \"US\"\n",
    "}"
   ]
  },
  {
   "cell_type": "markdown",
   "id": "dc03bf9e",
   "metadata": {},
   "source": [
    "A dictionary allows us to relate one kind of data to another. Here, we can look up a county's FIPS code based on its name."
   ]
  },
  {
   "cell_type": "code",
   "execution_count": 24,
   "id": "4b307da1",
   "metadata": {},
   "outputs": [
    {
     "data": {
      "text/plain": [
       "'DZ'"
      ]
     },
     "execution_count": 24,
     "metadata": {},
     "output_type": "execute_result"
    }
   ],
   "source": [
    "fips[\"Algeria\"]"
   ]
  },
  {
   "cell_type": "markdown",
   "id": "e2195b58",
   "metadata": {},
   "source": [
    "What do dictionaries know how to do?"
   ]
  },
  {
   "cell_type": "code",
   "execution_count": 25,
   "id": "823600be",
   "metadata": {},
   "outputs": [
    {
     "data": {
      "text/plain": [
       "['__class__',\n",
       " '__class_getitem__',\n",
       " '__contains__',\n",
       " '__delattr__',\n",
       " '__delitem__',\n",
       " '__dir__',\n",
       " '__doc__',\n",
       " '__eq__',\n",
       " '__format__',\n",
       " '__ge__',\n",
       " '__getattribute__',\n",
       " '__getitem__',\n",
       " '__gt__',\n",
       " '__hash__',\n",
       " '__init__',\n",
       " '__init_subclass__',\n",
       " '__ior__',\n",
       " '__iter__',\n",
       " '__le__',\n",
       " '__len__',\n",
       " '__lt__',\n",
       " '__ne__',\n",
       " '__new__',\n",
       " '__or__',\n",
       " '__reduce__',\n",
       " '__reduce_ex__',\n",
       " '__repr__',\n",
       " '__reversed__',\n",
       " '__ror__',\n",
       " '__setattr__',\n",
       " '__setitem__',\n",
       " '__sizeof__',\n",
       " '__str__',\n",
       " '__subclasshook__',\n",
       " 'clear',\n",
       " 'copy',\n",
       " 'fromkeys',\n",
       " 'get',\n",
       " 'items',\n",
       " 'keys',\n",
       " 'pop',\n",
       " 'popitem',\n",
       " 'setdefault',\n",
       " 'update',\n",
       " 'values']"
      ]
     },
     "execution_count": 25,
     "metadata": {},
     "output_type": "execute_result"
    }
   ],
   "source": [
    "dir({})"
   ]
  },
  {
   "cell_type": "code",
   "execution_count": 26,
   "id": "0c0031c3",
   "metadata": {},
   "outputs": [
    {
     "data": {
      "text/plain": [
       "dict_keys(['Algeria', 'United States'])"
      ]
     },
     "execution_count": 26,
     "metadata": {},
     "output_type": "execute_result"
    }
   ],
   "source": [
    "fips.keys()"
   ]
  },
  {
   "cell_type": "code",
   "execution_count": 27,
   "id": "dbfe6f09",
   "metadata": {},
   "outputs": [
    {
     "data": {
      "text/plain": [
       "dict_values(['DZ', 'US'])"
      ]
     },
     "execution_count": 27,
     "metadata": {},
     "output_type": "execute_result"
    }
   ],
   "source": [
    "fips.values()"
   ]
  },
  {
   "cell_type": "code",
   "execution_count": 28,
   "id": "33b1b4a3",
   "metadata": {},
   "outputs": [
    {
     "data": {
      "text/plain": [
       "dict_items([('Algeria', 'DZ'), ('United States', 'US')])"
      ]
     },
     "execution_count": 28,
     "metadata": {},
     "output_type": "execute_result"
    }
   ],
   "source": [
    "fips.items()"
   ]
  },
  {
   "cell_type": "markdown",
   "id": "6c89cc01",
   "metadata": {},
   "source": [
    "One thing to note: Each of these outputs *looks* like a list but it is not actually a list."
   ]
  },
  {
   "cell_type": "code",
   "execution_count": 29,
   "id": "ea78e6ac",
   "metadata": {},
   "outputs": [
    {
     "data": {
      "text/plain": [
       "False"
      ]
     },
     "execution_count": 29,
     "metadata": {},
     "output_type": "execute_result"
    }
   ],
   "source": [
    "type(fips.keys()) is list"
   ]
  },
  {
   "cell_type": "code",
   "execution_count": 30,
   "id": "10b49597",
   "metadata": {},
   "outputs": [
    {
     "data": {
      "text/plain": [
       "True"
      ]
     },
     "execution_count": 30,
     "metadata": {},
     "output_type": "execute_result"
    }
   ],
   "source": [
    "type(cities) is list"
   ]
  },
  {
   "cell_type": "code",
   "execution_count": 31,
   "id": "68d04e73",
   "metadata": {},
   "outputs": [
    {
     "data": {
      "text/plain": [
       "['Algeria', 'United States']"
      ]
     },
     "execution_count": 31,
     "metadata": {},
     "output_type": "execute_result"
    }
   ],
   "source": [
    "list(fips.keys())"
   ]
  },
  {
   "cell_type": "markdown",
   "id": "926bb8ba",
   "metadata": {},
   "source": [
    "**The \"keys\" of a dictionary can be any Python value, but they are usually either strings or numbers:**"
   ]
  },
  {
   "cell_type": "code",
   "execution_count": 32,
   "id": "70efcb8d",
   "metadata": {},
   "outputs": [
    {
     "data": {
      "text/plain": [
       "'Forty-Two'"
      ]
     },
     "execution_count": 32,
     "metadata": {},
     "output_type": "execute_result"
    }
   ],
   "source": [
    "my_dict = {1: \"One\", 2: \"Two\", 42: \"Forty-Two\"}\n",
    "my_dict[42]"
   ]
  },
  {
   "cell_type": "markdown",
   "id": "068b7392",
   "metadata": {},
   "source": [
    "In summary:\n",
    "\n",
    "- A `list` is **mutable** (can be changed) and looks like: `[1, True, 3]`\n",
    "- A `tuple` is **immutable** (cannot be changed) and looks like: `(1, True, 3)`\n",
    "- A `dict` looks like: `{1: True, 2: False}` and...\n",
    "\n",
    "**Is a dictionary mutable or immutable?**"
   ]
  },
  {
   "cell_type": "markdown",
   "id": "edcde9cd",
   "metadata": {},
   "source": [
    "### Using Dictionaries\n",
    "\n",
    "Python dictionaries have lots of relevance for programming exercises. Suppose we had a list of counties, like in the county FIPS codes example, and we wanted to count how many times each unique county's name appears in the list?"
   ]
  },
  {
   "cell_type": "code",
   "execution_count": 33,
   "id": "c2ac7deb",
   "metadata": {},
   "outputs": [
    {
     "data": {
      "text/plain": [
       "['Algeria', 'Algeria', 'Algeria']"
      ]
     },
     "execution_count": 33,
     "metadata": {},
     "output_type": "execute_result"
    }
   ],
   "source": [
    "# By the way, a quick way to make a list longer...\n",
    "countries = ['Algeria'] * 3\n",
    "countries"
   ]
  },
  {
   "cell_type": "code",
   "execution_count": 34,
   "id": "8d6a663f",
   "metadata": {},
   "outputs": [
    {
     "data": {
      "text/plain": [
       "['Algeria', 'Algeria', 'Algeria', 'Tunisia', 'Libya']"
      ]
     },
     "execution_count": 34,
     "metadata": {},
     "output_type": "execute_result"
    }
   ],
   "source": [
    "countries.extend(['Tunisia', 'Libya'])\n",
    "countries"
   ]
  },
  {
   "cell_type": "markdown",
   "id": "1b9df8df",
   "metadata": {},
   "source": [
    "We can create a new, empty dictionary just like this:"
   ]
  },
  {
   "cell_type": "code",
   "execution_count": 35,
   "id": "76bf9ac2",
   "metadata": {},
   "outputs": [],
   "source": [
    "counts = {}"
   ]
  },
  {
   "cell_type": "markdown",
   "id": "b060aa63",
   "metadata": {},
   "source": [
    "An empty dictionary has no keys, yet!"
   ]
  },
  {
   "cell_type": "code",
   "execution_count": 36,
   "id": "971c4a4f",
   "metadata": {},
   "outputs": [
    {
     "data": {
      "text/plain": [
       "dict_keys([])"
      ]
     },
     "execution_count": 36,
     "metadata": {},
     "output_type": "execute_result"
    }
   ],
   "source": [
    "counts.keys()"
   ]
  },
  {
   "cell_type": "markdown",
   "id": "19eda0f9",
   "metadata": {},
   "source": [
    "This next part I'll show for now, but we'll learn the details later:"
   ]
  },
  {
   "cell_type": "code",
   "execution_count": 37,
   "id": "9359ccbb",
   "metadata": {},
   "outputs": [
    {
     "data": {
      "text/plain": [
       "{'Algeria': 3, 'Tunisia': 1, 'Libya': 1}"
      ]
     },
     "execution_count": 37,
     "metadata": {},
     "output_type": "execute_result"
    }
   ],
   "source": [
    "for name in countries:\n",
    "    if name in counts.keys():\n",
    "        counts[name] = counts[name] + 1\n",
    "    else:\n",
    "        counts[name] = 1\n",
    "        \n",
    "counts"
   ]
  },
  {
   "cell_type": "markdown",
   "id": "a574abdc",
   "metadata": {},
   "source": [
    "---\n",
    "\n",
    "## Break!\n",
    "\n",
    "*A 10-minute break for learners.*"
   ]
  },
  {
   "cell_type": "markdown",
   "id": "d927b164",
   "metadata": {},
   "source": [
    "---\n",
    "\n",
    "## Loading Python Packages\n",
    "\n",
    "There's a lot that we could do with what we've already seen from Python. However, Python's best tools and powerful new features are available as packages that must be loaded. In Python, we tend to use the word \"module\" to refer to these extensions, instead of \"package.\"\n",
    "\n",
    "For example, because not every program needs to work with dates and times, Python includes all that functionality in a separate module called `datetime`:"
   ]
  },
  {
   "cell_type": "code",
   "execution_count": 38,
   "id": "ce07d6f3",
   "metadata": {},
   "outputs": [],
   "source": [
    "import datetime"
   ]
  },
  {
   "cell_type": "code",
   "execution_count": 39,
   "id": "42770008",
   "metadata": {},
   "outputs": [
    {
     "data": {
      "text/plain": [
       "datetime.date(2024, 3, 19)"
      ]
     },
     "execution_count": 39,
     "metadata": {},
     "output_type": "execute_result"
    }
   ],
   "source": [
    "today = datetime.date.today()\n",
    "today"
   ]
  },
  {
   "cell_type": "code",
   "execution_count": 40,
   "id": "e85c1691",
   "metadata": {},
   "outputs": [
    {
     "data": {
      "text/plain": [
       "datetime.date"
      ]
     },
     "execution_count": 40,
     "metadata": {},
     "output_type": "execute_result"
    }
   ],
   "source": [
    "type(today)"
   ]
  },
  {
   "cell_type": "markdown",
   "id": "98802eca",
   "metadata": {},
   "source": [
    "**Recall that Python objects contain both data and behaviors. We learned that the behaviors are called *methods.* The data are called *attributes.*** `datetime.date` objects have some pretty helpful attributes :"
   ]
  },
  {
   "cell_type": "code",
   "execution_count": 41,
   "id": "4cc58b21",
   "metadata": {},
   "outputs": [
    {
     "data": {
      "text/plain": [
       "3"
      ]
     },
     "execution_count": 41,
     "metadata": {},
     "output_type": "execute_result"
    }
   ],
   "source": [
    "today.month"
   ]
  },
  {
   "cell_type": "code",
   "execution_count": 42,
   "id": "2049c04f",
   "metadata": {},
   "outputs": [
    {
     "data": {
      "text/plain": [
       "2024"
      ]
     },
     "execution_count": 42,
     "metadata": {},
     "output_type": "execute_result"
    }
   ],
   "source": [
    "today.year"
   ]
  },
  {
   "cell_type": "markdown",
   "id": "45bc77d1",
   "metadata": {},
   "source": [
    "**One of the powerful consequences of everything being an object in Python is that objects know a lot about themselves and what you want them to do.**"
   ]
  },
  {
   "cell_type": "code",
   "execution_count": 43,
   "id": "79079e8c",
   "metadata": {},
   "outputs": [
    {
     "data": {
      "text/plain": [
       "True"
      ]
     },
     "execution_count": 43,
     "metadata": {},
     "output_type": "execute_result"
    }
   ],
   "source": [
    "today > datetime.date(2000, 1, 1)"
   ]
  },
  {
   "cell_type": "markdown",
   "id": "25c1910a",
   "metadata": {},
   "source": [
    "What is the date 7 days from today?"
   ]
  },
  {
   "cell_type": "code",
   "execution_count": 44,
   "id": "b596b5b5",
   "metadata": {},
   "outputs": [
    {
     "data": {
      "text/plain": [
       "datetime.date(2024, 3, 26)"
      ]
     },
     "execution_count": 44,
     "metadata": {},
     "output_type": "execute_result"
    }
   ],
   "source": [
    "today + datetime.timedelta(days = 7)"
   ]
  },
  {
   "cell_type": "markdown",
   "id": "1d7049af",
   "metadata": {},
   "source": [
    "**Note that we're using the same Python operators that we used for doing math with numbers.** That's because `datetime.date` objects have (in order, from above), `__gt__` and `__add__` methods defined:"
   ]
  },
  {
   "cell_type": "code",
   "execution_count": 45,
   "id": "ea0279e0",
   "metadata": {},
   "outputs": [
    {
     "data": {
      "text/plain": [
       "<method-wrapper '__add__' of datetime.date object at 0x7f59902ffc50>"
      ]
     },
     "execution_count": 45,
     "metadata": {},
     "output_type": "execute_result"
    }
   ],
   "source": [
    "today.__add__"
   ]
  },
  {
   "cell_type": "code",
   "execution_count": 46,
   "id": "6cdfe6bc",
   "metadata": {},
   "outputs": [
    {
     "name": "stdout",
     "output_type": "stream",
     "text": [
      "Help on method-wrapper:\n",
      "\n",
      "__gt__ = <method-wrapper '__gt__' of datetime.date object>\n",
      "    Return self>value.\n",
      "\n"
     ]
    }
   ],
   "source": [
    "help(today.__gt__)"
   ]
  },
  {
   "cell_type": "markdown",
   "id": "dbc4a90b",
   "metadata": {},
   "source": [
    "### Advanced Importing\n",
    "\n",
    "Because `datetime` can be a lot to type, if you're using it a lot, you might want to give it an *alias.*"
   ]
  },
  {
   "cell_type": "code",
   "execution_count": 47,
   "id": "243e42e7",
   "metadata": {},
   "outputs": [
    {
     "data": {
      "text/plain": [
       "datetime.date(2024, 3, 19)"
      ]
     },
     "execution_count": 47,
     "metadata": {},
     "output_type": "execute_result"
    }
   ],
   "source": [
    "import datetime as dt\n",
    "\n",
    "dt.date.today()"
   ]
  },
  {
   "cell_type": "markdown",
   "id": "bb1ddc0a",
   "metadata": {},
   "source": [
    "Why do we have to write `datetime.date` or `dt.date`? The `datetime` module is organized into *sub-modules.* For now, you can think of these as nested folders.\n",
    "\n",
    "Another example of a built-in module is the `math` module."
   ]
  },
  {
   "cell_type": "code",
   "execution_count": 48,
   "id": "08255b3d",
   "metadata": {},
   "outputs": [],
   "source": [
    "import math"
   ]
  },
  {
   "cell_type": "markdown",
   "id": "88d583f9",
   "metadata": {},
   "source": [
    "With any module, we can either import the entire module, as above; or, we can import a specific part of the module that we want to use:"
   ]
  },
  {
   "cell_type": "code",
   "execution_count": 49,
   "id": "27efd5ba",
   "metadata": {},
   "outputs": [
    {
     "data": {
      "text/plain": [
       "2.0"
      ]
     },
     "execution_count": 49,
     "metadata": {},
     "output_type": "execute_result"
    }
   ],
   "source": [
    "from math import log10\n",
    "\n",
    "log10(100)"
   ]
  },
  {
   "cell_type": "code",
   "execution_count": 50,
   "id": "1d949fa6",
   "metadata": {},
   "outputs": [
    {
     "data": {
      "text/plain": [
       "2.0"
      ]
     },
     "execution_count": 50,
     "metadata": {},
     "output_type": "execute_result"
    }
   ],
   "source": [
    "# Because of \"import math\" we can also do:\n",
    "math.log10(100)"
   ]
  },
  {
   "cell_type": "markdown",
   "id": "f4785516",
   "metadata": {},
   "source": [
    "Recall that the `is` operator can be used to see if two variables point to the same thing:"
   ]
  },
  {
   "cell_type": "code",
   "execution_count": 51,
   "id": "1550f45e",
   "metadata": {},
   "outputs": [
    {
     "data": {
      "text/plain": [
       "True"
      ]
     },
     "execution_count": 51,
     "metadata": {},
     "output_type": "execute_result"
    }
   ],
   "source": [
    "log10 is math.log10"
   ]
  },
  {
   "cell_type": "markdown",
   "id": "3a2bcb9c",
   "metadata": {},
   "source": [
    "---\n",
    "\n",
    "## Review: Sequences"
   ]
  },
  {
   "cell_type": "markdown",
   "id": "59da1c4f",
   "metadata": {},
   "source": [
    "**Sequences,** which include lists, tuples, and character strings, are fundamental to scientific programming in Python. We're never working a single piece of data, so there will always be a need to iterate through a collection of elements.\n",
    "\n",
    "Recall that a **sequence** is any one of the Python data types: `list`, `tuple`, or `str` (string).\n",
    "\n",
    "Remember how to test for membership in a list?"
   ]
  },
  {
   "cell_type": "code",
   "execution_count": 52,
   "id": "f0464813",
   "metadata": {},
   "outputs": [
    {
     "data": {
      "text/plain": [
       "False"
      ]
     },
     "execution_count": 52,
     "metadata": {},
     "output_type": "execute_result"
    }
   ],
   "source": [
    "my_list = [1, 2, 3]\n",
    "4 in my_list"
   ]
  },
  {
   "cell_type": "markdown",
   "id": "727a0bbd",
   "metadata": {},
   "source": [
    "Well, we can use this same syntax for *any* sequence, including strings!"
   ]
  },
  {
   "cell_type": "code",
   "execution_count": 53,
   "id": "bf62c09b",
   "metadata": {},
   "outputs": [
    {
     "data": {
      "text/plain": [
       "False"
      ]
     },
     "execution_count": 53,
     "metadata": {},
     "output_type": "execute_result"
    }
   ],
   "source": [
    "4 in tuple(my_list)"
   ]
  },
  {
   "cell_type": "code",
   "execution_count": 54,
   "id": "f5bbc1fe",
   "metadata": {},
   "outputs": [
    {
     "data": {
      "text/plain": [
       "True"
      ]
     },
     "execution_count": 54,
     "metadata": {},
     "output_type": "execute_result"
    }
   ],
   "source": [
    "'York' in 'New York City'"
   ]
  },
  {
   "cell_type": "markdown",
   "id": "652003fc",
   "metadata": {},
   "source": [
    "Note that this is case-sensitive, however."
   ]
  },
  {
   "cell_type": "code",
   "execution_count": 55,
   "id": "1f3bcc1f",
   "metadata": {},
   "outputs": [
    {
     "data": {
      "text/plain": [
       "False"
      ]
     },
     "execution_count": 55,
     "metadata": {},
     "output_type": "execute_result"
    }
   ],
   "source": [
    "'york' in 'New York City'"
   ]
  },
  {
   "cell_type": "markdown",
   "id": "6a28c430",
   "metadata": {},
   "source": [
    "And, as such, when working with strings it's a good idea to *normalize* the strings if you don't care about case."
   ]
  },
  {
   "cell_type": "code",
   "execution_count": 56,
   "id": "4f77ae10",
   "metadata": {},
   "outputs": [
    {
     "data": {
      "text/plain": [
       "'new york city'"
      ]
     },
     "execution_count": 56,
     "metadata": {},
     "output_type": "execute_result"
    }
   ],
   "source": [
    "'New York City'.lower()"
   ]
  },
  {
   "cell_type": "code",
   "execution_count": 57,
   "id": "b4af6f27",
   "metadata": {},
   "outputs": [
    {
     "data": {
      "text/plain": [
       "True"
      ]
     },
     "execution_count": 57,
     "metadata": {},
     "output_type": "execute_result"
    }
   ],
   "source": [
    "'york' in 'New York City'.lower()"
   ]
  },
  {
   "cell_type": "markdown",
   "id": "5e50fa0c",
   "metadata": {},
   "source": [
    "---\n",
    "\n",
    "## Iterating through Sequences\n",
    "\n",
    "As we've seen, Python functions allow us to repeatedly apply the same behavior to new and different pieces of data. However, a function still has to be called, repeatedly, on each piece of data we want to work with. How can we iterate over all the data in a sequence?\n",
    "\n",
    "**The basic tool for iterating through a sequence of data is the `for` loop.** Let's learn by example.\n",
    "\n",
    "For these examples we'll be working with [data on cities in Africa from Natural Earth Data.](https://www.naturalearthdata.com/downloads/110m-cultural-vectors/) The `pandas` module is a community module that is great for working with tabular data, like this comma-separated variable (CSV) file from Natural Earth Data."
   ]
  },
  {
   "cell_type": "code",
   "execution_count": 58,
   "id": "6a67f523",
   "metadata": {},
   "outputs": [
    {
     "data": {
      "text/html": [
       "<div>\n",
       "<style scoped>\n",
       "    .dataframe tbody tr th:only-of-type {\n",
       "        vertical-align: middle;\n",
       "    }\n",
       "\n",
       "    .dataframe tbody tr th {\n",
       "        vertical-align: top;\n",
       "    }\n",
       "\n",
       "    .dataframe thead th {\n",
       "        text-align: right;\n",
       "    }\n",
       "</style>\n",
       "<table border=\"1\" class=\"dataframe\">\n",
       "  <thead>\n",
       "    <tr style=\"text-align: right;\">\n",
       "      <th></th>\n",
       "      <th>name</th>\n",
       "      <th>adm1name</th>\n",
       "      <th>latitude</th>\n",
       "      <th>longitude</th>\n",
       "      <th>pop_max</th>\n",
       "      <th>pop_min</th>\n",
       "    </tr>\n",
       "  </thead>\n",
       "  <tbody>\n",
       "    <tr>\n",
       "      <th>0</th>\n",
       "      <td>Lobamba</td>\n",
       "      <td>Manzini</td>\n",
       "      <td>-26.466668</td>\n",
       "      <td>31.199997</td>\n",
       "      <td>9782</td>\n",
       "      <td>4557</td>\n",
       "    </tr>\n",
       "    <tr>\n",
       "      <th>1</th>\n",
       "      <td>Bir Lehlou</td>\n",
       "      <td>NaN</td>\n",
       "      <td>26.119167</td>\n",
       "      <td>-9.652522</td>\n",
       "      <td>500</td>\n",
       "      <td>200</td>\n",
       "    </tr>\n",
       "    <tr>\n",
       "      <th>2</th>\n",
       "      <td>Moroni</td>\n",
       "      <td>NaN</td>\n",
       "      <td>-11.704158</td>\n",
       "      <td>43.240244</td>\n",
       "      <td>128698</td>\n",
       "      <td>42872</td>\n",
       "    </tr>\n",
       "    <tr>\n",
       "      <th>3</th>\n",
       "      <td>Kigali</td>\n",
       "      <td>Kigali City</td>\n",
       "      <td>-1.951644</td>\n",
       "      <td>30.058586</td>\n",
       "      <td>860000</td>\n",
       "      <td>745261</td>\n",
       "    </tr>\n",
       "    <tr>\n",
       "      <th>4</th>\n",
       "      <td>Mbabane</td>\n",
       "      <td>Hhohho</td>\n",
       "      <td>-26.316651</td>\n",
       "      <td>31.133335</td>\n",
       "      <td>90138</td>\n",
       "      <td>76218</td>\n",
       "    </tr>\n",
       "    <tr>\n",
       "      <th>...</th>\n",
       "      <td>...</td>\n",
       "      <td>...</td>\n",
       "      <td>...</td>\n",
       "      <td>...</td>\n",
       "      <td>...</td>\n",
       "      <td>...</td>\n",
       "    </tr>\n",
       "    <tr>\n",
       "      <th>62</th>\n",
       "      <td>Addis Ababa</td>\n",
       "      <td>Addis Ababa</td>\n",
       "      <td>9.035256</td>\n",
       "      <td>38.698059</td>\n",
       "      <td>3100000</td>\n",
       "      <td>2757729</td>\n",
       "    </tr>\n",
       "    <tr>\n",
       "      <th>63</th>\n",
       "      <td>Cape Town</td>\n",
       "      <td>Western Cape</td>\n",
       "      <td>-33.918065</td>\n",
       "      <td>18.433042</td>\n",
       "      <td>3215000</td>\n",
       "      <td>2432858</td>\n",
       "    </tr>\n",
       "    <tr>\n",
       "      <th>64</th>\n",
       "      <td>Lagos</td>\n",
       "      <td>Lagos</td>\n",
       "      <td>6.445208</td>\n",
       "      <td>3.389585</td>\n",
       "      <td>9466000</td>\n",
       "      <td>1536</td>\n",
       "    </tr>\n",
       "    <tr>\n",
       "      <th>65</th>\n",
       "      <td>Nairobi</td>\n",
       "      <td>Nairobi</td>\n",
       "      <td>-1.281401</td>\n",
       "      <td>36.814711</td>\n",
       "      <td>3010000</td>\n",
       "      <td>2750547</td>\n",
       "    </tr>\n",
       "    <tr>\n",
       "      <th>66</th>\n",
       "      <td>Cairo</td>\n",
       "      <td>Al Qahirah</td>\n",
       "      <td>30.051906</td>\n",
       "      <td>31.248022</td>\n",
       "      <td>11893000</td>\n",
       "      <td>7734614</td>\n",
       "    </tr>\n",
       "  </tbody>\n",
       "</table>\n",
       "<p>67 rows × 6 columns</p>\n",
       "</div>"
      ],
      "text/plain": [
       "           name      adm1name   latitude  longitude   pop_max  pop_min\n",
       "0       Lobamba       Manzini -26.466668  31.199997      9782     4557\n",
       "1    Bir Lehlou           NaN  26.119167  -9.652522       500      200\n",
       "2        Moroni           NaN -11.704158  43.240244    128698    42872\n",
       "3        Kigali   Kigali City  -1.951644  30.058586    860000   745261\n",
       "4       Mbabane        Hhohho -26.316651  31.133335     90138    76218\n",
       "..          ...           ...        ...        ...       ...      ...\n",
       "62  Addis Ababa   Addis Ababa   9.035256  38.698059   3100000  2757729\n",
       "63    Cape Town  Western Cape -33.918065  18.433042   3215000  2432858\n",
       "64        Lagos         Lagos   6.445208   3.389585   9466000     1536\n",
       "65      Nairobi       Nairobi  -1.281401  36.814711   3010000  2750547\n",
       "66        Cairo    Al Qahirah  30.051906  31.248022  11893000  7734614\n",
       "\n",
       "[67 rows x 6 columns]"
      ]
     },
     "execution_count": 58,
     "metadata": {},
     "output_type": "execute_result"
    }
   ],
   "source": [
    "import pandas as pd\n",
    "\n",
    "places = pd.read_csv(\"data/cities_Africa.csv\")\n",
    "places"
   ]
  },
  {
   "cell_type": "code",
   "execution_count": 59,
   "id": "98e0b09f",
   "metadata": {},
   "outputs": [
    {
     "data": {
      "text/plain": [
       "pandas.core.frame.DataFrame"
      ]
     },
     "execution_count": 59,
     "metadata": {},
     "output_type": "execute_result"
    }
   ],
   "source": [
    "type(places)"
   ]
  },
  {
   "cell_type": "markdown",
   "id": "b818972b",
   "metadata": {},
   "source": [
    "Our CSV file is represented in our Python session as a `pandas` DataFrame. The DataFrame is basically a collection of sequences: each column is a sequence of values.\n",
    "\n",
    "A `pandas` DataFrame can be indexed just like a dictionary."
   ]
  },
  {
   "cell_type": "code",
   "execution_count": 60,
   "id": "a0ff19c5",
   "metadata": {},
   "outputs": [
    {
     "data": {
      "text/plain": [
       "0         Lobamba\n",
       "1      Bir Lehlou\n",
       "2          Moroni\n",
       "3          Kigali\n",
       "4         Mbabane\n",
       "         ...     \n",
       "62    Addis Ababa\n",
       "63      Cape Town\n",
       "64          Lagos\n",
       "65        Nairobi\n",
       "66          Cairo\n",
       "Name: name, Length: 67, dtype: object"
      ]
     },
     "execution_count": 60,
     "metadata": {},
     "output_type": "execute_result"
    }
   ],
   "source": [
    "places['name']"
   ]
  },
  {
   "cell_type": "markdown",
   "id": "1270059b-61f4-4946-a5c7-4433a50dbb14",
   "metadata": {},
   "source": [
    "Indexing the `'name'` column of the `places` DataFrame gives us something like a sequence of values. Therefore, we can index the first 10 values of that sequence like this:"
   ]
  },
  {
   "cell_type": "code",
   "execution_count": 61,
   "id": "cd4efe80",
   "metadata": {},
   "outputs": [
    {
     "data": {
      "text/plain": [
       "0       Lobamba\n",
       "1    Bir Lehlou\n",
       "2        Moroni\n",
       "3        Kigali\n",
       "4       Mbabane\n",
       "5          Juba\n",
       "6        Dodoma\n",
       "7      Laayoune\n",
       "8      Djibouti\n",
       "9        Banjul\n",
       "Name: name, dtype: object"
      ]
     },
     "execution_count": 61,
     "metadata": {},
     "output_type": "execute_result"
    }
   ],
   "source": [
    "places['name'][0:10]"
   ]
  },
  {
   "cell_type": "markdown",
   "id": "ac4c975a",
   "metadata": {},
   "source": [
    "Let's assign the sequence of city names to a variable so it's easier to work with. A column in a `pandas` table has a method, `tolist()`, that will return that column's values as a list."
   ]
  },
  {
   "cell_type": "code",
   "execution_count": 62,
   "id": "f9b1ad28",
   "metadata": {},
   "outputs": [
    {
     "data": {
      "text/plain": [
       "list"
      ]
     },
     "execution_count": 62,
     "metadata": {},
     "output_type": "execute_result"
    }
   ],
   "source": [
    "# Convert the \"name\" column to a Python list\n",
    "cities = places['name'].tolist()\n",
    "\n",
    "type(cities)"
   ]
  },
  {
   "cell_type": "markdown",
   "id": "b07b213f",
   "metadata": {},
   "source": [
    "### The `for` Loop\n",
    "\n",
    "A `for` loop is named after the first keyword, `for`, but it has two parts:\n",
    "\n",
    "```python\n",
    "for thing in sequence:\n",
    "```\n",
    "\n",
    "- `thing`, in the example above, can be any variable name you choose. We'll refer to the variable in the position currently occupied by `thing` as the *iterator variable.*\n",
    "- `sequence` can be any Python expression or variable, so long as it evaluates to or points to a sequence.\n",
    "\n",
    "In each iteration of the `for` loop, the iterator variable takes on a new value."
   ]
  },
  {
   "cell_type": "code",
   "execution_count": 63,
   "id": "e9270582",
   "metadata": {},
   "outputs": [
    {
     "name": "stdout",
     "output_type": "stream",
     "text": [
      "red\n",
      "blue\n",
      "green\n"
     ]
    }
   ],
   "source": [
    "for color in [\"red\", \"blue\", \"green\"]:\n",
    "    print(color)"
   ]
  },
  {
   "cell_type": "markdown",
   "id": "2687da21",
   "metadata": {},
   "source": [
    "In the trivial example above, notice that we get three lines of output. This is because there are three elements in our sequence (the list of color names as strings). In the first iteration of the loop, the iterator variable `color` points to the string `\"red\"`. In the second iteration, it points to the string `\"blue\"`, and so on.\n",
    "\n",
    "Note that the line with `print(color)` is indented four (4) spaces, just like the body of a function. In Python, the colon (`:`) character almost always indicates that a new code block is starting on the next line, so you should be used to indenting the next line and any other lines in the code block. Lines that are not indented are considered to be outside the code block; so, in the case of a `for` loop, lines outside of the code block are not run for each iteration of the `for` loop."
   ]
  },
  {
   "cell_type": "code",
   "execution_count": 64,
   "id": "9d62be10",
   "metadata": {},
   "outputs": [
    {
     "name": "stdout",
     "output_type": "stream",
     "text": [
      "red\n",
      "blue\n",
      "green\n",
      "done!\n"
     ]
    }
   ],
   "source": [
    "for color in [\"red\", \"blue\", \"green\"]:\n",
    "    print(color)\n",
    "print(\"done!\")"
   ]
  },
  {
   "cell_type": "markdown",
   "id": "4fd71aaf-befc-4d6e-bd05-eb24d51ca223",
   "metadata": {},
   "source": [
    "The loop variable, `color`, gets assigned to each element of the sequence, in order, in each iteration. Therefore, when the `for` loop is complete, the `color` variable still points to the *last element* of the sequence."
   ]
  },
  {
   "cell_type": "code",
   "execution_count": 65,
   "id": "889ed277-0227-4a01-a1c0-5dda74d35f85",
   "metadata": {},
   "outputs": [
    {
     "data": {
      "text/plain": [
       "'green'"
      ]
     },
     "execution_count": 65,
     "metadata": {},
     "output_type": "execute_result"
    }
   ],
   "source": [
    "color"
   ]
  },
  {
   "cell_type": "markdown",
   "id": "609e7e74",
   "metadata": {},
   "source": [
    "Here's a slightly more interesting example. We can quickly filter the items of our `cities` names sequence by adding an `if` statement to the body of our `for` loop."
   ]
  },
  {
   "cell_type": "code",
   "execution_count": 66,
   "id": "5765c7dd",
   "metadata": {},
   "outputs": [
    {
     "name": "stdout",
     "output_type": "stream",
     "text": [
      "Porto-Novo\n",
      "Port Louis\n"
     ]
    }
   ],
   "source": [
    "for name in cities:\n",
    "    if 'Port' in name:\n",
    "        print(name)"
   ]
  },
  {
   "cell_type": "markdown",
   "id": "c4604826",
   "metadata": {},
   "source": [
    "The body of a `for` loop can be as long as you want it to be. However, it's usually a good idea to keep `for` loops short, for readability. If you have a lot you need to do in the body of a `for` loop, write a function and then call that function inside the body of the `for` loop, just like we did with the `print()` function above."
   ]
  },
  {
   "cell_type": "markdown",
   "id": "28444312",
   "metadata": {},
   "source": [
    "---\n",
    "\n",
    "## Using Sequences Effectively"
   ]
  },
  {
   "cell_type": "markdown",
   "id": "0733f35d",
   "metadata": {},
   "source": [
    "Let's dig deeper using data. **How far away is Algiers from each of these cities?** \n",
    "\n",
    "Most of these are too far away to use a flat-earth approximation. **In geography, the shortest distance between two points on a sphere is a path described by...?**\n",
    "\n",
    "That's right! A *great circle.* **The Haversine function calculates great-circle distances between two points,** and is reasonably accurate for shorter distances."
   ]
  },
  {
   "cell_type": "code",
   "execution_count": 67,
   "id": "dcafd5ee",
   "metadata": {},
   "outputs": [],
   "source": [
    "import numpy as np\n",
    "\n",
    "def haversine(p1, p2):\n",
    "    x1, y1 = map(np.deg2rad, p1)\n",
    "    x2, y2 = map(np.deg2rad, p2)\n",
    "    dphi = np.abs(y2 - y1) # Difference in latitude\n",
    "    dlambda = np.abs(x2 - x1) # Difference in longitude\n",
    "    angle = 2 * np.arcsin(np.sqrt(np.add(\n",
    "        np.power(np.sin(dphi / 2), 2),\n",
    "        np.cos(y1) * np.cos(y2) * np.power(np.sin(dlambda / 2), 2)\n",
    "    )))\n",
    "    return float(angle * 6371e3) # Earth's radius: 6371e3 meters"
   ]
  },
  {
   "cell_type": "markdown",
   "id": "5c0f8616",
   "metadata": {},
   "source": [
    "I need two numbers to represent a location on earth (longitude and latitude), so each location (referred to as `p1` or `p2` in the function above) needs to be a *2-element sequence;* i.e., a 2-element list or 2-element tuple."
   ]
  },
  {
   "cell_type": "code",
   "execution_count": 68,
   "id": "7e3d779d",
   "metadata": {},
   "outputs": [
    {
     "data": {
      "text/plain": [
       "634924.2858604608"
      ]
     },
     "execution_count": 68,
     "metadata": {},
     "output_type": "execute_result"
    }
   ],
   "source": [
    "# Longitude, Latitude\n",
    "ALGIERS = (3.048, 36.765)\n",
    "\n",
    "# Distance between Algiers and Tunis?\n",
    "haversine(ALGIERS, (10.179, 36.803))"
   ]
  },
  {
   "cell_type": "markdown",
   "id": "dd780f1f",
   "metadata": {},
   "source": [
    "Let's suppose that we have three different sequences of equal length."
   ]
  },
  {
   "cell_type": "code",
   "execution_count": 69,
   "id": "a9513096",
   "metadata": {},
   "outputs": [],
   "source": [
    "cities = places['name'].tolist()\n",
    "lat = places['latitude'].tolist()\n",
    "lng = places['longitude'].tolist()"
   ]
  },
  {
   "cell_type": "markdown",
   "id": "b5d7830c",
   "metadata": {},
   "source": [
    "How far away from Algiers is Cairo? Let's start by getting the numeric index of Cairo."
   ]
  },
  {
   "cell_type": "code",
   "execution_count": 70,
   "id": "3bcaa358",
   "metadata": {},
   "outputs": [
    {
     "data": {
      "text/plain": [
       "True"
      ]
     },
     "execution_count": 70,
     "metadata": {},
     "output_type": "execute_result"
    }
   ],
   "source": [
    "'Cairo' in cities"
   ]
  },
  {
   "cell_type": "code",
   "execution_count": 71,
   "id": "20be746c",
   "metadata": {},
   "outputs": [
    {
     "data": {
      "text/plain": [
       "66"
      ]
     },
     "execution_count": 71,
     "metadata": {},
     "output_type": "execute_result"
    }
   ],
   "source": [
    "cities.index(\"Cairo\")"
   ]
  },
  {
   "cell_type": "code",
   "execution_count": 72,
   "id": "6a59defd",
   "metadata": {},
   "outputs": [
    {
     "data": {
      "text/plain": [
       "2710762.9480906716"
      ]
     },
     "execution_count": 72,
     "metadata": {},
     "output_type": "execute_result"
    }
   ],
   "source": [
    "CAIRO = (lng[66], lat[66])\n",
    "\n",
    "haversine(ALGIERS, CAIRO)"
   ]
  },
  {
   "cell_type": "markdown",
   "id": "03a80623",
   "metadata": {},
   "source": [
    "The answer is in meters because of the way our function is written. If we want the answer in kilometers, we need to divide by 1000."
   ]
  },
  {
   "cell_type": "code",
   "execution_count": 73,
   "id": "be05edd4",
   "metadata": {},
   "outputs": [
    {
     "data": {
      "text/plain": [
       "2710.7629480906717"
      ]
     },
     "execution_count": 73,
     "metadata": {},
     "output_type": "execute_result"
    }
   ],
   "source": [
    "haversine(ALGIERS, CAIRO) / 1000"
   ]
  },
  {
   "cell_type": "markdown",
   "id": "43c2c6af",
   "metadata": {},
   "source": [
    "**How can we calculate these distances for all cities?**\n",
    "\n",
    "When we have sequences of equal length, or anytime the length of a sequence is predictable and important, we can use a `for` loop that iterates of the *numeric indices* of the sequence."
   ]
  },
  {
   "cell_type": "code",
   "execution_count": 74,
   "id": "6199d2a7",
   "metadata": {},
   "outputs": [
    {
     "name": "stdout",
     "output_type": "stream",
     "text": [
      "Lobamba\n",
      "Bir Lehlou\n",
      "Moroni\n",
      "Kigali\n",
      "Mbabane\n",
      "Juba\n",
      "Dodoma\n",
      "Laayoune\n",
      "Djibouti\n",
      "Banjul\n"
     ]
    }
   ],
   "source": [
    "# Just for the first 10 cities... Can replace 10 with len(cities)\n",
    "for i in range(0, 10):\n",
    "    print(cities[i])"
   ]
  },
  {
   "cell_type": "markdown",
   "id": "a0a30647",
   "metadata": {},
   "source": [
    "Here, we can use the index variable `i` to select elements in the same position in multiple arrays."
   ]
  },
  {
   "cell_type": "code",
   "execution_count": 75,
   "id": "6803c91b",
   "metadata": {},
   "outputs": [],
   "source": [
    "distances = []\n",
    "for i in range(0, len(cities)):\n",
    "    city = cities[i]\n",
    "    coords = (lng[i], lat[i])\n",
    "    dist = haversine(ALGIERS, coords) / 1000\n",
    "    distances.append(round(dist, 1))"
   ]
  },
  {
   "cell_type": "code",
   "execution_count": 76,
   "id": "49879fea",
   "metadata": {},
   "outputs": [
    {
     "name": "stdout",
     "output_type": "stream",
     "text": [
      "Cairo is 2710.8 km away from Algiers\n"
     ]
    }
   ],
   "source": [
    "print(cities[66], 'is', distances[66], 'km away from Algiers')"
   ]
  },
  {
   "cell_type": "markdown",
   "id": "1aab93b1",
   "metadata": {},
   "source": [
    "**Python has some special built-in functions for working with sequences.**"
   ]
  },
  {
   "cell_type": "markdown",
   "id": "54a2c6ce",
   "metadata": {},
   "source": [
    "The function `enumerate()`, when used in a `for` loop, takes any sequence and produces pairs of an indexing variable and each element of that sequence, in order."
   ]
  },
  {
   "cell_type": "code",
   "execution_count": 77,
   "id": "9eef28d2-a20d-4c6f-90a0-009d10cce743",
   "metadata": {},
   "outputs": [
    {
     "name": "stdout",
     "output_type": "stream",
     "text": [
      "Lobamba\n",
      "Moroni\n",
      "Kigali\n",
      "Mbabane\n",
      "Dodoma\n",
      "Bujumbura\n",
      "Port Louis\n",
      "Lusaka\n",
      "Harare\n",
      "Bloemfontein\n",
      "Pretoria\n",
      "Maputo\n",
      "Windhoek\n",
      "Maseru\n",
      "Antananarivo\n",
      "Lilongwe\n",
      "Brazzaville\n",
      "Gaborone\n",
      "Victoria\n",
      "Dar es Salaam\n",
      "Luanda\n",
      "Johannesburg\n",
      "Kinshasa\n",
      "Cape Town\n",
      "Nairobi\n"
     ]
    }
   ],
   "source": [
    "for i, city in enumerate(cities):\n",
    "    if lat[i] < 0:\n",
    "        print(city)"
   ]
  },
  {
   "cell_type": "markdown",
   "id": "f4a83c03",
   "metadata": {},
   "source": [
    "In the above example, we have *two* iterator variables. Confused? Consider this slight variation on the previous example. Below, I am using a `break` statement to make sure the loop only runs once; we'll talk more about `break` later."
   ]
  },
  {
   "cell_type": "code",
   "execution_count": 78,
   "id": "bc8e5fd2-d9bd-44f4-9694-f7d6a43d00dd",
   "metadata": {},
   "outputs": [
    {
     "name": "stdout",
     "output_type": "stream",
     "text": [
      "(0, 'Lobamba')\n"
     ]
    }
   ],
   "source": [
    "for thing in enumerate(cities):\n",
    "    print(thing)\n",
    "    break"
   ]
  },
  {
   "cell_type": "markdown",
   "id": "7cf85b10-dcf5-4992-8cd3-47c23c2edf9e",
   "metadata": {},
   "source": [
    "You should be able to tell that the iterator variable `thing` is a tuple containing two elements. The first element is a number, `0`, and the second element is a city name, like we would have expected. What `enumerate()` does is, instead of assigning the iterator variable (`thing`) to each value of the sequence (`cities`), it creates a tuple and makes the iterator variable point to that tuple instead.\n",
    "\n",
    "So, in our first example, with two iterator variables, we were basically doing something like:"
   ]
  },
  {
   "cell_type": "code",
   "execution_count": 79,
   "id": "ac29b33c-56e1-4922-ac63-e51a443fe4ac",
   "metadata": {},
   "outputs": [],
   "source": [
    "for thing in enumerate(cities):\n",
    "    i = thing[0]\n",
    "    city = thing[1]"
   ]
  },
  {
   "cell_type": "markdown",
   "id": "d11a469e-cdf3-4d48-889d-0a322fe25368",
   "metadata": {},
   "source": [
    "But by writing two, comma-separated iterator variables, our `for` loop is a little cleaner and easier to read.\n",
    "\n",
    "**Another built-in function that can be useful to use with `for` loops is `reversed()`.** Can you guess what `reversed()` does?"
   ]
  },
  {
   "cell_type": "code",
   "execution_count": 80,
   "id": "e194e408-d58f-43e1-ae24-7e247549c646",
   "metadata": {},
   "outputs": [
    {
     "data": {
      "text/plain": [
       "<list_reverseiterator at 0x7f593e4c21a0>"
      ]
     },
     "execution_count": 80,
     "metadata": {},
     "output_type": "execute_result"
    }
   ],
   "source": [
    "reversed(cities)"
   ]
  },
  {
   "cell_type": "markdown",
   "id": "98927583",
   "metadata": {},
   "source": [
    "Instead of printing the results of the `reversed()` function immediately, Python creates what's called a **generator.** This is a special Python object that represents the transformation of the data that you want; in this case, the `cities` list in reverse order. By creating this representation, Python saves time because the result is not calculated until you actually ask for an element.\n",
    "\n",
    "```python\n",
    "for city in reversed(cities):\n",
    "    print(city)\n",
    "```"
   ]
  },
  {
   "cell_type": "markdown",
   "id": "bd07d212",
   "metadata": {},
   "source": [
    "---\n",
    "\n",
    "### Challenge: Closest City to Algiers?\n",
    "\n",
    "**What's the closest city in this dataset to Algiers?** Remember that there are built in `min()` and `max()` functions, and you can call the `index()` method on a `list` to get the numeric position of an element."
   ]
  },
  {
   "cell_type": "code",
   "execution_count": 81,
   "id": "c6a8582b",
   "metadata": {},
   "outputs": [
    {
     "data": {
      "text/plain": [
       "57"
      ]
     },
     "execution_count": 81,
     "metadata": {},
     "output_type": "execute_result"
    }
   ],
   "source": [
    "distances.index(min(distances))"
   ]
  },
  {
   "cell_type": "code",
   "execution_count": 82,
   "id": "c27a5c07",
   "metadata": {},
   "outputs": [
    {
     "data": {
      "text/plain": [
       "'Algiers'"
      ]
     },
     "execution_count": 82,
     "metadata": {},
     "output_type": "execute_result"
    }
   ],
   "source": [
    "cities[57]"
   ]
  },
  {
   "cell_type": "markdown",
   "id": "1012a89f",
   "metadata": {},
   "source": [
    "Okay, sure, Algiers is in the cities dataset... Challenge yourself further by calculating the *second-closest* city to Algiers (i.e., the closest city if Algiers wasn't in the cities dataset)."
   ]
  },
  {
   "cell_type": "markdown",
   "id": "440dd80c",
   "metadata": {},
   "source": [
    "---\n",
    "\n",
    "## More Resources\n",
    "\n",
    "- [The Python Standard library](https://docs.python.org/3/library/index.html)\n",
    "- Punit Jajodia: [In Python, Everything is an Object](https://www.youtube.com/watch?v=X1RN6ADsOW4)\n",
    "- Whirlwind Tour of Python: [Basic Python Semantics: Variables and Objects](https://nbviewer.org/github/jakevdp/WhirlwindTourOfPython/blob/master/03-Semantics-Variables.ipynb)\n",
    "- Whirlwind Tour of Python: [Built-in Data Structures](https://nbviewer.org/github/jakevdp/WhirlwindTourOfPython/blob/master/06-Built-in-Data-Structures.ipynb)"
   ]
  }
 ],
 "metadata": {
  "kernelspec": {
   "display_name": "Python 3 (ipykernel)",
   "language": "python",
   "name": "python3"
  },
  "language_info": {
   "codemirror_mode": {
    "name": "ipython",
    "version": 3
   },
   "file_extension": ".py",
   "mimetype": "text/x-python",
   "name": "python",
   "nbconvert_exporter": "python",
   "pygments_lexer": "ipython3",
   "version": "3.10.12"
  }
 },
 "nbformat": 4,
 "nbformat_minor": 5
}
