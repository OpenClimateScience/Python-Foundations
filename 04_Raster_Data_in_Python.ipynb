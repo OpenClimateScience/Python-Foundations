{
 "cells": [
  {
   "cell_type": "markdown",
   "id": "3bb9912f",
   "metadata": {},
   "source": [
    "# Raster Data Analysis in Python\n",
    "\n",
    "*2 hours*\n",
    "\n",
    "**Contents:**\n",
    "\n",
    "- [Applying Functions Over Axes](#Applying-Functions-Over-Axes)\n",
    "- [Introduction to `rasterio`](#Introduction-to-rasterio)\n",
    "- [Spatial Reference Systems in Python](#Spatial-Reference-Systems-in-Python)\n",
    "- [Working with Raster Data](#Working-with-Raster-Data)\n",
    "- [Writing Raster Data to a File](#Writing-Raster-Data-to-a-File)\n",
    "- [Multispectral Raster Data and Spectral Indices](#Multispectral-Raster-Data-and-Spectral-Indices)\n",
    "- [Reprojection and Resampling](#Reprojection-and-Resampling)\n",
    "- [Array Masks](#Array-Masks)"
   ]
  },
  {
   "cell_type": "markdown",
   "id": "30292aad-c634-49e2-960a-795df188e832",
   "metadata": {},
   "source": [
    "---\n",
    "\n",
    "## Applying Functions to Array Axes"
   ]
  },
  {
   "cell_type": "markdown",
   "id": "4c378c20-2bad-421c-9a79-765192639690",
   "metadata": {},
   "source": [
    "In the last module, we learned about NumPy arrays. NumPy arrays, by themselves, aren't enough to represent raster datasets, because they can't represent the *spatial coordinates* of geospatial data. We'll see how to work with raster data in Python but, first, let's continue working with some array data.\n",
    "\n",
    "Let's introduce a new type of multidimensional array, one which has three dimensions, where each element of the third dimensions is a different time period. We'll continue working with the NOAA NCEP data we saw earlier. In this version, I subset the data to Africa and calculated an annual average."
   ]
  },
  {
   "cell_type": "code",
   "execution_count": null,
   "id": "5bd332dd",
   "metadata": {},
   "outputs": [],
   "source": [
    "import requests\n",
    "import numpy as np\n",
    "\n",
    "content = requests.get('http://files.ntsg.umt.edu/data/GIS_Programming/data/NOAA_NCEP_CPC_gridded_deg0p5_1948-2022_Africa_74x149x143.float32')\n",
    "data = np.frombuffer(content.content, dtype = np.float32)\\\n",
    "    .reshape((74, 149, 143))"
   ]
  },
  {
   "cell_type": "markdown",
   "id": "204cbd90-8606-4b57-9a26-fc980c5b559d",
   "metadata": {},
   "source": [
    "The first axis of this `data` array represents years; there are 74 years of data."
   ]
  },
  {
   "cell_type": "code",
   "execution_count": null,
   "id": "545dbe52-2cbd-4827-a453-e0d120564da3",
   "metadata": {},
   "outputs": [],
   "source": [
    "data.shape"
   ]
  },
  {
   "cell_type": "markdown",
   "id": "fa78881b-6056-498b-9de8-2438f7a30d72",
   "metadata": {},
   "source": [
    "We can plot the first year (1948) of data by typing:"
   ]
  },
  {
   "cell_type": "code",
   "execution_count": null,
   "id": "f7c2ef14",
   "metadata": {},
   "outputs": [],
   "source": [
    "from matplotlib import pyplot\n",
    "\n",
    "pyplot.imshow(data[0])\n",
    "pyplot.colorbar()"
   ]
  },
  {
   "cell_type": "markdown",
   "id": "0fc0b82e-230c-4c1f-9fb8-347799ac0d92",
   "metadata": {},
   "source": [
    "Just as we did with time series data, we can calculate a minimum, maximum, or average along a given axis. Here, we can calculate the maximum surface temperature at each pixel, over time, by typing:"
   ]
  },
  {
   "cell_type": "code",
   "execution_count": null,
   "id": "d6a16617",
   "metadata": {},
   "outputs": [],
   "source": [
    "max_temp = data.max(axis = 0)\n",
    "pyplot.imshow(max_temp)"
   ]
  },
  {
   "cell_type": "markdown",
   "id": "c3396341-dc41-424c-b1fc-44918755487f",
   "metadata": {},
   "source": [
    "Recall that `numpy` arrays have methods like `data.min()` and `data.mean()`, as well, which take axis arguments.\n",
    "\n",
    "**But what if we wanted to calculate something other than the minimum, maximum, mean, or median in surface temperatures over this 74-year period?** There's no obvious way to do this with the tools we already. We need a way of applying a custom function to an array.\n",
    "\n",
    "For situations like this, we can use `numpy.apply_along_axis()`. Here's an example that produces the same result as before, but allows for more general use cases:"
   ]
  },
  {
   "cell_type": "code",
   "execution_count": null,
   "id": "0ec78977",
   "metadata": {},
   "outputs": [],
   "source": [
    "max_temp2 = np.apply_along_axis(max, 0, data)\n",
    "pyplot.imshow(max_temp2)"
   ]
  },
  {
   "cell_type": "markdown",
   "id": "bd1317c4-433a-4387-aacb-01530427943b",
   "metadata": {},
   "source": [
    "The arguments to `numpy.apply_along_axis()` are, in order:\n",
    "\n",
    "- The function you want to apply\n",
    "- The axis you want to apply the function over\n",
    "- The array\n",
    "\n",
    "For the second argument, it's helpful to remember how the `axis` argument works, from this diagram:\n",
    "\n",
    "![](./assets/numpy-axis.jpg)\n",
    "\n",
    "**When we write `np.apply_along_axis(max, 0, data)`, we are saying we want the function `max()` to be applied to slices along the 0th axis.** \n",
    "\n",
    "i.e., every time `max()` is called it receives a slice of the 0th axis which, in this case, is the years axis. You can prove this to yourself by trying out:"
   ]
  },
  {
   "cell_type": "code",
   "execution_count": null,
   "id": "85939fd4",
   "metadata": {},
   "outputs": [],
   "source": [
    "np.apply_along_axis(lambda x: x.size, 0, data)"
   ]
  },
  {
   "cell_type": "markdown",
   "id": "d576c090-dd92-4fec-97b9-b99836187ee4",
   "metadata": {},
   "source": [
    "We can see from this example that `max()` receives a 74-year time series when it is called. This allows us to summarize interannual data quickly and easily!\n",
    "\n",
    "For instance, where do we see the biggest range in inter-annual temperatures?"
   ]
  },
  {
   "cell_type": "code",
   "execution_count": null,
   "id": "2e1dee83",
   "metadata": {},
   "outputs": [],
   "source": [
    "rng = np.apply_along_axis(lambda x: np.max(x) - np.min(x), 0, data)\n",
    "pyplot.imshow(rng, vmax = 12)\n",
    "pyplot.colorbar()\n",
    "pyplot.show()"
   ]
  },
  {
   "cell_type": "markdown",
   "id": "2ed8e282-87c4-48e6-8818-0eeb20bdfd5e",
   "metadata": {},
   "source": [
    "But clearly, the most interesting thing we could do is to calculate trends."
   ]
  },
  {
   "cell_type": "code",
   "execution_count": null,
   "id": "c4ad3d51",
   "metadata": {},
   "outputs": [],
   "source": [
    "from scipy import stats\n",
    "\n",
    "def linear_trend(array):\n",
    "    # linregress(x, y) takes two arguments: y is regressed on x\n",
    "    result = stats.linregress(np.arange(0, 74), array)\n",
    "    return result[0] # Just the slope\n",
    "\n",
    "trends = np.apply_along_axis(linear_trend, 0, data)"
   ]
  },
  {
   "cell_type": "code",
   "execution_count": null,
   "id": "31e87049",
   "metadata": {},
   "outputs": [],
   "source": [
    "pyplot.imshow(trends)\n",
    "pyplot.colorbar()\n",
    "pyplot.show()"
   ]
  },
  {
   "cell_type": "markdown",
   "id": "c093e483-8dac-4772-ba4d-b1878f9bede6",
   "metadata": {},
   "source": [
    "**Both the range and trends maps, above, look a little weird, probably because these gridded temperatures are interpolated from station data, which can be sparse.** If were really interested in extrapolating the range or trend in temperatures, we should probably use a remote-sensing based product, instead. But this works well for educational purposes."
   ]
  },
  {
   "cell_type": "markdown",
   "id": "fff01c98",
   "metadata": {},
   "source": [
    "---\n",
    "\n",
    "## Introduction to `rasterio`"
   ]
  },
  {
   "cell_type": "markdown",
   "id": "5ed4d433",
   "metadata": {},
   "source": [
    "We're finally ready to start working with spatial file formats in Python! We'll introduce the library `rasterio`, which is capable of reading raster data files like GeoTIFF files."
   ]
  },
  {
   "cell_type": "code",
   "execution_count": null,
   "id": "68d069ce",
   "metadata": {},
   "outputs": [],
   "source": [
    "import rasterio as rio\n",
    "\n",
    "neon = rio.open('http://files.ntsg.umt.edu/data/GIS_Programming/data/NEON_ortho.tif')\n",
    "neon"
   ]
  },
  {
   "cell_type": "markdown",
   "id": "414d6320-beae-4a40-9bb4-615350658fbb",
   "metadata": {},
   "source": [
    "A `rasterio` dataset has some helpful attributes, like most Python objects."
   ]
  },
  {
   "cell_type": "code",
   "execution_count": null,
   "id": "5b0e03b1",
   "metadata": {},
   "outputs": [],
   "source": [
    "neon.mode"
   ]
  },
  {
   "cell_type": "code",
   "execution_count": null,
   "id": "33cb9447",
   "metadata": {},
   "outputs": [],
   "source": [
    "neon.count"
   ]
  },
  {
   "cell_type": "markdown",
   "id": "166e2ee2-42a1-494d-ac3d-5085dbc3c1c5",
   "metadata": {},
   "source": [
    "This is a multi-band GeoTIFF, so it has multiple **indexes.** These are basically the band numbers. Note that while Python starts counting at zero, the lowest band number is Band 1."
   ]
  },
  {
   "cell_type": "code",
   "execution_count": null,
   "id": "f1a9bfd2",
   "metadata": {},
   "outputs": [],
   "source": [
    "neon.indexes"
   ]
  },
  {
   "cell_type": "markdown",
   "id": "cb4ba278-8068-4971-a40b-ce33ac0ae6ce",
   "metadata": {},
   "source": [
    "It's possible for some datasets with multiple bands to have different data types for each band. Hence, there is a `dtypes` attribute that list the data type for each band."
   ]
  },
  {
   "cell_type": "code",
   "execution_count": null,
   "id": "e424d5f9",
   "metadata": {},
   "outputs": [],
   "source": [
    "neon.dtypes"
   ]
  },
  {
   "cell_type": "markdown",
   "id": "3d0d0519-a669-4218-9c07-65e990abde46",
   "metadata": {},
   "source": [
    "**As we've seen, a raster can be represented as a multi-dimensional array...**"
   ]
  },
  {
   "cell_type": "code",
   "execution_count": null,
   "id": "aa57b0c2",
   "metadata": {},
   "outputs": [],
   "source": [
    "(neon.height, neon.width)"
   ]
  },
  {
   "cell_type": "markdown",
   "id": "0e494e9e-e1d5-4375-9303-476417d5b637",
   "metadata": {},
   "source": [
    "In fact, `rasterio` builds on top of NumPy to represent the underlying raster data."
   ]
  },
  {
   "cell_type": "code",
   "execution_count": null,
   "id": "47e92aec-e062-4899-be02-173978a27d00",
   "metadata": {},
   "outputs": [],
   "source": [
    "neon.shape"
   ]
  },
  {
   "cell_type": "markdown",
   "id": "74a7dbc5-a9c0-47e4-bf73-82c110d1f1ce",
   "metadata": {},
   "source": [
    "**But there are two things that distinguish a raster dataset from a multi-dimensional array.**\n",
    "\n",
    "One of those things is the **spatial projection,** also known as Spatial Reference System (SRS) or Coordinate Reference System (CRS)."
   ]
  },
  {
   "cell_type": "code",
   "execution_count": null,
   "id": "85b04ad0",
   "metadata": {},
   "outputs": [],
   "source": [
    "neon.crs"
   ]
  },
  {
   "cell_type": "markdown",
   "id": "25980f8f-4cd3-4eea-8ffa-79f872f433a9",
   "metadata": {},
   "source": [
    "Where `32606` is the European Petroleum Survey Group (EPSG) code for UTM Zone 6. This numeric code might not mean much to us, but we can get more information about the CRS by looking at its **Well-Known Text (WKT)** representation:"
   ]
  },
  {
   "cell_type": "code",
   "execution_count": null,
   "id": "091608e0-9d25-4064-8b3a-28959dc917a7",
   "metadata": {},
   "outputs": [],
   "source": [
    "neon.crs.to_wkt()"
   ]
  },
  {
   "cell_type": "markdown",
   "id": "5930fae4-5adf-42cd-9929-f54f3e9a125a",
   "metadata": {},
   "source": [
    "We can look EPSG codes at the [website EPSG.io](https://epsg.io/32606); *or,* we could use [the `pyproj` library:](https://pyproj4.github.io/pyproj/stable/api/crs/crs.html)"
   ]
  },
  {
   "cell_type": "code",
   "execution_count": null,
   "id": "a5d2117d",
   "metadata": {},
   "outputs": [],
   "source": [
    "from pyproj import CRS\n",
    "\n",
    "srs = CRS.from_user_input(32606)\n",
    "srs.to_wkt()"
   ]
  },
  {
   "cell_type": "markdown",
   "id": "84f9a3c2-ef34-4328-adf2-ae2431920c29",
   "metadata": {},
   "source": [
    "Note that the above WKT string is different from the one given by `neon.crs.to_wkt()`; in general, we want to trust the CRS that's defined on the raster dataset we're working with."
   ]
  },
  {
   "cell_type": "markdown",
   "id": "48ea3c90-f433-4b0e-9e80-c0fdcb5fb2bc",
   "metadata": {},
   "source": [
    "---\n",
    "\n",
    "## Spatial Reference Systems in Python"
   ]
  },
  {
   "cell_type": "markdown",
   "id": "9617b444-0ee3-476d-b102-7fb472003c71",
   "metadata": {},
   "source": [
    "The projection tells us how a raster image should be displayed but it doesn't tell us where, on the surface of the Earth, it should be positioned, nor does it tell us to rotate or warp the image so that it looks correct.\n",
    "\n",
    "**To completely describe a raster dataset in Python, we need two pieces of information:**\n",
    "\n",
    "1. The coordinate reference system (CRS) or *projection* of the data; this describes how the flat image corresponds to the non-flat Earth.\n",
    "2. The *affine transformation,* which describes how the raster's rows and columns line up with the geospatial coordinates, e.g., latitude and longitude."
   ]
  },
  {
   "cell_type": "markdown",
   "id": "b2a3702a-1bc7-45da-8b9c-b5efc6a6864d",
   "metadata": {},
   "source": [
    "**The second piece of information, the affine transformation, is obtained:**"
   ]
  },
  {
   "cell_type": "code",
   "execution_count": null,
   "id": "335ce435",
   "metadata": {},
   "outputs": [],
   "source": [
    "neon.transform"
   ]
  },
  {
   "cell_type": "markdown",
   "id": "cd1e0cd7-3206-4181-bf85-04acc313d466",
   "metadata": {},
   "source": [
    "**What does this mean?** The affine transform always consists of 6 numbers:\n",
    "\n",
    "```py\n",
    "(pixel_width, row_rotation, x_min, col_rotation, -pixel_height, y_max)\n",
    "```\n",
    "\n",
    "1. `pixel_width` is the width of a raster pixel in the units used by the SRS, usually meters or degrees.\n",
    "2. `row_rotation` describes how rows are oriented on the map; for North-up maps this is always zero.\n",
    "3. `x_min` is the minimum X coordinate, for example, the minimum or west-most Longitude.\n",
    "4. `col_rotation` is similar to `row_rotation` and is always zero for North-up maps.\n",
    "5. `-pixel_height` is the *negative* height of a raster pixel, in the units used by the SRS.\n",
    "6. `y_max` is the maximum Y coordinate, for example, the maximum or north-most Latitude.\n",
    "\n",
    "[You can read more about the affine transform and its implementation in `rasterio` here.](https://github.com/rasterio/affine)\n",
    "\n",
    "**So, in this example:**"
   ]
  },
  {
   "cell_type": "code",
   "execution_count": null,
   "id": "89d659e2-3d91-46c7-b14c-596b28d5a887",
   "metadata": {},
   "outputs": [],
   "source": [
    "neon.transform"
   ]
  },
  {
   "cell_type": "markdown",
   "id": "20418590-c7a3-4b26-aece-57da68f4d900",
   "metadata": {},
   "source": [
    "- `470000.0` is the minimum X coordinate (minimum Easting, given this is a UTM projection)\n",
    "- `7228000.0` is the maximum Y coordinate (maximum Northing, given this is a UTM projection)\n",
    "- `1.0` is the pixel width, i.e., 1 meter\n",
    "- `-1.0` is the pixel height, also 1 meter. We'll discuss why it is a negative number."
   ]
  },
  {
   "cell_type": "markdown",
   "id": "f54a45fc-15ce-41f5-b628-683c166aed79",
   "metadata": {},
   "source": [
    "An **affine transformation** is a kind of transformation that preserves lines and paralellism; in GIS, it's a way of mapping one 2D grid onto a different gridded coordinate system.\n",
    "\n",
    "![](./assets/affine-transformation.jpg)\n",
    "\n",
    "*Image from [GeeksForGeeks.org](https://www.geeksforgeeks.org/python-opencv-affine-traansformation/)*\n",
    "\n",
    "For example, an affine transformation describes the change in perspective between a billboard seen at an angle and the original image.\n",
    "\n",
    "![](./assets/affine-transformation2.png)\n",
    "\n",
    "*Image from [Felipe Meganha](https://felipemeganha.medium.com/perspective-transformation-with-kornia-8bf86718adfd)*"
   ]
  },
  {
   "cell_type": "markdown",
   "id": "f0eb5eb7-e76f-47f0-8887-25aab4d09420",
   "metadata": {},
   "source": [
    "Let's build some intuition about raster data arrays in Python. When we work with raster data in Python, we have to keep in mind that there are two coordinate systems: \n",
    "\n",
    "1. The spatial coordinate system (SRS), which describes where something is on our representation of the Earth;\n",
    "2. The image coordinate system, which describes the location of a value within the array's data structure.\n",
    "\n",
    "The image coordinate system, for a single-band raster image, consists of rows and columns. **One important thing to remember is that row-column values *increase* from top to bottom in the image coordinate system, whereas spatial coordinate (e.g., latitude) *decrease* in that same direction.**\n",
    "\n",
    "![](./assets/coordinate-system-diagram.png)"
   ]
  },
  {
   "cell_type": "markdown",
   "id": "9ea1f82b-ff12-4c19-a36b-e7faa9a5a633",
   "metadata": {},
   "source": [
    "So, with `neon.crs` and `neon.transform`, we have all the information needed to display the raster's rows and columns correctly on a map. But what about the raster data itself? How can we actually start working with the raster data values?"
   ]
  },
  {
   "cell_type": "markdown",
   "id": "c42090d4-56bb-42fb-b157-65209997523a",
   "metadata": {},
   "source": [
    "---\n",
    "\n",
    "## Working with Raster Data in Python"
   ]
  },
  {
   "cell_type": "markdown",
   "id": "53122903-ffc8-4db1-b84f-3b80067d9ee9",
   "metadata": {},
   "source": [
    "As we've discussed, raster data in Python can be represented by NumPy arrays. The first step to working with or visualizing the data is to get the raster data into a NumPy array. This is done with the `read()` method of a `rasterio` dataset..."
   ]
  },
  {
   "cell_type": "code",
   "execution_count": null,
   "id": "c87e7b02",
   "metadata": {},
   "outputs": [],
   "source": [
    "# Read the first band of the raster dataset\n",
    "arr = neon.read(1)\n",
    "arr"
   ]
  },
  {
   "cell_type": "code",
   "execution_count": null,
   "id": "7230168e-a904-48a7-8362-153c1fb45db2",
   "metadata": {},
   "outputs": [],
   "source": [
    "arr.shape"
   ]
  },
  {
   "cell_type": "markdown",
   "id": "d0b388ea-48ea-4fb4-b742-b49a740287c3",
   "metadata": {},
   "source": [
    "As expected, the raster has 1000 rows and 1000 columns, just as the `gdal.Dataset` reported."
   ]
  },
  {
   "cell_type": "code",
   "execution_count": null,
   "id": "ff3e8e5d",
   "metadata": {},
   "outputs": [],
   "source": [
    "from matplotlib import pyplot\n",
    "pyplot.imshow(arr)"
   ]
  },
  {
   "cell_type": "markdown",
   "id": "252f88cf-8624-4ff3-9a93-df4e9e0c68e4",
   "metadata": {},
   "source": [
    "This image shows part of a fire scare in central Alaska. The data values correspond to the surface *albedo,* which describes the fraction of incoming sunlight that is reflected by the Earth's surface. You can see that the fire scar has a much lower albedo, and appears darker, than the unburned areas at the bottom-left and top-right of the image. Two roads cutting through the area also appear brighter.\n",
    "\n",
    "**One important thing to note when we're working with raster data as `numpy` arrays.**\n",
    "\n",
    "- The rows of an array increase from top to bottom. This is different from most spatial coordinates, like latitude.\n",
    "- The columns of an array increase from left to right, which is similar to spatial coordinates like longitude.\n",
    "\n",
    "Therefore, the top-left value of an array is the north-west corner of our image."
   ]
  },
  {
   "cell_type": "code",
   "execution_count": null,
   "id": "fd7dcbc4",
   "metadata": {},
   "outputs": [],
   "source": [
    "arr[0,0]"
   ]
  },
  {
   "cell_type": "markdown",
   "id": "a2e56c21-f658-4049-b42c-12393420dae4",
   "metadata": {},
   "source": [
    "Because these are albedo data, the values fall between zero and one. We can ask `numpy` for the percentiles of the data, e.g., the 0th percentile (minimum), 50th percentile (median), and 100th percentile (maximum)."
   ]
  },
  {
   "cell_type": "code",
   "execution_count": null,
   "id": "9db10b04",
   "metadata": {},
   "outputs": [],
   "source": [
    "import numpy as np\n",
    "\n",
    "np.percentile(arr, (0, 50, 100))"
   ]
  },
  {
   "cell_type": "markdown",
   "id": "befb23c0-1cbc-40a4-9237-23a0a77bf0cb",
   "metadata": {},
   "source": [
    "Because the raster data are a `numpy` array, we can operate on them as if they contain any other kind of data. In addition, we usually don't need to think at all about the spatial coordinate system when we're working with the data."
   ]
  },
  {
   "cell_type": "code",
   "execution_count": null,
   "id": "505f2eef",
   "metadata": {},
   "outputs": [],
   "source": [
    "# Applying a stretch to the data\n",
    "lower, upper = np.percentile(arr, (2, 98))\n",
    "\n",
    "stretch = arr.copy()\n",
    "stretch[stretch < lower] = lower\n",
    "stretch[stretch > upper] = upper\n",
    "pyplot.imshow(stretch)"
   ]
  },
  {
   "cell_type": "markdown",
   "id": "f803e8f0-081b-4398-a6e1-f23d29a68171",
   "metadata": {},
   "source": [
    "---\n",
    "\n",
    "## Writing Raster Data to a File"
   ]
  },
  {
   "cell_type": "markdown",
   "id": "ae14f36b-ce5a-4e27-89b9-a1e17c65bcaf",
   "metadata": {},
   "source": [
    "There are several reasons why you might prefer to use `rasterio` to read and write raster data files. For one, writing a raster data file can be done in fewer steps with `rasterio` than with `gdal`.\n",
    "\n",
    "It begins with opening a dataset for writing, specifying the spatial attributes of the raster we want to write."
   ]
  },
  {
   "cell_type": "code",
   "execution_count": null,
   "id": "e6113bb8",
   "metadata": {},
   "outputs": [],
   "source": [
    "import numpy as np\n",
    "\n",
    "dset = rio.open(\n",
    "    'rio_output.tif', 'w', driver = 'GTiff', height = 1000, width = 1000, \n",
    "    count = 3, dtype = np.uint8, crs = neon.crs, transform = neon.transform)"
   ]
  },
  {
   "cell_type": "markdown",
   "id": "4ec24725-9340-4c7c-a85d-16bc89be3be8",
   "metadata": {},
   "source": [
    "When a file is opened for writing with `rasterio`, the following keyword arguments are required:\n",
    "\n",
    "- `driver`, e.g., `\"GTiff\"` for GeoTIFF output\n",
    "- `width` and `height`, in pixels\n",
    "- `count`, which is the number of bands\n",
    "- `dtype`, which is the data type and can be specified by a `numpy` datatype\n",
    "\n",
    "If we don't provide a `crs` or `transform` argument, we will get a warning, but not a fatal error. Here, I've just used the `crs` and `transform` attributes of the existing dataset.\n",
    "\n",
    "Now that the file is open for writing and is set up with a spatial reference system, we can write data into the file. The `write()` method works similar to the `read()` method, where we specify the band number.\n",
    "\n",
    "For example, we can write our stretched image to this file:"
   ]
  },
  {
   "cell_type": "code",
   "execution_count": null,
   "id": "43d22dbd",
   "metadata": {},
   "outputs": [],
   "source": [
    "dset.write(stretch, 1)"
   ]
  },
  {
   "cell_type": "markdown",
   "id": "491e6b7e-81de-45e1-845c-82d31faf4519",
   "metadata": {},
   "source": [
    "Finally, when we're done writing data, we close the file."
   ]
  },
  {
   "cell_type": "code",
   "execution_count": null,
   "id": "7312872a",
   "metadata": {},
   "outputs": [],
   "source": [
    "dset.close()"
   ]
  },
  {
   "cell_type": "markdown",
   "id": "bc192f1a-fb71-48df-b157-ff1af708c608",
   "metadata": {},
   "source": [
    "We only wrote one band to the file, but this should give you the basic idea of how writing data with `rasterio` works."
   ]
  },
  {
   "cell_type": "markdown",
   "id": "e1745581-e8f2-4a39-97b6-2c850a7dacd5",
   "metadata": {},
   "source": [
    "---\n",
    "\n",
    "## Break\n",
    "\n",
    "*10 minute break for learners.*"
   ]
  },
  {
   "cell_type": "markdown",
   "id": "0658cdce-a9d3-46e0-ac5d-d1cf97cffa10",
   "metadata": {},
   "source": [
    "---\n",
    "\n",
    "## Multispectral Raster Data and Spectral Indices"
   ]
  },
  {
   "cell_type": "markdown",
   "id": "a27db8b0-0311-4361-ade4-2b3e201f79b4",
   "metadata": {},
   "source": [
    "We can read multiple bands from a `rasterio` dataset in one call to `read()`:"
   ]
  },
  {
   "cell_type": "code",
   "execution_count": null,
   "id": "6f76bcbf-c771-477a-afb3-bdfb5fb33dd0",
   "metadata": {},
   "outputs": [],
   "source": [
    "rgb = neon.read((1, 2, 3))\n",
    "rgb.shape"
   ]
  },
  {
   "cell_type": "markdown",
   "id": "54f84d33-14ad-4681-84c2-d61d385ccc9d",
   "metadata": {},
   "source": [
    "Here, the first axis is the \"band\" axis; it represents the three bands in this image: Red, Green, and Blue.\n",
    "\n",
    "**Can we plot this image?** Well, `pyplot.imshow()` is very particular about what kinds of arrays it can plot. In general:\n",
    "\n",
    "- It can plot any 2D array\n",
    "- It can plot a 3D array *only* if the last axis represents three (3) bands, which get mapped to Red, Green, and Blue\n",
    "\n",
    "For example, `pyplot.imshow()` throws an error if we try to plot `rgb`, because its last axis has `1000` elements instead of `3`:"
   ]
  },
  {
   "cell_type": "code",
   "execution_count": null,
   "id": "9e221655-5cf7-4f89-b72d-0455f7e54f11",
   "metadata": {},
   "outputs": [],
   "source": [
    "pyplot.imshow(rgb)"
   ]
  },
  {
   "cell_type": "markdown",
   "id": "6ce40d40-017e-45e3-8301-b5fa7862b29d",
   "metadata": {},
   "source": [
    "You may be tempted to `reshape()` the `rgb` array to get the correct shape..."
   ]
  },
  {
   "cell_type": "code",
   "execution_count": null,
   "id": "7c4da819-c5b3-4e08-9109-c41d7846f09e",
   "metadata": {},
   "outputs": [],
   "source": [
    "pyplot.imshow(rgb.reshape((1000, 1000, 3)))"
   ]
  },
  {
   "cell_type": "markdown",
   "id": "aa62050b-0740-466d-baed-de9d2dd998cb",
   "metadata": {},
   "source": [
    "**But, whoa, this is clearly wrong.** We forgot that when we use `reshape()` the elements of our array get shuffled around. We can't just swap axis sizes this way.\n",
    "\n",
    "What we want to do instead is to *roll* the first axis (3 elements) towards the end of the array (after the axis with 1000 elements)."
   ]
  },
  {
   "cell_type": "code",
   "execution_count": null,
   "id": "7cd3e2ce-a371-400c-a29b-dcea6eef7b85",
   "metadata": {},
   "outputs": [],
   "source": [
    "rgb2 = np.rollaxis(rgb, 0, 3)\n",
    "rgb2.shape"
   ]
  },
  {
   "cell_type": "markdown",
   "id": "eaa91434-1fa7-4866-be11-25f973986fc2",
   "metadata": {},
   "source": [
    "Now we can get a nice RGB image."
   ]
  },
  {
   "cell_type": "code",
   "execution_count": null,
   "id": "a0068997-1d8a-4488-93e2-dfdac64ed6d2",
   "metadata": {},
   "outputs": [],
   "source": [
    "pyplot.imshow(rgb2)"
   ]
  },
  {
   "cell_type": "markdown",
   "id": "fd4aa507-bb79-4784-8a82-e1d3df132929",
   "metadata": {},
   "source": [
    "Another way of showing multiple image bands at once, particularly when an RGB color combination isn't meaningful, is to just plot each band separately. Here's a `matplotlib` code block to do just that:"
   ]
  },
  {
   "cell_type": "code",
   "execution_count": null,
   "id": "ad05d9d8",
   "metadata": {},
   "outputs": [],
   "source": [
    "fig = pyplot.figure(figsize = (10, 8))\n",
    "fig.subplots_adjust(wspace = 0.2) # More horizontal space between plots\n",
    "for band in range(0, 3):\n",
    "    # add_subplot(nrows, ncols, index, ...); index must be non-zero so we add 1\n",
    "    ax = fig.add_subplot(1, 3, 1 + band, title = f'Band {band+1}')\n",
    "    ax.imshow(rgb[band])"
   ]
  },
  {
   "cell_type": "markdown",
   "id": "5cbcd2ea-1ca5-44bc-a6bb-c23812bbb744",
   "metadata": {},
   "source": [
    "---"
   ]
  },
  {
   "cell_type": "markdown",
   "id": "93a4c9ae-3df0-4deb-a08e-b680f4584511",
   "metadata": {},
   "source": [
    "### Challenge: Python Raster Calculator\n",
    "\n",
    "The Normalized Difference Greenness Index (Escadafal & Huete 1991) or NDGI is a variation on the Normalized Difference Vegetation Index (NDVI). It can be calculated when only visible bands (e.g., red, green, blue) are available:\n",
    "\n",
    "$$\n",
    "\\text{NDGI} = \\frac{G - R}{G + R}\n",
    "$$\n",
    "\n",
    "Where $R$ is the Red band value and $G$ is the Green band value.\n",
    "\n",
    "**Calculate the NDGI using this multi-band raster and then plot the resulting image.** The bands of this NEON dataset are, in order: Red, Green, Blue.\n",
    "\n",
    "**NOTE:** Because the above calculation involves a fraction and will return floating-point data, we should first convert our array to a floating-point data type:"
   ]
  },
  {
   "cell_type": "code",
   "execution_count": null,
   "id": "75774239",
   "metadata": {},
   "outputs": [],
   "source": [
    "rgb = rgb.astype(np.float32)"
   ]
  },
  {
   "cell_type": "markdown",
   "id": "fe6dce48-bf1f-4947-b88b-0447adcf2a23",
   "metadata": {},
   "source": [
    "---\n",
    "\n",
    "## Reprojection and Resampling"
   ]
  },
  {
   "cell_type": "markdown",
   "id": "43058a75-01cf-497c-b159-7b652f4be1a8",
   "metadata": {},
   "source": [
    "`rasterio` also handles reprojection and resampling. What's the difference?\n",
    "\n",
    "- **Resampling** gridded data means to re-calculate its values on a new grid, where the new grid may be of a different resolution and/or offset from the original grid.\n",
    "- **Projection** (or re-projection) refers to the process of figuring out how spatial coordinates in one SRS should be converted to another, and how the data associated with those coordinates will be resampled in order to match. **Hence, projection of gridded data always involves resampling but resampling does not imply projection.**\n",
    "\n",
    "If we want to reproject one dataset to match the SRS of another, `rasterio` is much easier to use than `gdal`."
   ]
  },
  {
   "cell_type": "code",
   "execution_count": null,
   "id": "a2a4448f",
   "metadata": {},
   "outputs": [],
   "source": [
    "ds_noaa = rio.open('http://files.ntsg.umt.edu/data/GIS_Programming/data/NOAA_NCEP_CPC_gridded_deg0p5_2020-2021_mean.tiff')\n",
    "ds_soc = rio.open('http://files.ntsg.umt.edu/data/GIS_Programming/data/SPL4CMDL_Vv6040_20220901_SOC_9km.tiff')"
   ]
  },
  {
   "cell_type": "markdown",
   "id": "d7287fb1-2c64-4cf0-a229-4e5bb4842a34",
   "metadata": {},
   "source": [
    "**For practice, let's project the soil organic carbon (SOC) data onto the half-degree, equirectangular grid of the NOAA data.** This will allow us to explore the relationship between SOC storage and mean annual temperature.\n",
    "\n",
    "First, we must create a new dataset that will receive the reprojected SOC data. The SRS of this output dataset, of course, is the same as the NOAA surface temperature data: a half-degree equirectangular coordinate system, which means there will be 360 rows of latitude and 720 columns of longitude.\n",
    "\n",
    "**There are two important things to note about the dataset I'm opening:**\n",
    "\n",
    "- As before, I'm going to specify the `'MEM'` driver so that the result is stored in memory, only, and not written to a file on disk. \n",
    "- I'm also going to set the `mode` as `'w+'` which means \"write first, then read;\" this is because I will want to read from the file after writing the reprojected data to it. There's a similar flag `'r+'` which means \"read first, then write,\" but I can't use that flag because the dataset doesn't already exist."
   ]
  },
  {
   "cell_type": "code",
   "execution_count": null,
   "id": "7e3e45b1",
   "metadata": {},
   "outputs": [],
   "source": [
    "result = rio.open(\n",
    "    'temp.file', 'w+', driver = 'MEM', width = 720, height = 360, count = 1,\n",
    "    dtype = np.int16, crs = ds_noaa.crs, transform = ds_noaa.transform)"
   ]
  },
  {
   "cell_type": "markdown",
   "id": "cef0f60f-4cc0-4bf4-95c1-323017b37f9b",
   "metadata": {},
   "source": [
    "When using the `reproject()` method in `rasterio`, we need to distinguish between \"source\" and \"destination.\" The \"source\" is the raster we want to reproject; the \"destination\" is the raster (and SRS) that has the projection we want. That's why we created `result`, above, as our \"destination\" raster, with an equirectangular coordinate system.\n",
    "\n",
    "**The `source` and `destination` arguments of `reproject()` must be either:**\n",
    "\n",
    "- A `numpy.ndarray`, or\n",
    "- A `rasterio.Band`, which can be accessed using the `rasterio.band()` function\n",
    "\n",
    "Basically, I want to read data from Band 1 of `ds_soc` and write the reprojected data into Band 1 of the `result` dataset."
   ]
  },
  {
   "cell_type": "code",
   "execution_count": null,
   "id": "ae244dc7",
   "metadata": {},
   "outputs": [],
   "source": [
    "from rasterio.warp import reproject, Resampling\n",
    "\n",
    "reproject(\n",
    "    source = rio.band(ds_soc, 1), \n",
    "    destination = rio.band(result, 1), \n",
    "    resampling = Resampling.bilinear)"
   ]
  },
  {
   "cell_type": "markdown",
   "id": "8ca3737f-43db-456d-a2a7-99cfa18aefc9",
   "metadata": {},
   "source": [
    "Did it work? Let's take a look."
   ]
  },
  {
   "cell_type": "code",
   "execution_count": null,
   "id": "98c9d8fd-15a0-4bf1-9a78-5fbeac7d2917",
   "metadata": {},
   "outputs": [],
   "source": [
    "ds_soc.shape"
   ]
  },
  {
   "cell_type": "code",
   "execution_count": null,
   "id": "91ba7e0d",
   "metadata": {},
   "outputs": [],
   "source": [
    "soc_ll = result.read(1)\n",
    "soc_ll.shape"
   ]
  },
  {
   "cell_type": "code",
   "execution_count": null,
   "id": "a4c209af",
   "metadata": {},
   "outputs": [],
   "source": [
    "pyplot.figure(figsize = (10, 6))\n",
    "pyplot.imshow(soc_ll, vmin = 0, vmax = 4000)"
   ]
  },
  {
   "cell_type": "code",
   "execution_count": null,
   "id": "c1884033",
   "metadata": {},
   "outputs": [],
   "source": [
    "result.read(1).shape"
   ]
  },
  {
   "cell_type": "markdown",
   "id": "a219dfc1-304b-48d2-80f8-c917be1151a7",
   "metadata": {},
   "source": [
    "[You can read more on the `rasterio.warp` module here.](https://rasterio.readthedocs.io/en/latest/api/rasterio.warp.html)"
   ]
  },
  {
   "cell_type": "markdown",
   "id": "746d8a79-c903-494d-bd23-9e39256530fd",
   "metadata": {},
   "source": [
    "### Resampling without Projection"
   ]
  },
  {
   "cell_type": "markdown",
   "id": "01aa12c7-79d3-4ccf-96ec-6f7cd68e8fef",
   "metadata": {},
   "source": [
    "Sometimes we want to resample raster data without changing the raster's spatial reference system. \n",
    "\n",
    "For example, because our SOC data are on an equal-area grid, we can resample that data onto grids with cell sizes that are multiples of the original cell size. For 9-km data, for instance, we can resample it onto a 36-km grid where each 36-km pixel is made up of 16 (4x4) 9-km pixels. This is often called *downsampling.*\n",
    "\n",
    "- **Downsampling:** When our resampling goes from finer grain to coarser grain; that is, the resulting pixel size is larger than the original.\n",
    "- **Upsampling:** When our resampling goes from coarser grain to finer grain; that is, the resulting pixel size is smaller than the original.\n",
    "\n",
    "To do this, we call the dataset's `read()` method and specify an `out_shape` or output shape. To resample from 9 km to 36 km, we want to reduce the width and height by a factor of 4.\n",
    "\n",
    "$$\n",
    "\\frac{36}{9} = 4\n",
    "$$\n",
    "\n",
    "Note that we use integer division with `//` because the output shape must specify whole numbers of pixels."
   ]
  },
  {
   "cell_type": "code",
   "execution_count": null,
   "id": "7e25b91b",
   "metadata": {},
   "outputs": [],
   "source": [
    "soc_36km = ds_soc.read(\n",
    "    out_shape = (ds_soc.height // 4, ds_soc.width // 4), resampling = Resampling.average)"
   ]
  },
  {
   "cell_type": "markdown",
   "id": "f5e46967-0462-4c69-a547-dee8d73aa8c6",
   "metadata": {},
   "source": [
    "The output is an array, and it has a first axis that enumerates the bands; this is a single-band raster, so the first axis has just one element."
   ]
  },
  {
   "cell_type": "code",
   "execution_count": null,
   "id": "6326689c",
   "metadata": {},
   "outputs": [],
   "source": [
    "soc_36km.shape"
   ]
  },
  {
   "cell_type": "code",
   "execution_count": null,
   "id": "e9a451df",
   "metadata": {},
   "outputs": [],
   "source": [
    "pyplot.figure(figsize = (10, 6))\n",
    "pyplot.imshow(soc_36km[0], vmin = 0, vmax = 4000)"
   ]
  },
  {
   "cell_type": "markdown",
   "id": "f462066a-812a-4412-ab81-9203f62413db",
   "metadata": {},
   "source": [
    "If we want to write this resample data to a file, we'll need to calculate a new affine `transform`."
   ]
  },
  {
   "cell_type": "code",
   "execution_count": null,
   "id": "733ae728",
   "metadata": {},
   "outputs": [],
   "source": [
    "new_transform = ds_soc.transform * ds_soc.transform.scale(4, 4)\n",
    "new_transform"
   ]
  },
  {
   "cell_type": "code",
   "execution_count": null,
   "id": "79003028",
   "metadata": {},
   "outputs": [],
   "source": [
    "soc_36km.shape"
   ]
  },
  {
   "cell_type": "code",
   "execution_count": null,
   "id": "cc182b3f",
   "metadata": {},
   "outputs": [],
   "source": [
    "output = rio.open(\n",
    "    'resampled.tif', 'w', width = 964, height = 406,\n",
    "    count = 1, dtype = np.int16, crs = ds_soc.crs, transform = new_transform)\n",
    "output.write(soc_36km[0], 1)\n",
    "output.close()"
   ]
  },
  {
   "cell_type": "markdown",
   "id": "247a3ef4",
   "metadata": {},
   "source": [
    "---"
   ]
  },
  {
   "cell_type": "markdown",
   "id": "0e3e1d86",
   "metadata": {},
   "source": [
    "## Array Masks"
   ]
  },
  {
   "cell_type": "markdown",
   "id": "71f3a422",
   "metadata": {},
   "source": [
    "We've seen some examples of how raster data can be in Python handled as `numpy` arrays. Arrays come in multiple data types and we often need to handle or combine different types of numbers. When we read-in a GeoTIFF file using `rasterio`, the data values themselves are represented as a NumPy array.\n",
    "\n",
    "Here's an example GeoTIFF representing soil organic carbon (SOC) data from [the NASA Soil Moisture Active Passive (SMAP) Level 4 Carbon (L4C) product.](https://nsidc.org/data/SPL4CMDL/)"
   ]
  },
  {
   "cell_type": "code",
   "execution_count": null,
   "id": "28e121f4",
   "metadata": {},
   "outputs": [],
   "source": [
    "from osgeo import gdal\n",
    "\n",
    "ds_soc = gdal.Open('http://files.ntsg.umt.edu/data/GIS_Programming/data/SPL4CMDL_Vv6040_20220901_SOC_9km.tiff')\n",
    "soc = ds_soc.ReadAsArray()\n",
    "soc.shape"
   ]
  },
  {
   "cell_type": "code",
   "execution_count": null,
   "id": "39001d5e",
   "metadata": {},
   "outputs": [],
   "source": [
    "pyplot.imshow(soc)"
   ]
  },
  {
   "cell_type": "markdown",
   "id": "64f534c1",
   "metadata": {},
   "source": [
    "**This doesn't look right. What did we forget?**\n",
    "\n",
    "It's always helpful to look at the raw data."
   ]
  },
  {
   "cell_type": "code",
   "execution_count": null,
   "id": "296e33f4",
   "metadata": {},
   "outputs": [],
   "source": [
    "soc"
   ]
  },
  {
   "cell_type": "markdown",
   "id": "a8d1b271",
   "metadata": {},
   "source": [
    "Ah, so we have a bunch of NoData values in our array. Our plotting library doesn't know the difference between the number we use to represent NoData (-9999) and any other number value. Because -9999 is such an extreme value, our plot's colorbar is stretched too thin; we can't make out any variation in the actual data values."
   ]
  },
  {
   "cell_type": "markdown",
   "id": "ebf24f01",
   "metadata": {},
   "source": [
    "### Handling NoData Values\n",
    "\n",
    "Obviously, we need a way of telling our plotting library to ignore NoData values."
   ]
  },
  {
   "cell_type": "code",
   "execution_count": null,
   "id": "a52405d0",
   "metadata": {},
   "outputs": [],
   "source": [
    "soc[soc == -9999] = np.nan"
   ]
  },
  {
   "cell_type": "markdown",
   "id": "e8f7d2c5",
   "metadata": {},
   "source": [
    "We're on the right track, but now we have a problem with `numpy`, because we can't store `np.nan` in an array with an integer data type."
   ]
  },
  {
   "cell_type": "code",
   "execution_count": null,
   "id": "03a16e60",
   "metadata": {},
   "outputs": [],
   "source": [
    "soc = soc.astype(np.float32)\n",
    "soc[soc == -9999] = np.nan\n",
    "\n",
    "pyplot.figure(figsize = (12, 8))\n",
    "pyplot.imshow(soc, vmin = 1000, vmax = 4000)"
   ]
  },
  {
   "cell_type": "markdown",
   "id": "a56f6a98-157c-4cea-8454-20f3c6ad4fc8",
   "metadata": {},
   "source": [
    "If the above image looks blurry or like it has a lot of holes in the data over land, note that you can tell `pyplot` to plot the data differently... Nearest-neighbor interpolation will pick the nearest raster pixel for each pixel on your screen."
   ]
  },
  {
   "cell_type": "code",
   "execution_count": null,
   "id": "5401ead0-638c-49a5-adf5-851ce77bc49f",
   "metadata": {},
   "outputs": [],
   "source": [
    "pyplot.figure(figsize = (12, 8))\n",
    "pyplot.imshow(soc, vmin = 1000, vmax = 4000, interpolation = 'nearest')"
   ]
  },
  {
   "cell_type": "markdown",
   "id": "54eae31d",
   "metadata": {},
   "source": [
    "### Array Masks to Query Values"
   ]
  },
  {
   "cell_type": "markdown",
   "id": "fbae4b40",
   "metadata": {},
   "source": [
    "As we saw when we converted our NoData values to `np.nan`, we can query `numpy` arrays using conditional expressions like this:"
   ]
  },
  {
   "cell_type": "code",
   "execution_count": null,
   "id": "6e6d5034",
   "metadata": {},
   "outputs": [],
   "source": [
    "soc[soc == -9999]"
   ]
  },
  {
   "cell_type": "code",
   "execution_count": null,
   "id": "5b6e73bf",
   "metadata": {},
   "outputs": [],
   "source": [
    "soc[soc > 4000]"
   ]
  },
  {
   "cell_type": "markdown",
   "id": "9775015d",
   "metadata": {},
   "source": [
    "In these examples, if there is no assignment operator (`=`) on the right-hand side, the values in the array that match the conditional expression are pulled out and printed to the screen.\n",
    "\n",
    "Note that the values are returned in a predictable order but they don't have a specific shape."
   ]
  },
  {
   "cell_type": "code",
   "execution_count": null,
   "id": "3917189b",
   "metadata": {},
   "outputs": [],
   "source": [
    "soc[soc > 4000].shape"
   ]
  },
  {
   "cell_type": "markdown",
   "id": "d644bbda",
   "metadata": {},
   "source": [
    "Here, there are over 65,000 SOC values greater than 4000 grams of carbon per meter squared... But we got all of the values as a 1D array.\n",
    "\n",
    "Sometimes, the position of certain values within an array is important. In such cases, we actually want to take the conditional expression out of the slicing `[]` notation and use it to create a boolean array:"
   ]
  },
  {
   "cell_type": "code",
   "execution_count": null,
   "id": "8cd38c89",
   "metadata": {},
   "outputs": [],
   "source": [
    "high_soc = soc > 4000\n",
    "high_soc"
   ]
  },
  {
   "cell_type": "code",
   "execution_count": null,
   "id": "223a4357",
   "metadata": {},
   "outputs": [],
   "source": [
    "high_soc.shape == soc.shape"
   ]
  },
  {
   "cell_type": "markdown",
   "id": "edbb49e7",
   "metadata": {},
   "source": [
    "**These kinds of arrays can be called array masks or masking arrays,** because they can be used to mask out or filter an array's contents. You'll use these kinds of conditional expressions frequently, often in combination with `np.where` or `np.argwhere`."
   ]
  },
  {
   "cell_type": "code",
   "execution_count": null,
   "id": "ae8b4fee",
   "metadata": {},
   "outputs": [],
   "source": [
    "pyplot.figure(figsize = (10, 8))\n",
    "pyplot.imshow(np.where(soc > 2000, soc, np.nan))"
   ]
  },
  {
   "cell_type": "markdown",
   "id": "ae8cb87d",
   "metadata": {},
   "source": [
    "[You should know that `numpy` has support for something called a *masked array.*](https://numpy.org/doc/stable/reference/maskedarray.html). However, NumPy masked arrays can be slow to work with, especially when the array size is large, so I would recommend you avoid them. Once you're comfortable with `numpy` functions like `np.where()` and with boolean arrays, you'll never need NumPy masked arrays."
   ]
  },
  {
   "cell_type": "markdown",
   "id": "911bc143",
   "metadata": {},
   "source": [
    "---\n",
    "\n",
    "## More Resources\n",
    "\n",
    "- GIS&T Body of Knowledge: [Python for GIS](https://gistbok.ucgis.org/bok-topics/python-gis)\n",
    "- GIS&T Body of Knowledge: [GDAL/OGR and Geospatial Data IO Libraries](https://gistbok.ucgis.org/bok-topics/gdalogr-and-geospatial-data-io-libraries)\n",
    "- [GDAL Python API documentation](https://gdal.org/api/python/osgeo.gdal.html)\n",
    "- [GDAL-OGR Cookbook](https://pcjericks.github.io/py-gdalogr-cookbook/index.html)\n",
    "- [Reprojection - rasterio documentation](https://rasterio.readthedocs.io/en/latest/topics/reproject.html)"
   ]
  }
 ],
 "metadata": {
  "kernelspec": {
   "display_name": "Python 3 (ipykernel)",
   "language": "python",
   "name": "python3"
  },
  "language_info": {
   "codemirror_mode": {
    "name": "ipython",
    "version": 3
   },
   "file_extension": ".py",
   "mimetype": "text/x-python",
   "name": "python",
   "nbconvert_exporter": "python",
   "pygments_lexer": "ipython3",
   "version": "3.10.12"
  }
 },
 "nbformat": 4,
 "nbformat_minor": 5
}
