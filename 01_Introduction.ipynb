{
 "cells": [
  {
   "cell_type": "markdown",
   "id": "aadc1fc2-c916-421e-85c7-7edb037dae66",
   "metadata": {},
   "source": [
    "# Introduction to Python Programming"
   ]
  },
  {
   "cell_type": "markdown",
   "id": "359ccc3f-51f4-4e77-b4fa-b0f3daf675dd",
   "metadata": {},
   "source": [
    "*2 hours*\n",
    "\n",
    "**Contents:**\n",
    "\n",
    "- [Tools of the Trade](#Tools-of-the-Trade)\n",
    "- [Python Data Types](#Python-Data-Types)\n",
    "- [Variable Assignment](#Variable-Assignment)\n",
    "- [Sequences](#Sequence)\n",
    "- [Functions](#Functions)\n",
    "- [Where to Go For Help?](#Where-to-Go-For-Help)\n",
    "- [Conditional Tests](#Conditional-Tests)\n",
    "- [Tests for Identity and Membership](#Tests-for-Identity-and-Membership)\n",
    "- [Writing Python Functions](#Writing-Python-Functions)"
   ]
  },
  {
   "cell_type": "markdown",
   "id": "3f81afae-91f2-4246-a259-abb58e06b829",
   "metadata": {},
   "source": [
    "This lesson introduces Python as a *general-purpose programming language.* We'll see how small, simple pieces of the Python language can be combined to complete a variety of tasks. \n",
    "\n",
    "First, the instructor will introduce some basic concepts:\n",
    "\n",
    "- How do we issue commands to the Python interpreter? (Using Python in interactive mode.)\n",
    "- How does Jupyter Notebook work?"
   ]
  },
  {
   "cell_type": "markdown",
   "id": "5d5d95f9-3379-41ea-82cd-854d8d53a283",
   "metadata": {},
   "source": [
    "## Tools of the Trade"
   ]
  },
  {
   "cell_type": "markdown",
   "id": "67b260c7-30ba-44b4-a5bd-ce7095ce815f",
   "metadata": {},
   "source": [
    "**A Jupyter Notebook consists of different \"cells\" where you can enter text.** \n",
    "\n",
    "Jupyter Notebook is a fancy, browser-based environment for **literate programming,** the combination of Python scripts with rich text for telling a story about the task you set out to do with Python. This is a powerful way for collecting the code, the analysis, the context, and the results in a single place.\n",
    "\n",
    "Code cells function exactly like the Python interpreter at the command line."
   ]
  },
  {
   "cell_type": "code",
   "execution_count": 1,
   "id": "70181753",
   "metadata": {},
   "outputs": [
    {
     "name": "stdout",
     "output_type": "stream",
     "text": [
      "Hello, world!\n"
     ]
    }
   ],
   "source": [
    "print('Hello, world!')"
   ]
  },
  {
   "cell_type": "markdown",
   "id": "e570a013",
   "metadata": {},
   "source": [
    "**Recall that computers can really only understand machine language, or ones-and-zeroes.** Compiled languages require some special steps before our programming commands can be understood by the computer. But, because Python is an **interpreted language,** our commands are translated to machine code on-the-fly."
   ]
  },
  {
   "cell_type": "markdown",
   "id": "e04ce346",
   "metadata": {},
   "source": [
    "---\n",
    "\n",
    "## Python Data Types"
   ]
  },
  {
   "cell_type": "markdown",
   "id": "0faa826b",
   "metadata": {},
   "source": [
    "In our \"Hello, world!\" example, note that we enclosed the phrase in quotes:"
   ]
  },
  {
   "cell_type": "code",
   "execution_count": 2,
   "id": "30e48f80",
   "metadata": {},
   "outputs": [
    {
     "data": {
      "text/plain": [
       "'Just like this'"
      ]
     },
     "execution_count": 2,
     "metadata": {},
     "output_type": "execute_result"
    }
   ],
   "source": [
    "\"Just like this\""
   ]
  },
  {
   "cell_type": "markdown",
   "id": "b32b3bb1",
   "metadata": {},
   "source": [
    "**Python needs a way of distinguishing between instructions to the Python intepreter and *all other text.*** Any text that is not an instruction to Python is essentially just data. Quotes are used to enclose text that the Python interpreter should treat as data.\n",
    "\n",
    "Note that we can use single or double quotes in the same way."
   ]
  },
  {
   "cell_type": "code",
   "execution_count": 3,
   "id": "bb6fbf17",
   "metadata": {},
   "outputs": [
    {
     "data": {
      "text/plain": [
       "'Decimal degrees'"
      ]
     },
     "execution_count": 3,
     "metadata": {},
     "output_type": "execute_result"
    }
   ],
   "source": [
    "\"Decimal degrees\""
   ]
  },
  {
   "cell_type": "code",
   "execution_count": 4,
   "id": "34d14822",
   "metadata": {},
   "outputs": [
    {
     "data": {
      "text/plain": [
       "'Decimal degrees'"
      ]
     },
     "execution_count": 4,
     "metadata": {},
     "output_type": "execute_result"
    }
   ],
   "source": [
    "'Decimal degrees'"
   ]
  },
  {
   "cell_type": "markdown",
   "id": "289f5728",
   "metadata": {},
   "source": [
    "However, if the text-as-data needs to include an apostrophe, you'll need to use double quotes:"
   ]
  },
  {
   "cell_type": "code",
   "execution_count": 5,
   "id": "ded1667a",
   "metadata": {},
   "outputs": [
    {
     "data": {
      "text/plain": [
       "\"Bachelor's degree\""
      ]
     },
     "execution_count": 5,
     "metadata": {},
     "output_type": "execute_result"
    }
   ],
   "source": [
    "\"Bachelor's degree\""
   ]
  },
  {
   "cell_type": "markdown",
   "id": "76bf35e1",
   "metadata": {},
   "source": [
    "**You can see from these examples that when we enter data by itself, without any code, the Python interpreter just repeats the data back to us.** This will make more sense when we start using number data...\n",
    "\n",
    "### Python as a Calculator"
   ]
  },
  {
   "cell_type": "code",
   "execution_count": 6,
   "id": "517a7b22",
   "metadata": {},
   "outputs": [
    {
     "data": {
      "text/plain": [
       "4"
      ]
     },
     "execution_count": 6,
     "metadata": {},
     "output_type": "execute_result"
    }
   ],
   "source": [
    "2 + 2"
   ]
  },
  {
   "cell_type": "code",
   "execution_count": 7,
   "id": "2ead365f",
   "metadata": {},
   "outputs": [
    {
     "data": {
      "text/plain": [
       "8"
      ]
     },
     "execution_count": 7,
     "metadata": {},
     "output_type": "execute_result"
    }
   ],
   "source": [
    "10 - 2"
   ]
  },
  {
   "cell_type": "markdown",
   "id": "71431176",
   "metadata": {},
   "source": [
    "Python knows about the order of operations..."
   ]
  },
  {
   "cell_type": "code",
   "execution_count": 8,
   "id": "e893d61c",
   "metadata": {},
   "outputs": [
    {
     "data": {
      "text/plain": [
       "10.0"
      ]
     },
     "execution_count": 8,
     "metadata": {},
     "output_type": "execute_result"
    }
   ],
   "source": [
    "(2 * 15) / 3"
   ]
  },
  {
   "cell_type": "code",
   "execution_count": 9,
   "id": "4e27936d",
   "metadata": {},
   "outputs": [
    {
     "data": {
      "text/plain": [
       "9"
      ]
     },
     "execution_count": 9,
     "metadata": {},
     "output_type": "execute_result"
    }
   ],
   "source": [
    "3 ** 2"
   ]
  },
  {
   "cell_type": "markdown",
   "id": "8846e7a4",
   "metadata": {},
   "source": [
    "Python understands how to perform mathematical operations on numbers. Once it has done that, it prints our data to the screen. This is just like our text data examples, except we didn't ask Python to transform the text data in anyway.\n",
    "\n",
    "Python can also represent very large numbers using a special syntax. $1\\times 10^9$, or 1 billion, can be represented:"
   ]
  },
  {
   "cell_type": "code",
   "execution_count": 10,
   "id": "2e10fbad",
   "metadata": {},
   "outputs": [
    {
     "data": {
      "text/plain": [
       "1000000000.0"
      ]
     },
     "execution_count": 10,
     "metadata": {},
     "output_type": "execute_result"
    }
   ],
   "source": [
    "1e9"
   ]
  },
  {
   "cell_type": "code",
   "execution_count": 11,
   "id": "6cd4fbc7",
   "metadata": {},
   "outputs": [
    {
     "data": {
      "text/plain": [
       "3200000000.0"
      ]
     },
     "execution_count": 11,
     "metadata": {},
     "output_type": "execute_result"
    }
   ],
   "source": [
    "3.2e9"
   ]
  },
  {
   "cell_type": "markdown",
   "id": "2d602f25",
   "metadata": {},
   "source": [
    "Python also knows how to logically compare numbers."
   ]
  },
  {
   "cell_type": "code",
   "execution_count": 12,
   "id": "c14d84dc",
   "metadata": {},
   "outputs": [
    {
     "data": {
      "text/plain": [
       "False"
      ]
     },
     "execution_count": 12,
     "metadata": {},
     "output_type": "execute_result"
    }
   ],
   "source": [
    "3 > 4"
   ]
  },
  {
   "cell_type": "markdown",
   "id": "7f7d3894",
   "metadata": {},
   "source": [
    "`True` and `False` (with the first letter capitalized) are special keywords in Python."
   ]
  },
  {
   "cell_type": "code",
   "execution_count": 13,
   "id": "8a4db280",
   "metadata": {},
   "outputs": [
    {
     "data": {
      "text/plain": [
       "True"
      ]
     },
     "execution_count": 13,
     "metadata": {},
     "output_type": "execute_result"
    }
   ],
   "source": [
    "5 == 5"
   ]
  },
  {
   "cell_type": "code",
   "execution_count": 14,
   "id": "78875074",
   "metadata": {},
   "outputs": [
    {
     "data": {
      "text/plain": [
       "True"
      ]
     },
     "execution_count": 14,
     "metadata": {},
     "output_type": "execute_result"
    }
   ],
   "source": [
    "True and True"
   ]
  },
  {
   "cell_type": "code",
   "execution_count": 15,
   "id": "55e8aba0",
   "metadata": {},
   "outputs": [
    {
     "data": {
      "text/plain": [
       "True"
      ]
     },
     "execution_count": 15,
     "metadata": {},
     "output_type": "execute_result"
    }
   ],
   "source": [
    "True or False"
   ]
  },
  {
   "cell_type": "code",
   "execution_count": 16,
   "id": "2f9ecb2c",
   "metadata": {},
   "outputs": [
    {
     "data": {
      "text/plain": [
       "True"
      ]
     },
     "execution_count": 16,
     "metadata": {},
     "output_type": "execute_result"
    }
   ],
   "source": [
    "5 > 3"
   ]
  },
  {
   "cell_type": "code",
   "execution_count": 17,
   "id": "79b4523c",
   "metadata": {},
   "outputs": [
    {
     "data": {
      "text/plain": [
       "False"
      ]
     },
     "execution_count": 17,
     "metadata": {},
     "output_type": "execute_result"
    }
   ],
   "source": [
    "(5 > 3) and (1 == 2)"
   ]
  },
  {
   "cell_type": "markdown",
   "id": "bf9c4c9e",
   "metadata": {},
   "source": [
    "---\n",
    "\n",
    "## Variable Assignment"
   ]
  },
  {
   "cell_type": "markdown",
   "id": "c87be56b",
   "metadata": {},
   "source": [
    "**What if we want to store the result of a calculation?**"
   ]
  },
  {
   "cell_type": "code",
   "execution_count": 18,
   "id": "64707bfa",
   "metadata": {},
   "outputs": [
    {
     "data": {
      "text/plain": [
       "3.142857142857143"
      ]
     },
     "execution_count": 18,
     "metadata": {},
     "output_type": "execute_result"
    }
   ],
   "source": [
    "22 / 7"
   ]
  },
  {
   "cell_type": "markdown",
   "id": "9e340782",
   "metadata": {},
   "source": [
    "(Not actually pi, but pretty close.)"
   ]
  },
  {
   "cell_type": "code",
   "execution_count": 19,
   "id": "02a873cb",
   "metadata": {},
   "outputs": [],
   "source": [
    "pi = 22 / 7"
   ]
  },
  {
   "cell_type": "markdown",
   "id": "6e6aab2b",
   "metadata": {},
   "source": [
    "**Note that there's no output associated with this command to Python!** To understand why, let's break the above code into two parts:\n",
    "\n",
    "- The right-hand side (RHS), after the `=` sign, is identical to what we were typing before: We know that Python will interpret this part as the result of a mathematical operation.\n",
    "- The left-hand side (LHS) is a name we made up; this name will be used to refer to the result of the right-hand side calculation.\n",
    "\n",
    "When Python finishes interpreting the RHS, the result is immediately captured and stored in the name on the LHS. We call the name on the LHS a **variable.** The `=` in this case is called the **assignment operator** and it is the part that tells Python to store the result of the RHS calculation in memory under the variable name we provided."
   ]
  },
  {
   "cell_type": "code",
   "execution_count": 20,
   "id": "d5e8859c",
   "metadata": {},
   "outputs": [
    {
     "data": {
      "text/plain": [
       "3.142857142857143"
      ]
     },
     "execution_count": 20,
     "metadata": {},
     "output_type": "execute_result"
    }
   ],
   "source": [
    "pi"
   ]
  },
  {
   "cell_type": "markdown",
   "id": "b2d5a462",
   "metadata": {},
   "source": [
    "The value that this variable refers to is just a number, so we can use it in subsequent calculations."
   ]
  },
  {
   "cell_type": "code",
   "execution_count": 21,
   "id": "aadffd71",
   "metadata": {},
   "outputs": [
    {
     "data": {
      "text/plain": [
       "6.285714285714286"
      ]
     },
     "execution_count": 21,
     "metadata": {},
     "output_type": "execute_result"
    }
   ],
   "source": [
    "pi * 2"
   ]
  },
  {
   "cell_type": "markdown",
   "id": "6ccc7370",
   "metadata": {},
   "source": [
    "**Variable names can be any name you choose, provided they:**\n",
    "\n",
    "- Contain only letters, numbers, and the underscore (`_`)\n",
    "- Don't start with a number\n",
    "\n",
    "Variable names should be descriptive, even if that makes them longer. For example, here are some different ways we might represent a latitude:\n",
    "\n",
    "```py\n",
    "latitude\n",
    "lat\n",
    "lat_degrees\n",
    "lat_radians\n",
    "new_latitude\n",
    "reference_latitude\n",
    "```"
   ]
  },
  {
   "cell_type": "markdown",
   "id": "3e179d3e",
   "metadata": {},
   "source": [
    "**We can assign the result of *any* Python command to a variable.**"
   ]
  },
  {
   "cell_type": "code",
   "execution_count": 22,
   "id": "046e5963",
   "metadata": {},
   "outputs": [],
   "source": [
    "text = \"Indonesia\"\n",
    "number = 42\n",
    "another_number = pi * 2"
   ]
  },
  {
   "cell_type": "markdown",
   "id": "397446b0",
   "metadata": {},
   "source": [
    "**Variable names are like labels that we put on values.** The label can be pulled off of one value and re-applied to another."
   ]
  },
  {
   "cell_type": "code",
   "execution_count": 23,
   "id": "6a015950",
   "metadata": {},
   "outputs": [],
   "source": [
    "something = -9999"
   ]
  },
  {
   "cell_type": "code",
   "execution_count": 24,
   "id": "6134ba9c",
   "metadata": {},
   "outputs": [
    {
     "data": {
      "text/plain": [
       "-9999"
      ]
     },
     "execution_count": 24,
     "metadata": {},
     "output_type": "execute_result"
    }
   ],
   "source": [
    "something"
   ]
  },
  {
   "cell_type": "code",
   "execution_count": 25,
   "id": "12c5b2be",
   "metadata": {},
   "outputs": [],
   "source": [
    "something = 42"
   ]
  },
  {
   "cell_type": "code",
   "execution_count": 26,
   "id": "82e425f2",
   "metadata": {},
   "outputs": [
    {
     "data": {
      "text/plain": [
       "42"
      ]
     },
     "execution_count": 26,
     "metadata": {},
     "output_type": "execute_result"
    }
   ],
   "source": [
    "something"
   ]
  },
  {
   "cell_type": "markdown",
   "id": "a551dd0c",
   "metadata": {},
   "source": [
    "**What if we defined a variable using another variable?**"
   ]
  },
  {
   "cell_type": "code",
   "execution_count": 27,
   "id": "f625b467",
   "metadata": {},
   "outputs": [
    {
     "data": {
      "text/plain": [
       "42"
      ]
     },
     "execution_count": 27,
     "metadata": {},
     "output_type": "execute_result"
    }
   ],
   "source": [
    "something_else = something\n",
    "something_else"
   ]
  },
  {
   "cell_type": "markdown",
   "id": "c717c9ba",
   "metadata": {},
   "source": [
    "And then what if that upstream variable changed?"
   ]
  },
  {
   "cell_type": "code",
   "execution_count": 28,
   "id": "5ac75239",
   "metadata": {},
   "outputs": [
    {
     "data": {
      "text/plain": [
       "42"
      ]
     },
     "execution_count": 28,
     "metadata": {},
     "output_type": "execute_result"
    }
   ],
   "source": [
    "something = 100\n",
    "something_else"
   ]
  },
  {
   "cell_type": "markdown",
   "id": "8ed0fd5b",
   "metadata": {},
   "source": [
    "**This should tell you something about how Python represents the data that variables point to.** Here, we have two variables that point to the *same value* in the computer's memory. We started with:\n",
    "\n",
    "```py\n",
    "something = 42\n",
    "```\n",
    "\n",
    "![](./assets/sticky_note_variables.png)\n",
    "\n",
    "Then, after we assigned `something_else = something`, we obtained:\n",
    "\n",
    "![](./assets/sticky_note_variables2.png)\n",
    "\n",
    "Finally, when we wrote `something = 100`, we ended up with:\n",
    "\n",
    "![](./assets/sticky_note_variables3.png)"
   ]
  },
  {
   "cell_type": "markdown",
   "id": "2010fc20",
   "metadata": {},
   "source": [
    "### Strings, Integers, and Floats"
   ]
  },
  {
   "cell_type": "markdown",
   "id": "2c44dc26",
   "metadata": {},
   "source": [
    "Recall that when we type text that is an instruction to the Python interpreter, we call that \"code.\" **When we type text that is data, we call it a \"character string\" or just \"string.\"**"
   ]
  },
  {
   "cell_type": "code",
   "execution_count": 29,
   "id": "5270ed03",
   "metadata": {},
   "outputs": [
    {
     "data": {
      "text/plain": [
       "'This is a string'"
      ]
     },
     "execution_count": 29,
     "metadata": {},
     "output_type": "execute_result"
    }
   ],
   "source": [
    "\"This is a string\""
   ]
  },
  {
   "cell_type": "code",
   "execution_count": 30,
   "id": "d2041676",
   "metadata": {},
   "outputs": [
    {
     "ename": "SyntaxError",
     "evalue": "invalid syntax (2269957805.py, line 1)",
     "output_type": "error",
     "traceback": [
      "\u001b[0;36m  Cell \u001b[0;32mIn[30], line 1\u001b[0;36m\u001b[0m\n\u001b[0;31m    This is not a string\u001b[0m\n\u001b[0m                  ^\u001b[0m\n\u001b[0;31mSyntaxError\u001b[0m\u001b[0;31m:\u001b[0m invalid syntax\n"
     ]
    }
   ],
   "source": [
    "This is not a string"
   ]
  },
  {
   "cell_type": "markdown",
   "id": "139daa8c",
   "metadata": {},
   "source": [
    "When programming for GIS or any other scientific objective, we need to be very careful about how numbers are represented and stored.\n",
    "\n",
    "**Strictly speaking, `number` and `another_number` are very different. How?**"
   ]
  },
  {
   "cell_type": "code",
   "execution_count": 31,
   "id": "e0b3c976",
   "metadata": {},
   "outputs": [
    {
     "data": {
      "text/plain": [
       "42"
      ]
     },
     "execution_count": 31,
     "metadata": {},
     "output_type": "execute_result"
    }
   ],
   "source": [
    "number"
   ]
  },
  {
   "cell_type": "code",
   "execution_count": 32,
   "id": "22c00a4d",
   "metadata": {},
   "outputs": [
    {
     "data": {
      "text/plain": [
       "6.285714285714286"
      ]
     },
     "execution_count": 32,
     "metadata": {},
     "output_type": "execute_result"
    }
   ],
   "source": [
    "another_number"
   ]
  },
  {
   "cell_type": "markdown",
   "id": "a4c10bfb",
   "metadata": {},
   "source": [
    "`number` is an **integer** while `another_number` is a *floating-point number,* which we call by its short-hand name, a **float**.\n",
    "\n",
    "We'll talk about this in more detail later. For now, you should know that while computers can store the values of integers exactly, computers usually only store *approximate* values of floating-point numbers. Some programming languages might also have different rules about what mathematical operations are valid on integers versus floats. \n",
    "\n",
    "Python is pretty friendly, though, and has the same rules for all numbers. You have to go out of your way to tell Python to treat numbers differently."
   ]
  },
  {
   "cell_type": "code",
   "execution_count": 33,
   "id": "d7bc4c22",
   "metadata": {},
   "outputs": [
    {
     "data": {
      "text/plain": [
       "5.0"
      ]
     },
     "execution_count": 33,
     "metadata": {},
     "output_type": "execute_result"
    }
   ],
   "source": [
    "10 / 2"
   ]
  },
  {
   "cell_type": "code",
   "execution_count": 34,
   "id": "de758b14",
   "metadata": {},
   "outputs": [
    {
     "data": {
      "text/plain": [
       "5"
      ]
     },
     "execution_count": 34,
     "metadata": {},
     "output_type": "execute_result"
    }
   ],
   "source": [
    "10 // 2"
   ]
  },
  {
   "cell_type": "code",
   "execution_count": 35,
   "id": "6cf62ab6",
   "metadata": {},
   "outputs": [
    {
     "data": {
      "text/plain": [
       "3.3333333333333335"
      ]
     },
     "execution_count": 35,
     "metadata": {},
     "output_type": "execute_result"
    }
   ],
   "source": [
    "10 / 3"
   ]
  },
  {
   "cell_type": "code",
   "execution_count": 36,
   "id": "e164f26e",
   "metadata": {},
   "outputs": [
    {
     "data": {
      "text/plain": [
       "3"
      ]
     },
     "execution_count": 36,
     "metadata": {},
     "output_type": "execute_result"
    }
   ],
   "source": [
    "10 // 3"
   ]
  },
  {
   "cell_type": "markdown",
   "id": "f25e136f",
   "metadata": {},
   "source": [
    "In the above example, `10 // 3` performs a **type coercion,** forcing the output to be an integer even if the result should be a float. \n",
    "\n",
    "**Later, we'll see other examples of how different data types can be *coerced* (are you all familiar with this word?).**"
   ]
  },
  {
   "cell_type": "markdown",
   "id": "929a8278",
   "metadata": {},
   "source": [
    "---\n",
    "\n",
    "### Challenge: Decimal Degrees Conversion"
   ]
  },
  {
   "cell_type": "markdown",
   "id": "f921576e",
   "metadata": {},
   "source": [
    "The latitude of the center of the City of Missoula is 46 degrees, 51 minutes, and 45 seconds north. **Convert this latitude to decimal degrees using a single Python statement.**\n",
    "\n",
    "- Recall that there are 60 minutes in one degree and 60 seconds in one minute!\n",
    "- Order of operations is important\n",
    "\n",
    "---"
   ]
  },
  {
   "cell_type": "markdown",
   "id": "8e821680",
   "metadata": {},
   "source": [
    "## Sequences"
   ]
  },
  {
   "cell_type": "markdown",
   "id": "911c182e",
   "metadata": {},
   "source": [
    "Obviously, we don't want to handle individual numbers one at a time, each with a different variable name. We'd never get any work done that way.\n",
    "\n",
    "What we really want is to handle collections of multiple pieces of data. Python is really good at handling **sequences** of data, which could be anything from a sequence of text characters or a sequence of numbers.\n",
    "\n",
    "**A list is Python's built-in data strcture for handling general, ordered sequences.**"
   ]
  },
  {
   "cell_type": "code",
   "execution_count": 37,
   "id": "8ff17b04",
   "metadata": {},
   "outputs": [],
   "source": [
    "numbers = [1, 2, 3]"
   ]
  },
  {
   "cell_type": "markdown",
   "id": "bd00d0d4",
   "metadata": {},
   "source": [
    "We access the *elements* of a sequence by specifying the element's position. One curious thing about Python, however, is that Python starts counting from zero, not from one."
   ]
  },
  {
   "cell_type": "code",
   "execution_count": 38,
   "id": "cc9df6b4",
   "metadata": {},
   "outputs": [
    {
     "data": {
      "text/plain": [
       "1"
      ]
     },
     "execution_count": 38,
     "metadata": {},
     "output_type": "execute_result"
    }
   ],
   "source": [
    "numbers[0]"
   ]
  },
  {
   "cell_type": "code",
   "execution_count": 39,
   "id": "3a4f72ce",
   "metadata": {},
   "outputs": [
    {
     "data": {
      "text/plain": [
       "2"
      ]
     },
     "execution_count": 39,
     "metadata": {},
     "output_type": "execute_result"
    }
   ],
   "source": [
    "numbers[1]"
   ]
  },
  {
   "cell_type": "markdown",
   "id": "170e769a",
   "metadata": {},
   "source": [
    "The square brackets in these examples are referred to as *slice notation* and we'll see a lot of it in this course.\n",
    "\n",
    "**A for loop is a useful way of accessing the elements of a sequence, one at a time:**"
   ]
  },
  {
   "cell_type": "code",
   "execution_count": 40,
   "id": "756a3192",
   "metadata": {},
   "outputs": [
    {
     "name": "stdout",
     "output_type": "stream",
     "text": [
      "False\n",
      "True\n",
      "True\n"
     ]
    }
   ],
   "source": [
    "for each in numbers:\n",
    "    print(each > 1)"
   ]
  },
  {
   "cell_type": "markdown",
   "id": "4a886aae",
   "metadata": {},
   "source": [
    "**Indentation is very important in Python. Note that the second line in the above example is indented. This is Python's way of marking a block of code. It's standard to indent by 4 spaces.**\n",
    "\n",
    "As I mentioned, character strings are also sequences:"
   ]
  },
  {
   "cell_type": "code",
   "execution_count": 41,
   "id": "8764b095",
   "metadata": {},
   "outputs": [
    {
     "name": "stdout",
     "output_type": "stream",
     "text": [
      "M\n",
      "E\n",
      "R\n",
      "C\n",
      "A\n",
      "T\n",
      "O\n",
      "R\n"
     ]
    }
   ],
   "source": [
    "for letter in \"MERCATOR\":\n",
    "    print(letter)"
   ]
  },
  {
   "cell_type": "markdown",
   "id": "4f413b5b",
   "metadata": {},
   "source": [
    "How many elements are in a sequence? We can count them with the `len()` function."
   ]
  },
  {
   "cell_type": "code",
   "execution_count": 42,
   "id": "72f1b92b",
   "metadata": {},
   "outputs": [
    {
     "data": {
      "text/plain": [
       "8"
      ]
     },
     "execution_count": 42,
     "metadata": {},
     "output_type": "execute_result"
    }
   ],
   "source": [
    "len(\"MERCATOR\")"
   ]
  },
  {
   "cell_type": "code",
   "execution_count": 43,
   "id": "c242a5a0",
   "metadata": {},
   "outputs": [
    {
     "data": {
      "text/plain": [
       "3"
      ]
     },
     "execution_count": 43,
     "metadata": {},
     "output_type": "execute_result"
    }
   ],
   "source": [
    "len(numbers)"
   ]
  },
  {
   "cell_type": "markdown",
   "id": "2dba70d4",
   "metadata": {},
   "source": [
    "Lists can hold more than just numbers. In fact, a single list can hold different types of data."
   ]
  },
  {
   "cell_type": "code",
   "execution_count": 44,
   "id": "a3b2924d",
   "metadata": {},
   "outputs": [],
   "source": [
    "fruits = ['apple', 'orange', 'banana']\n",
    "things = ['tomato', 3.14, True]"
   ]
  },
  {
   "cell_type": "markdown",
   "id": "7d1e2ea1",
   "metadata": {},
   "source": [
    "And, finally, we can change the elements of a list using slice notation:"
   ]
  },
  {
   "cell_type": "code",
   "execution_count": 45,
   "id": "a26d7998",
   "metadata": {},
   "outputs": [],
   "source": [
    "numbers[1] = 5"
   ]
  },
  {
   "cell_type": "code",
   "execution_count": 46,
   "id": "40dc8d13",
   "metadata": {},
   "outputs": [
    {
     "data": {
      "text/plain": [
       "[1, 5, 3]"
      ]
     },
     "execution_count": 46,
     "metadata": {},
     "output_type": "execute_result"
    }
   ],
   "source": [
    "numbers"
   ]
  },
  {
   "cell_type": "markdown",
   "id": "8c234ff9",
   "metadata": {},
   "source": [
    "When indexing a sequence, remember that Python starts counting at 0. Let's say we have the list:"
   ]
  },
  {
   "cell_type": "code",
   "execution_count": 47,
   "id": "e7fd6212",
   "metadata": {},
   "outputs": [],
   "source": [
    "my_list = [2, 3, 5, 7, 11]"
   ]
  },
  {
   "cell_type": "markdown",
   "id": "409c77e4",
   "metadata": {},
   "source": [
    "We can visualize this list a sequence of elements; each element is in a bin, and it is the *edges* of the bin that we index.\n",
    "\n",
    "![Lorem ipsum](assets/list-indexing.png)"
   ]
  },
  {
   "cell_type": "code",
   "execution_count": 48,
   "id": "20c103bd",
   "metadata": {},
   "outputs": [
    {
     "data": {
      "text/plain": [
       "[2, 3]"
      ]
     },
     "execution_count": 48,
     "metadata": {},
     "output_type": "execute_result"
    }
   ],
   "source": [
    "my_list[0:2]"
   ]
  },
  {
   "cell_type": "markdown",
   "id": "7759cfe9",
   "metadata": {},
   "source": [
    "The index of an element is the left or lower edge of the \"bin\" that holds that number:"
   ]
  },
  {
   "cell_type": "code",
   "execution_count": 49,
   "id": "bdedbeac",
   "metadata": {},
   "outputs": [
    {
     "data": {
      "text/plain": [
       "5"
      ]
     },
     "execution_count": 49,
     "metadata": {},
     "output_type": "execute_result"
    }
   ],
   "source": [
    "my_list[2]"
   ]
  },
  {
   "cell_type": "markdown",
   "id": "3fd92893",
   "metadata": {},
   "source": [
    "What would be the result of the following?\n",
    "\n",
    "```py\n",
    "my_list[2:]\n",
    "```"
   ]
  },
  {
   "cell_type": "markdown",
   "id": "18bd7f81",
   "metadata": {},
   "source": [
    "### Comments"
   ]
  },
  {
   "cell_type": "markdown",
   "id": "2d595e72",
   "metadata": {},
   "source": [
    "So far, we've been typing Python code that we want the interpreter to read and understand. When we start writing longer Python scripts and programs, however, we'll want to include some description of the Python commands we're using. These **comments** can be very useful for helping future readers of the code to understand what is happening.\n",
    "\n",
    "A comment in Python is anything that comes after the hash symbol: `#`"
   ]
  },
  {
   "cell_type": "code",
   "execution_count": 50,
   "id": "e94419f3",
   "metadata": {},
   "outputs": [],
   "source": [
    "# This is a comment"
   ]
  },
  {
   "cell_type": "markdown",
   "id": "474efb3b",
   "metadata": {},
   "source": [
    "Note that the Python interpeter just ignores the comment."
   ]
  },
  {
   "cell_type": "code",
   "execution_count": 51,
   "id": "e3eb932f",
   "metadata": {},
   "outputs": [
    {
     "data": {
      "text/plain": [
       "4"
      ]
     },
     "execution_count": 51,
     "metadata": {},
     "output_type": "execute_result"
    }
   ],
   "source": [
    "# Add 2 and 2 together\n",
    "2 + 2"
   ]
  },
  {
   "cell_type": "markdown",
   "id": "478e2837-9ee2-4a70-a833-3e3d0b4f22c0",
   "metadata": {},
   "source": [
    "---\n",
    "\n",
    "## Break!\n",
    "\n",
    "*A 10-minute break for learners.*"
   ]
  },
  {
   "cell_type": "markdown",
   "id": "61bc17b9",
   "metadata": {},
   "source": [
    "---\n",
    "\n",
    "## Functions"
   ]
  },
  {
   "cell_type": "markdown",
   "id": "4b5526b0",
   "metadata": {},
   "source": [
    "One of the main reasons we program computers to do things for us is because computers are very good at tedious tasks (and humans are not). A block of Python code that does the same thing every time is best defined as **function** in Python. A function is a series of fixed Python statements, with or without input arguments, that are assigned a name so that we can easily call them over and over again.\n",
    "\n",
    "We've already seen the `print()` function."
   ]
  },
  {
   "cell_type": "code",
   "execution_count": 52,
   "id": "98af7138",
   "metadata": {},
   "outputs": [
    {
     "data": {
      "text/plain": [
       "<function print>"
      ]
     },
     "execution_count": 52,
     "metadata": {},
     "output_type": "execute_result"
    }
   ],
   "source": [
    "print"
   ]
  },
  {
   "cell_type": "markdown",
   "id": "74dfc782",
   "metadata": {},
   "source": [
    "Entering the name of the function without parentheses is just like asking Python the value of any variable. Here, Python reports that `print` is a variable name currently assigned to a function with the name `print`.\n",
    "\n",
    "**A function is said to be *called* when we apply the parentheses.** Things inside the parentheses are called *arguments* to the function. Some functions don't require any arguments."
   ]
  },
  {
   "cell_type": "code",
   "execution_count": 53,
   "id": "a98b7acf",
   "metadata": {},
   "outputs": [
    {
     "name": "stdout",
     "output_type": "stream",
     "text": [
      "\n"
     ]
    }
   ],
   "source": [
    "print()"
   ]
  },
  {
   "cell_type": "markdown",
   "id": "8878d9b3",
   "metadata": {},
   "source": [
    "When a function is *called*, the function executes some pre-determined instructions and, if there are any results to be printed to the screen, those are shown.\n",
    "\n",
    "**Let's see how to write our own functions. This will allow us to wrap up our own pre-determined instructions into a function we can easily re-use again and again.**"
   ]
  },
  {
   "cell_type": "code",
   "execution_count": 54,
   "id": "32168c57",
   "metadata": {},
   "outputs": [
    {
     "data": {
      "text/plain": [
       "100"
      ]
     },
     "execution_count": 54,
     "metadata": {},
     "output_type": "execute_result"
    }
   ],
   "source": [
    "def pow10(exponent):\n",
    "    result = 10 ** exponent\n",
    "    return result\n",
    "\n",
    "pow10(2)"
   ]
  },
  {
   "cell_type": "markdown",
   "id": "69a07682",
   "metadata": {},
   "source": [
    "There are few things to note about this example:\n",
    "    \n",
    "- We define a function using the `def` keyword followed by the name of the function and any arguments it takes, written just like we would call the function. This first line is sometimes called the **function signature;** it shows us how the function should be called, as we'll see.\n",
    "- The **body** of the function is in indented code block. The body is what is executed when we call the function.\n",
    "- We use the `return` command to indicate what the **return value** of the function should be: the value we get when we call the function. In this example, the return value of the function is whatever value `result` is currently pointing to. If we don't `return` anything, the function's body is still executed, but we don't necessarily see any output when the function is called.\n",
    "\n",
    "With a function like `pow10()`, which expects an `exponent` argument, what happens if we forget to provide it?"
   ]
  },
  {
   "cell_type": "code",
   "execution_count": 55,
   "id": "37223687",
   "metadata": {},
   "outputs": [
    {
     "ename": "TypeError",
     "evalue": "pow10() missing 1 required positional argument: 'exponent'",
     "output_type": "error",
     "traceback": [
      "\u001b[0;31m---------------------------------------------------------------------------\u001b[0m",
      "\u001b[0;31mTypeError\u001b[0m                                 Traceback (most recent call last)",
      "Cell \u001b[0;32mIn[55], line 1\u001b[0m\n\u001b[0;32m----> 1\u001b[0m \u001b[43mpow10\u001b[49m\u001b[43m(\u001b[49m\u001b[43m)\u001b[49m\n",
      "\u001b[0;31mTypeError\u001b[0m: pow10() missing 1 required positional argument: 'exponent'"
     ]
    }
   ],
   "source": [
    "pow10()"
   ]
  },
  {
   "cell_type": "markdown",
   "id": "a34a6a41",
   "metadata": {},
   "source": [
    "**How can we make a more general version of the function `pow10()`?**"
   ]
  },
  {
   "cell_type": "code",
   "execution_count": 56,
   "id": "076b7e0e",
   "metadata": {},
   "outputs": [
    {
     "data": {
      "text/plain": [
       "100"
      ]
     },
     "execution_count": 56,
     "metadata": {},
     "output_type": "execute_result"
    }
   ],
   "source": [
    "def power(base, exponent):\n",
    "    result = base ** exponent\n",
    "    return result\n",
    "\n",
    "power(10, 2)"
   ]
  },
  {
   "cell_type": "code",
   "execution_count": 57,
   "id": "e24649bd",
   "metadata": {},
   "outputs": [
    {
     "data": {
      "text/plain": [
       "8"
      ]
     },
     "execution_count": 57,
     "metadata": {},
     "output_type": "execute_result"
    }
   ],
   "source": [
    "power(2, 3)"
   ]
  },
  {
   "cell_type": "markdown",
   "id": "af1ca896",
   "metadata": {},
   "source": [
    "(`power()` is actually redundant because there is already a built-in function in Python called `pow()` that does the same thing. But this is just an example of how to write a function.)"
   ]
  },
  {
   "cell_type": "markdown",
   "id": "4d537128",
   "metadata": {},
   "source": [
    "---\n",
    "\n",
    "### Challenge: Writing Your First Function"
   ]
  },
  {
   "cell_type": "markdown",
   "id": "97c5eed6",
   "metadata": {},
   "source": [
    "Write a function to convert latitude-longitude coordinates from Degrees-Minutes-Seconds to Decimal Degrees. The function should work with a single coordinate at a time, i.e., with just latitude or just longitude.\n",
    "\n",
    "*For now, let's pretend you're only working with positive latitude and longitude values.*\n",
    "\n",
    "Below is my solution (write your own, first!)."
   ]
  },
  {
   "cell_type": "code",
   "execution_count": 58,
   "id": "6c3a1b24",
   "metadata": {
    "jupyter": {
     "source_hidden": true
    }
   },
   "outputs": [],
   "source": [
    "def dms_to_dd(degrees, minutes, seconds):\n",
    "    return degrees + (minutes / 60) + (seconds / (60 * 60))"
   ]
  },
  {
   "cell_type": "code",
   "execution_count": 59,
   "id": "4c68de72",
   "metadata": {
    "jupyter": {
     "source_hidden": true
    }
   },
   "outputs": [
    {
     "data": {
      "text/plain": [
       "60.086111111111116"
      ]
     },
     "execution_count": 59,
     "metadata": {},
     "output_type": "execute_result"
    }
   ],
   "source": [
    "dms_to_dd(60, 5, 10)"
   ]
  },
  {
   "cell_type": "markdown",
   "id": "6e6a7adb-d63a-4b62-b773-97fff03f84cc",
   "metadata": {},
   "source": [
    "---"
   ]
  },
  {
   "cell_type": "markdown",
   "id": "d530411c",
   "metadata": {},
   "source": [
    "### Function Composition"
   ]
  },
  {
   "cell_type": "markdown",
   "id": "2f7f923e",
   "metadata": {},
   "source": [
    "Functions allow us to do complex things really quickly and easily. For example, what if we want to round our decimal degrees to a certain number of digits?\n",
    "\n",
    "Python has a built-in function `round()` for rounding numbers... Perhaps we could us this in combination with our new function?"
   ]
  },
  {
   "cell_type": "code",
   "execution_count": 60,
   "id": "be95bf7e",
   "metadata": {},
   "outputs": [
    {
     "data": {
      "text/plain": [
       "60.08611"
      ]
     },
     "execution_count": 60,
     "metadata": {},
     "output_type": "execute_result"
    }
   ],
   "source": [
    "round(dms_to_dd(60, 5, 10), 5)"
   ]
  },
  {
   "cell_type": "markdown",
   "id": "0bbfb136",
   "metadata": {},
   "source": [
    "Let's break this into pieces to see what happened. It's perfectly reasonable to store the output of one function in an intermediate variable if that helps to make things more clear."
   ]
  },
  {
   "cell_type": "code",
   "execution_count": 61,
   "id": "22b22775",
   "metadata": {},
   "outputs": [
    {
     "data": {
      "text/plain": [
       "60.08611"
      ]
     },
     "execution_count": 61,
     "metadata": {},
     "output_type": "execute_result"
    }
   ],
   "source": [
    "dd = dms_to_dd(60, 5, 10)\n",
    "round(dd, 5)"
   ]
  },
  {
   "cell_type": "markdown",
   "id": "3cf68990",
   "metadata": {},
   "source": [
    "**What can you infer about the function signature of `round()`? What are its arguments?**"
   ]
  },
  {
   "cell_type": "markdown",
   "id": "ae6d641c",
   "metadata": {},
   "source": [
    "---\n",
    "\n",
    "## Where to Go For Help?"
   ]
  },
  {
   "cell_type": "code",
   "execution_count": 62,
   "id": "47755d89",
   "metadata": {},
   "outputs": [
    {
     "name": "stdout",
     "output_type": "stream",
     "text": [
      "Help on built-in function round in module builtins:\n",
      "\n",
      "round(number, ndigits=None)\n",
      "    Round a number to a given precision in decimal digits.\n",
      "    \n",
      "    The return value is an integer if ndigits is omitted or None.  Otherwise\n",
      "    the return value has the same type as the number.  ndigits may be negative.\n",
      "\n"
     ]
    }
   ],
   "source": [
    "help(round)"
   ]
  },
  {
   "cell_type": "markdown",
   "id": "726f155c",
   "metadata": {},
   "source": [
    "Also, on [Python.org](https://www.python.org/):\n",
    "\n",
    "- The [Language Reference](https://docs.python.org/3/reference/index.html) describes Python's syntax. Most of it can be hard for a newcomer to read as it is quite formal but there are some useful tables.\n",
    "- The [Library Reference](https://docs.python.org/3/library/index.html) describes [the built-in Python data types](https://docs.python.org/3/library/stdtypes.html) but also built-in packages you might use, like [`datetime`](https://docs.python.org/3/library/datetime.html) (for working with dates and times) or [`csv`](https://docs.python.org/3/library/csv.html) (for working with CSV files)."
   ]
  },
  {
   "cell_type": "markdown",
   "id": "2be38613",
   "metadata": {},
   "source": [
    "---\n",
    "\n",
    "## Conditional Tests\n",
    "\n",
    "Last week, we were introduced to the special Python values `True` and `False`. Today, we'll see how these are used in testing for certain conditions. This will help you to write Python programs that can automatically change their own behavior when certain conditions are met.\n",
    "\n",
    "`True` and `False` are called *logical* or *Boolean* values, named after George Boole. There are also **logical operators** in Python:"
   ]
  },
  {
   "cell_type": "code",
   "execution_count": 63,
   "id": "44a52307",
   "metadata": {},
   "outputs": [
    {
     "data": {
      "text/plain": [
       "True"
      ]
     },
     "execution_count": 63,
     "metadata": {},
     "output_type": "execute_result"
    }
   ],
   "source": [
    "True or False"
   ]
  },
  {
   "cell_type": "code",
   "execution_count": 64,
   "id": "90162244",
   "metadata": {},
   "outputs": [
    {
     "data": {
      "text/plain": [
       "True"
      ]
     },
     "execution_count": 64,
     "metadata": {},
     "output_type": "execute_result"
    }
   ],
   "source": [
    "(1 < 2) and (2 != 4)"
   ]
  },
  {
   "cell_type": "markdown",
   "id": "131c4dcd",
   "metadata": {},
   "source": [
    "Python expressions that evaluate to `True` or `False` are called **conditional expressions.** We usually use them in combination with the `if` and `else` keywords as follows:"
   ]
  },
  {
   "cell_type": "code",
   "execution_count": 65,
   "id": "689fe081",
   "metadata": {},
   "outputs": [
    {
     "name": "stdout",
     "output_type": "stream",
     "text": [
      "Small x!\n"
     ]
    }
   ],
   "source": [
    "x = 3\n",
    "\n",
    "if x < 5:\n",
    "    print(\"Small x!\")\n",
    "else:\n",
    "    print(\"Big x!\")"
   ]
  },
  {
   "cell_type": "markdown",
   "id": "c816b919",
   "metadata": {},
   "source": [
    "**Again, note the importance of indentation in Python.** After the `if` keyword is an indented code block; everything in that code block is executed if and only and if the conditional expression evaluates to `True`.\n",
    "\n",
    "The `else` keyword is *not indented* because it represents the end of the first code block. The `else` keyword defines its own code block following it, which is indented. Everything in the `else` code block is executed if and only if the conditional expression evaluates to `False`.\n",
    "\n",
    "**In general, every time you write a colon, `:`, you'll follow it with an indented code block.**\n",
    "\n",
    "It's not required to use the `else` block:"
   ]
  },
  {
   "cell_type": "code",
   "execution_count": 66,
   "id": "0e38cc42",
   "metadata": {},
   "outputs": [],
   "source": [
    "if x > 100:\n",
    "    print(\"Whoa Nelly\")"
   ]
  },
  {
   "cell_type": "markdown",
   "id": "7e2f87d8",
   "metadata": {},
   "source": [
    "If we want to invert or negate a conditional expression, we use the `not` keyword:"
   ]
  },
  {
   "cell_type": "code",
   "execution_count": 67,
   "id": "32f8af7e",
   "metadata": {},
   "outputs": [
    {
     "data": {
      "text/plain": [
       "False"
      ]
     },
     "execution_count": 67,
     "metadata": {},
     "output_type": "execute_result"
    }
   ],
   "source": [
    "not True"
   ]
  },
  {
   "cell_type": "code",
   "execution_count": 68,
   "id": "23242400",
   "metadata": {},
   "outputs": [
    {
     "data": {
      "text/plain": [
       "True"
      ]
     },
     "execution_count": 68,
     "metadata": {},
     "output_type": "execute_result"
    }
   ],
   "source": [
    "not False"
   ]
  },
  {
   "cell_type": "code",
   "execution_count": 69,
   "id": "5582ba2b",
   "metadata": {},
   "outputs": [
    {
     "name": "stdout",
     "output_type": "stream",
     "text": [
      "Nonzero value\n"
     ]
    }
   ],
   "source": [
    "if not (x == 0):\n",
    "    print(\"Nonzero value\")"
   ]
  },
  {
   "cell_type": "markdown",
   "id": "b4a8a747-f760-493b-8401-2d6cc0bcd72c",
   "metadata": {},
   "source": [
    "A more straight-forward way to write the above might be:"
   ]
  },
  {
   "cell_type": "code",
   "execution_count": 70,
   "id": "881be220-a815-4bab-8862-608ed9e297b2",
   "metadata": {},
   "outputs": [
    {
     "name": "stdout",
     "output_type": "stream",
     "text": [
      "Nonzero value\n"
     ]
    }
   ],
   "source": [
    "if x != 0:\n",
    "    print(\"Nonzero value\")"
   ]
  },
  {
   "cell_type": "markdown",
   "id": "971a7d46",
   "metadata": {},
   "source": [
    "---\n",
    "\n",
    "### Challenge: Testing for Validity\n",
    "\n",
    "If you've written a Python function for others to use, be prepared for them to break it. They might use the function to do something it's not intended to do, or force it to return invalid values.\n",
    "\n",
    "Recall our decimal-degrees conversion function:"
   ]
  },
  {
   "cell_type": "code",
   "execution_count": 71,
   "id": "df6c4193",
   "metadata": {},
   "outputs": [
    {
     "data": {
      "text/plain": [
       "46.86527777777778"
      ]
     },
     "execution_count": 71,
     "metadata": {},
     "output_type": "execute_result"
    }
   ],
   "source": [
    "def dms_to_dd(degrees, minutes, seconds):\n",
    "    return degrees + (minutes / 60) + (seconds / (60 * 60))\n",
    "\n",
    "dms_to_dd(46, 51, 55)"
   ]
  },
  {
   "cell_type": "markdown",
   "id": "04607b59",
   "metadata": {},
   "source": [
    "**Modify this function so that it:**\n",
    "\n",
    "- Tests that `degrees` is a valid latitude (i.e., values between -90 and +90 degrees) or a valid `longitude` (i.e., values between -180 and +180).\n",
    "- Prints a meaningful warning message to the user if `degrees` is not valid.\n",
    "\n",
    "**Bonus:** If you have extra time, validate the other input arguments. Both `minutes` and `seconds` should be in a certain range, right?\n",
    "\n",
    "---"
   ]
  },
  {
   "cell_type": "markdown",
   "id": "f87c7344",
   "metadata": {},
   "source": [
    "## Tests for Identity and Membership\n",
    "\n",
    "There are two other keywords that are often used in conditional expressions."
   ]
  },
  {
   "cell_type": "code",
   "execution_count": 72,
   "id": "cc4a75ac",
   "metadata": {},
   "outputs": [
    {
     "data": {
      "text/plain": [
       "False"
      ]
     },
     "execution_count": 72,
     "metadata": {},
     "output_type": "execute_result"
    }
   ],
   "source": [
    "numbers = [1, 2, 3]\n",
    "\n",
    "5 in numbers"
   ]
  },
  {
   "cell_type": "code",
   "execution_count": 73,
   "id": "cdc5d176",
   "metadata": {},
   "outputs": [
    {
     "data": {
      "text/plain": [
       "True"
      ]
     },
     "execution_count": 73,
     "metadata": {},
     "output_type": "execute_result"
    }
   ],
   "source": [
    "cities = ['Lagos', 'Boston', 'Hyderabad']\n",
    "\n",
    "'Boston' in cities"
   ]
  },
  {
   "cell_type": "markdown",
   "id": "7595e54b",
   "metadata": {},
   "source": [
    "**Note that the `in` keyword here means something different from how we used it before!**"
   ]
  },
  {
   "cell_type": "code",
   "execution_count": 74,
   "id": "f7ba06ca",
   "metadata": {},
   "outputs": [
    {
     "name": "stdout",
     "output_type": "stream",
     "text": [
      "I've been to Lagos\n",
      "I've been to Boston\n",
      "I've been to Hyderabad\n"
     ]
    }
   ],
   "source": [
    "# Where the \"in\" keyword means iterating through a sequence\n",
    "for each_city in cities:\n",
    "    print(\"I've been to \" + each_city)"
   ]
  },
  {
   "cell_type": "markdown",
   "id": "3f48ace1",
   "metadata": {},
   "source": [
    "**The Python interpreter is smart enough to know the difference between these two uses of `in`.** That means you have to be smart enough to know the difference.\n",
    "\n",
    "Finally, there is `is`:"
   ]
  },
  {
   "cell_type": "code",
   "execution_count": 75,
   "id": "3f7eca24",
   "metadata": {},
   "outputs": [
    {
     "data": {
      "text/plain": [
       "True"
      ]
     },
     "execution_count": 75,
     "metadata": {},
     "output_type": "execute_result"
    }
   ],
   "source": [
    "print is print"
   ]
  },
  {
   "cell_type": "markdown",
   "id": "793ee2e8",
   "metadata": {},
   "source": [
    "Is the `print()` function the *same* function as the `print()` function? This seems like a strange use case, right? But `is` can be useful when you want to know if two names refer to the exact same thing.\n",
    "\n",
    "Recall that, in Python, if two names refer to the same thing, that thing is stored only once in memory. So, both names point to the same place in the computer's memory."
   ]
  },
  {
   "cell_type": "code",
   "execution_count": 76,
   "id": "538895fd",
   "metadata": {},
   "outputs": [
    {
     "data": {
      "text/plain": [
       "True"
      ]
     },
     "execution_count": 76,
     "metadata": {},
     "output_type": "execute_result"
    }
   ],
   "source": [
    "x = 5\n",
    "y = 5\n",
    "\n",
    "x is y"
   ]
  },
  {
   "cell_type": "markdown",
   "id": "c8da8690",
   "metadata": {},
   "source": [
    "**This is our test for identity:** `x` and `y` currently point to the *same* value (recall our sticky note metaphor) so that means that `x` and `y` have the same identity.\n",
    "\n",
    "![](./assets/sticky_note_variables2.png)\n",
    "\n",
    "**This is NOT the same as a test for equal value!**"
   ]
  },
  {
   "cell_type": "code",
   "execution_count": 77,
   "id": "c3822c13",
   "metadata": {},
   "outputs": [
    {
     "name": "stderr",
     "output_type": "stream",
     "text": [
      "<>:1: SyntaxWarning: \"is\" with a literal. Did you mean \"==\"?\n",
      "<>:1: SyntaxWarning: \"is\" with a literal. Did you mean \"==\"?\n",
      "/tmp/ipykernel_122373/1783323536.py:1: SyntaxWarning: \"is\" with a literal. Did you mean \"==\"?\n",
      "  5 is 5\n"
     ]
    },
    {
     "data": {
      "text/plain": [
       "True"
      ]
     },
     "execution_count": 77,
     "metadata": {},
     "output_type": "execute_result"
    }
   ],
   "source": [
    "5 is 5"
   ]
  },
  {
   "cell_type": "markdown",
   "id": "ba9d26c2",
   "metadata": {},
   "source": [
    "Here, we get a warning because `5` is not a variable: it cannot be changed, it is always just `5`. This makes a test for identity (using `is`) meaningless. Instead, we need to use the `==` operator to ask the question: \"Does the left-hand side have an equal numeric value to the right-hand side?\""
   ]
  },
  {
   "cell_type": "code",
   "execution_count": 78,
   "id": "be16e0f5",
   "metadata": {},
   "outputs": [
    {
     "data": {
      "text/plain": [
       "True"
      ]
     },
     "execution_count": 78,
     "metadata": {},
     "output_type": "execute_result"
    }
   ],
   "source": [
    "5 == 5"
   ]
  },
  {
   "cell_type": "code",
   "execution_count": 79,
   "id": "17815c43",
   "metadata": {},
   "outputs": [
    {
     "data": {
      "text/plain": [
       "True"
      ]
     },
     "execution_count": 79,
     "metadata": {},
     "output_type": "execute_result"
    }
   ],
   "source": [
    "x == y"
   ]
  },
  {
   "cell_type": "code",
   "execution_count": 80,
   "id": "629f454a",
   "metadata": {},
   "outputs": [
    {
     "data": {
      "text/plain": [
       "False"
      ]
     },
     "execution_count": 80,
     "metadata": {},
     "output_type": "execute_result"
    }
   ],
   "source": [
    "x = 10\n",
    "\n",
    "x == y"
   ]
  },
  {
   "cell_type": "code",
   "execution_count": 81,
   "id": "daf81c13",
   "metadata": {},
   "outputs": [
    {
     "data": {
      "text/plain": [
       "False"
      ]
     },
     "execution_count": 81,
     "metadata": {},
     "output_type": "execute_result"
    }
   ],
   "source": [
    "x is y"
   ]
  },
  {
   "cell_type": "markdown",
   "id": "8548a51f",
   "metadata": {},
   "source": [
    "In summary:\n",
    "\n",
    "- Use `==` when comparing two numbers, whether they are two literal numbers, two variables, or one of each. It is used to answer the question, \"Are these two numeric values equal?\"\n",
    "- You'll rarely use the `is` keyword but, when you do, remember that it should only be used with variables and only for asking the question, \"Does this variable point to what I think it does?\""
   ]
  },
  {
   "cell_type": "markdown",
   "id": "48191836",
   "metadata": {},
   "source": [
    "---\n",
    "\n",
    "## Writing Python Functions\n",
    "\n",
    "Recall that we can use the `return` keyword to specify a function's *return value:*"
   ]
  },
  {
   "cell_type": "code",
   "execution_count": 82,
   "id": "f72c1618",
   "metadata": {},
   "outputs": [
    {
     "data": {
      "text/plain": [
       "100"
      ]
     },
     "execution_count": 82,
     "metadata": {},
     "output_type": "execute_result"
    }
   ],
   "source": [
    "def pow10(exponent):\n",
    "    return 10 ** exponent\n",
    "\n",
    "pow10(2)"
   ]
  },
  {
   "cell_type": "markdown",
   "id": "323c4a9c",
   "metadata": {},
   "source": [
    "In this example, our function generates a new Python value when we call it. This means we can assign the result of the function to a new variable."
   ]
  },
  {
   "cell_type": "code",
   "execution_count": 83,
   "id": "7fbcfd3f",
   "metadata": {},
   "outputs": [
    {
     "data": {
      "text/plain": [
       "1000"
      ]
     },
     "execution_count": 83,
     "metadata": {},
     "output_type": "execute_result"
    }
   ],
   "source": [
    "result = pow10(3)\n",
    "result"
   ]
  },
  {
   "cell_type": "markdown",
   "id": "5cd37550",
   "metadata": {},
   "source": [
    "**What if a function doesn't have a return value? When would that be useful?** Well, we could have a function that is designed to do something only when certain conditions arise."
   ]
  },
  {
   "cell_type": "code",
   "execution_count": 84,
   "id": "2ad681e2",
   "metadata": {},
   "outputs": [],
   "source": [
    "def too_large(number):\n",
    "    if number > 1e9:\n",
    "        print('This number is too big!')\n",
    "        \n",
    "too_large(10)"
   ]
  },
  {
   "cell_type": "markdown",
   "id": "c8ceefaa",
   "metadata": {},
   "source": [
    "What happens if we tried to capture the output of this function?"
   ]
  },
  {
   "cell_type": "code",
   "execution_count": 85,
   "id": "741cd749",
   "metadata": {},
   "outputs": [],
   "source": [
    "result = too_large(10)\n",
    "result"
   ]
  },
  {
   "cell_type": "markdown",
   "id": "0d66cfd2",
   "metadata": {},
   "source": [
    "What is `result` pointing to? Every variable in Python must point to something... Sometimes we can get more information about a Python object by calling the `print()` function on that object, which forces Python to show us a string representation."
   ]
  },
  {
   "cell_type": "code",
   "execution_count": 86,
   "id": "682e9123",
   "metadata": {},
   "outputs": [
    {
     "name": "stdout",
     "output_type": "stream",
     "text": [
      "None\n"
     ]
    }
   ],
   "source": [
    "print(result)"
   ]
  },
  {
   "cell_type": "markdown",
   "id": "830cdd73",
   "metadata": {},
   "source": [
    "What is `None`? Well, `None` is a special Python keyword that simply means \"nothing.\" It's useful to have around when all you have is nothing.\n",
    "\n",
    "This is a great use case for the `is` operator:"
   ]
  },
  {
   "cell_type": "code",
   "execution_count": 87,
   "id": "5c87e7ed",
   "metadata": {},
   "outputs": [
    {
     "data": {
      "text/plain": [
       "True"
      ]
     },
     "execution_count": 87,
     "metadata": {},
     "output_type": "execute_result"
    }
   ],
   "source": [
    "result is None"
   ]
  },
  {
   "cell_type": "markdown",
   "id": "cdf72b1b",
   "metadata": {},
   "source": [
    "Besides the example of a function that prints information to the user, we haven't really learned enough programming to examine meaningful use cases where a function doesn't have a return value. Until then, we should probably only write functions that have a return value. \n",
    "\n",
    "**This is because, in most cases, functions without a `return` value are useless!**"
   ]
  },
  {
   "cell_type": "markdown",
   "id": "393494e1",
   "metadata": {},
   "source": [
    "### Functions without Arguments"
   ]
  },
  {
   "cell_type": "markdown",
   "id": "e8cdbe20",
   "metadata": {},
   "source": [
    "What do you suppose this function does?"
   ]
  },
  {
   "cell_type": "code",
   "execution_count": 88,
   "id": "47dbe81a",
   "metadata": {},
   "outputs": [],
   "source": [
    "x = 5\n",
    "\n",
    "def square():\n",
    "    my_result = x**2"
   ]
  },
  {
   "cell_type": "markdown",
   "id": "574f7b0b",
   "metadata": {},
   "source": [
    "You might have guessed that it will change the value of `x`; theoretically, there could be a valid reason to change the value of a variable simply by calling a function. In reality, it's confusing: **How do we know what `x` inside the function refers to?**\n",
    "\n",
    "What's worse, this function doesn't even work as expected."
   ]
  },
  {
   "cell_type": "code",
   "execution_count": 89,
   "id": "6e039b3c",
   "metadata": {},
   "outputs": [
    {
     "ename": "NameError",
     "evalue": "name 'my_result' is not defined",
     "output_type": "error",
     "traceback": [
      "\u001b[0;31m---------------------------------------------------------------------------\u001b[0m",
      "\u001b[0;31mNameError\u001b[0m                                 Traceback (most recent call last)",
      "Cell \u001b[0;32mIn[89], line 3\u001b[0m\n\u001b[1;32m      1\u001b[0m square()\n\u001b[0;32m----> 3\u001b[0m \u001b[43mmy_result\u001b[49m\n",
      "\u001b[0;31mNameError\u001b[0m: name 'my_result' is not defined"
     ]
    }
   ],
   "source": [
    "square()\n",
    "\n",
    "my_result"
   ]
  },
  {
   "cell_type": "markdown",
   "id": "8fe41d68-ab65-42f8-b994-2c34778b48f4",
   "metadata": {},
   "source": [
    "The variable `my_result` isn't actually available outside of the `square()` function. This is because of something called **function scope:** variables defined within a function are generally only available inside that function.\n",
    "\n",
    "Variables defined *outside* a function can be used inside that function, as we saw with `x` above. However, this is risky, because we define a lot of variables when we're working with Python and it may not be clear what a variable currently refers to when a function is called. Consider this version of the `square()` function:"
   ]
  },
  {
   "cell_type": "code",
   "execution_count": 90,
   "id": "1b3540b3-eb8e-4e94-b534-01c2a6dbb40d",
   "metadata": {},
   "outputs": [
    {
     "data": {
      "text/plain": [
       "25"
      ]
     },
     "execution_count": 90,
     "metadata": {},
     "output_type": "execute_result"
    }
   ],
   "source": [
    "x = 5\n",
    "\n",
    "def square():\n",
    "    return x**2\n",
    "\n",
    "square()"
   ]
  },
  {
   "cell_type": "code",
   "execution_count": 91,
   "id": "0d29c037-922f-4f87-8880-d601080e6330",
   "metadata": {},
   "outputs": [
    {
     "data": {
      "text/plain": [
       "49"
      ]
     },
     "execution_count": 91,
     "metadata": {},
     "output_type": "execute_result"
    }
   ],
   "source": [
    "x = 7\n",
    "square()"
   ]
  },
  {
   "cell_type": "markdown",
   "id": "9b2c796f-89d9-413d-b140-0e47dbfff88e",
   "metadata": {},
   "source": [
    "**You don't want to write functions like this.**\n",
    "\n",
    "**A function's behavior should be determined only by its input arguments.** In rare cases, we might have global variables defined that modify a function's behavior, but these variables should be defined in a certain way and never change their value. Consider this example."
   ]
  },
  {
   "cell_type": "code",
   "execution_count": 92,
   "id": "bc80c186-9db5-4a0a-aceb-fcf64497f678",
   "metadata": {},
   "outputs": [],
   "source": [
    "ZERO_DEGREES_CELSIUS = 273.15 # 0 deg C in Kelvin\n",
    "\n",
    "def convert(temp):\n",
    "    return temp + ZERO_DEGREES_CELSIUS"
   ]
  },
  {
   "cell_type": "markdown",
   "id": "f2b4d132-73bc-41cb-bbe5-26157f49c738",
   "metadata": {},
   "source": [
    "Here, the return value of the `convert()` function depends on a variable defined outside of the function, not just the input argument `temp.` But the variable `ZERO_DEGREES_CELSIUS` should never be changed because it wouldn't make sense for it to have any other value. We use all capital letters to define this variable so it's clear that it's a special variable."
   ]
  },
  {
   "cell_type": "markdown",
   "id": "dc9e8cc8",
   "metadata": {},
   "source": [
    "### Functions with Default Arguments"
   ]
  },
  {
   "cell_type": "markdown",
   "id": "fc41035e",
   "metadata": {},
   "source": [
    "Let's return to the decimal degrees example. "
   ]
  },
  {
   "cell_type": "code",
   "execution_count": 93,
   "id": "36b9c5d8",
   "metadata": {},
   "outputs": [],
   "source": [
    "def dms_to_dd(degrees, minutes, seconds):\n",
    "    return degrees + (minutes / 60) + (seconds / (60 * 60))"
   ]
  },
  {
   "cell_type": "markdown",
   "id": "50139b3c",
   "metadata": {},
   "source": [
    "What if we were doing a lot of conversions and we wanted to leave out the `seconds`? It's tedious to have to enter all three numbers if we really don't care about the `seconds`, and tedium is exactly what we're trying to avoid by computing!"
   ]
  },
  {
   "cell_type": "code",
   "execution_count": 94,
   "id": "ad3d7844",
   "metadata": {},
   "outputs": [
    {
     "ename": "TypeError",
     "evalue": "dms_to_dd() missing 1 required positional argument: 'seconds'",
     "output_type": "error",
     "traceback": [
      "\u001b[0;31m---------------------------------------------------------------------------\u001b[0m",
      "\u001b[0;31mTypeError\u001b[0m                                 Traceback (most recent call last)",
      "Cell \u001b[0;32mIn[94], line 1\u001b[0m\n\u001b[0;32m----> 1\u001b[0m \u001b[43mdms_to_dd\u001b[49m\u001b[43m(\u001b[49m\u001b[38;5;241;43m60\u001b[39;49m\u001b[43m,\u001b[49m\u001b[43m \u001b[49m\u001b[38;5;241;43m30\u001b[39;49m\u001b[43m)\u001b[49m\n",
      "\u001b[0;31mTypeError\u001b[0m: dms_to_dd() missing 1 required positional argument: 'seconds'"
     ]
    }
   ],
   "source": [
    "dms_to_dd(60, 30)"
   ]
  },
  {
   "cell_type": "markdown",
   "id": "15aa6855",
   "metadata": {},
   "source": [
    "What we need is a way to tell Python that one or more of the arguments are *optional.* One way to do that is to supply a **default value** for the argument(s) when we're writing the function.\n",
    "\n",
    "**What's a good default value for `seconds` if we want to ignore that part of converting to decimal degrees?**"
   ]
  },
  {
   "cell_type": "code",
   "execution_count": 95,
   "id": "be45f0d4",
   "metadata": {},
   "outputs": [],
   "source": [
    "def dms_to_dd(degrees, minutes, seconds = 0):\n",
    "    return degrees + (minutes / 60) + (seconds / (60 * 60))"
   ]
  },
  {
   "cell_type": "code",
   "execution_count": 96,
   "id": "ee338e2c",
   "metadata": {},
   "outputs": [
    {
     "data": {
      "text/plain": [
       "60.5"
      ]
     },
     "execution_count": 96,
     "metadata": {},
     "output_type": "execute_result"
    }
   ],
   "source": [
    "dms_to_dd(60, 30)"
   ]
  },
  {
   "cell_type": "code",
   "execution_count": 97,
   "id": "34b06a38",
   "metadata": {},
   "outputs": [
    {
     "data": {
      "text/plain": [
       "60.50694444444444"
      ]
     },
     "execution_count": 97,
     "metadata": {},
     "output_type": "execute_result"
    }
   ],
   "source": [
    "dms_to_dd(60, 30, 25)"
   ]
  },
  {
   "cell_type": "markdown",
   "id": "f6bacee5",
   "metadata": {},
   "source": [
    "**What if we don't have a default value in mind? What if the optional argument could be left off entirely?** For example:"
   ]
  },
  {
   "cell_type": "code",
   "execution_count": 98,
   "id": "88fd6c2a",
   "metadata": {},
   "outputs": [],
   "source": [
    "def dms_to_dd(degrees, minutes, seconds = 0, precision = None):\n",
    "    dd = degrees + (minutes / 60) + (seconds / (60 * 60))\n",
    "    if precision is None:\n",
    "        return dd\n",
    "    else:\n",
    "        return round(dd, precision)"
   ]
  },
  {
   "cell_type": "code",
   "execution_count": 99,
   "id": "b89ceeb2",
   "metadata": {},
   "outputs": [
    {
     "data": {
      "text/plain": [
       "24.133333333333333"
      ]
     },
     "execution_count": 99,
     "metadata": {},
     "output_type": "execute_result"
    }
   ],
   "source": [
    "dms_to_dd(24, 8)"
   ]
  },
  {
   "cell_type": "code",
   "execution_count": 100,
   "id": "4645bd37",
   "metadata": {},
   "outputs": [
    {
     "data": {
      "text/plain": [
       "24.13333"
      ]
     },
     "execution_count": 100,
     "metadata": {},
     "output_type": "execute_result"
    }
   ],
   "source": [
    "dms_to_dd(24, 8, precision = 5)"
   ]
  },
  {
   "cell_type": "markdown",
   "id": "805c2faf",
   "metadata": {},
   "source": [
    "---\n",
    "\n",
    "## More Resources\n",
    "\n",
    "- Programming Historian: [Jupyter Notebooks](http://programminghistorian.org/en/lessons/jupyter-notebooks)\n",
    "- Whirlwind Tour of Python: [How to Run Python Code](https://nbviewer.org/github/jakevdp/WhirlwindTourOfPython/blob/master/01-How-to-Run-Python-Code.ipynb)\n",
    "- [The Python Standard library](https://docs.python.org/3/library/index.html)"
   ]
  }
 ],
 "metadata": {
  "kernelspec": {
   "display_name": "Python 3 (ipykernel)",
   "language": "python",
   "name": "python3"
  },
  "language_info": {
   "codemirror_mode": {
    "name": "ipython",
    "version": 3
   },
   "file_extension": ".py",
   "mimetype": "text/x-python",
   "name": "python",
   "nbconvert_exporter": "python",
   "pygments_lexer": "ipython3",
   "version": "3.10.12"
  }
 },
 "nbformat": 4,
 "nbformat_minor": 5
}
