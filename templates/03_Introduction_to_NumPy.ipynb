{
 "cells": [
  {
   "cell_type": "markdown",
   "id": "cd60789e",
   "metadata": {},
   "source": [
    "# Numerical Data in Python\n",
    "\n",
    "*2 hours*\n",
    "\n",
    "**Contents:**\n",
    "\n",
    "- [Introducing NumPy](#Introducing-NumPy)\n",
    "- [Working with NumPy Arrays](#Working-with-NumPy-Arrays)\n",
    "- [Calculations on NumPy Arrays](#Calculations-on-NumPy-Arrays)\n",
    "- [Sorting and Filtering Arrays](#Sorting-and-Filtering-Arrays)\n",
    "- [Reshaping Arrays](#Reshaping-Arrays)\n",
    "- [Plotting with `matplotlib`](#Plotting-with-matplotlib)"
   ]
  },
  {
   "cell_type": "markdown",
   "id": "a05a0343",
   "metadata": {},
   "source": [
    "---\n",
    "\n",
    "## Introducting NumPy"
   ]
  },
  {
   "cell_type": "code",
   "execution_count": null,
   "id": "994cb2a0-3d29-4a75-8639-e99348787c98",
   "metadata": {},
   "outputs": [],
   "source": []
  },
  {
   "cell_type": "markdown",
   "id": "515836b8",
   "metadata": {},
   "source": [
    "---"
   ]
  },
  {
   "cell_type": "markdown",
   "id": "9dbda277",
   "metadata": {},
   "source": [
    "## Working with NumPy Arrays"
   ]
  },
  {
   "cell_type": "markdown",
   "id": "03fc3d96",
   "metadata": {},
   "source": [
    "For the rest of this lesson, we'll be working with [data on near-surface air temperatures from the NOAA Center for Climate Prediction (CPC).](http://iridl.ldeo.columbia.edu/SOURCES/.NOAA/.NCEP/.CPC/.GHCN_CAMS/.gridded/.deg0p5/index.html) \n",
    "\n",
    "Though the CPC has the word \"prediction\" in its name, it also performs what are called *re-analyses,* where historical climate data are reproduced by combining weather station data with computer models. Here, we use a re-analysis of the past 75 years of air temperatures across the globe.\n",
    "\n",
    "**I subset these data to the city of Algiers, Algeria.**"
   ]
  },
  {
   "cell_type": "code",
   "execution_count": null,
   "id": "4c59d4c1",
   "metadata": {},
   "outputs": [],
   "source": [
    "import pandas as pd\n",
    "\n",
    "temps = pd.read_csv(\n",
    "    'http://files.ntsg.umt.edu/data/GIS_Programming/data/NOAA_NCEP_CPC_gridded_deg0p5_1948-2022_Algiers.txt',\n",
    "    header = None).to_numpy()"
   ]
  },
  {
   "cell_type": "code",
   "execution_count": null,
   "id": "70cde8c6-40dc-46bc-b2f0-e243c4150824",
   "metadata": {},
   "outputs": [],
   "source": []
  },
  {
   "cell_type": "code",
   "execution_count": null,
   "id": "964a17e4-3fa6-4bab-9f88-e5f426bd98a7",
   "metadata": {},
   "outputs": [],
   "source": []
  },
  {
   "cell_type": "code",
   "execution_count": null,
   "id": "d7004cec-b2ee-4273-b8e2-dadca0f61f08",
   "metadata": {},
   "outputs": [],
   "source": []
  },
  {
   "cell_type": "code",
   "execution_count": null,
   "id": "a503762f",
   "metadata": {},
   "outputs": [],
   "source": [
    "data = np.array([[1, 2], [3, 4], [5, 6]])\n",
    "data"
   ]
  },
  {
   "cell_type": "markdown",
   "id": "7f01c9b0",
   "metadata": {},
   "source": [
    "![](numpy-matrix-indexing.png)\n",
    "\n",
    "*Image is from a presentation by Mauricio Sevilla.*"
   ]
  },
  {
   "cell_type": "markdown",
   "id": "f2b7f1f4",
   "metadata": {},
   "source": [
    "---"
   ]
  },
  {
   "cell_type": "markdown",
   "id": "be53c109",
   "metadata": {},
   "source": [
    "### Challenge: Working with Multi-dimensional Arrays"
   ]
  },
  {
   "cell_type": "markdown",
   "id": "ab791618",
   "metadata": {},
   "source": [
    "1. What's the average July temperature in Algiers over the years?\n",
    "2. What was the minimum monthly temperature in 1979? Recall that the years of this data extend from 1948 through 2022."
   ]
  },
  {
   "cell_type": "markdown",
   "id": "8eb5567b",
   "metadata": {},
   "source": [
    "---"
   ]
  },
  {
   "cell_type": "markdown",
   "id": "b6538a72",
   "metadata": {},
   "source": [
    "## Calculations on NumPy Arrays"
   ]
  },
  {
   "cell_type": "code",
   "execution_count": null,
   "id": "82e4ed4d-8940-4f08-a6bb-8bccffd48503",
   "metadata": {},
   "outputs": [],
   "source": []
  },
  {
   "cell_type": "code",
   "execution_count": null,
   "id": "cc72d9de-3488-49a8-95c0-0108eddd2dfd",
   "metadata": {},
   "outputs": [],
   "source": []
  },
  {
   "cell_type": "code",
   "execution_count": null,
   "id": "6b2b72e3-16f5-4762-9db3-18e85e7b8003",
   "metadata": {},
   "outputs": [],
   "source": []
  },
  {
   "cell_type": "markdown",
   "id": "450d1733",
   "metadata": {},
   "source": [
    "It can be very difficult to remember what `axis` to use in calculating a summary... Here's a helpful visual representation.\n",
    "\n",
    "![](numpy-axis.jpg)\n",
    "\n",
    "*Image courtesy of Alex Riley*"
   ]
  },
  {
   "cell_type": "markdown",
   "id": "3bca9833",
   "metadata": {},
   "source": [
    "---"
   ]
  },
  {
   "cell_type": "markdown",
   "id": "0f57cbd7",
   "metadata": {},
   "source": [
    "### Challenge: Statistical Summary of an Array"
   ]
  },
  {
   "cell_type": "markdown",
   "id": "2a7b29f5",
   "metadata": {},
   "source": [
    "What's the minimum, maximum, and mean monthly temperature for August in Algiers?"
   ]
  },
  {
   "cell_type": "markdown",
   "id": "387ff079",
   "metadata": {},
   "source": [
    "---"
   ]
  },
  {
   "cell_type": "markdown",
   "id": "e981b6e6",
   "metadata": {},
   "source": [
    "## Break!\n",
    "\n",
    "*A 10-minute break for learners.*"
   ]
  },
  {
   "cell_type": "markdown",
   "id": "6630de65",
   "metadata": {},
   "source": [
    "---\n",
    "\n",
    "## Sorting and Filtering Arrays"
   ]
  },
  {
   "cell_type": "code",
   "execution_count": null,
   "id": "4e1d4691-53cd-4b3d-a60a-c9b1f2daa19e",
   "metadata": {},
   "outputs": [],
   "source": []
  },
  {
   "cell_type": "markdown",
   "id": "c6619bb0",
   "metadata": {},
   "source": [
    "---"
   ]
  },
  {
   "cell_type": "markdown",
   "id": "1fcd1972",
   "metadata": {},
   "source": [
    "## Reshaping Arrays"
   ]
  },
  {
   "cell_type": "code",
   "execution_count": null,
   "id": "7d4f7709-7d18-494a-88a9-4f5f5b4fdf3a",
   "metadata": {},
   "outputs": [],
   "source": []
  },
  {
   "cell_type": "markdown",
   "id": "3b244e33",
   "metadata": {},
   "source": [
    "---"
   ]
  },
  {
   "cell_type": "markdown",
   "id": "ec716d88",
   "metadata": {},
   "source": [
    "## Plotting with matplotlib"
   ]
  },
  {
   "cell_type": "code",
   "execution_count": null,
   "id": "2f6a42d9-e766-4978-9c93-dc587acf1286",
   "metadata": {},
   "outputs": [],
   "source": []
  },
  {
   "cell_type": "code",
   "execution_count": null,
   "id": "1440a47d-bc94-4cff-9b1e-7a2b1c1577bc",
   "metadata": {},
   "outputs": [],
   "source": []
  },
  {
   "cell_type": "code",
   "execution_count": null,
   "id": "40daa97a-ad87-4eb6-8aa6-24e121a26a73",
   "metadata": {},
   "outputs": [],
   "source": []
  },
  {
   "cell_type": "code",
   "execution_count": null,
   "id": "100bec03",
   "metadata": {},
   "outputs": [],
   "source": [
    "pyplot.plot(years, avg_temp)\n",
    "pyplot.xlabel('Year')\n",
    "pyplot.ylabel('Mean Monthly Temperature (deg C)')\n",
    "pyplot.show()"
   ]
  },
  {
   "cell_type": "code",
   "execution_count": null,
   "id": "60559992",
   "metadata": {},
   "outputs": [],
   "source": [
    "pyplot.plot(years, avg_temp)\n",
    "pyplot.xlabel('Year')\n",
    "pyplot.ylabel('Mean Monthly Temperature (deg C)')\n",
    "pyplot.xlim(1948, 2000)\n",
    "pyplot.show()"
   ]
  },
  {
   "cell_type": "markdown",
   "id": "5ea524fd",
   "metadata": {},
   "source": [
    "---"
   ]
  },
  {
   "cell_type": "markdown",
   "id": "6dfcd9c4",
   "metadata": {},
   "source": [
    "## More Resources"
   ]
  },
  {
   "cell_type": "markdown",
   "id": "5c4b7746",
   "metadata": {},
   "source": [
    "- [Visual introduction to NumPy](https://jmsevillam.github.io/slides/Python/Numpy.slides.html#/)"
   ]
  }
 ],
 "metadata": {
  "kernelspec": {
   "display_name": "Python 3 (ipykernel)",
   "language": "python",
   "name": "python3"
  },
  "language_info": {
   "codemirror_mode": {
    "name": "ipython",
    "version": 3
   },
   "file_extension": ".py",
   "mimetype": "text/x-python",
   "name": "python",
   "nbconvert_exporter": "python",
   "pygments_lexer": "ipython3",
   "version": "3.10.12"
  }
 },
 "nbformat": 4,
 "nbformat_minor": 5
}
